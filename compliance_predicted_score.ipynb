{
 "cells": [
  {
   "cell_type": "code",
   "execution_count": 833,
   "metadata": {},
   "outputs": [],
   "source": [
    "import pandas as pd\n",
    "import pypyodbc as py\n",
    "import xlsxwriter\n",
    "import gspread\n",
    "import gspread_dataframe as gd\n",
    "from gspread_dataframe import get_as_dataframe, set_with_dataframe\n",
    "from oauth2client.service_account import ServiceAccountCredentials\n",
    "from df2gspread import df2gspread as d2g \n",
    "from pprint import pprint\n",
    "from googleapiclient import discovery\n",
    "import pypyodbc \n",
    "import numpy as np \n",
    "import sqlalchemy \n",
    "import urllib \n",
    "import time \n",
    "import datetime as dt\n",
    "from datetime import datetime\n",
    "import pymssql\n",
    "import calendar\n",
    "from google.oauth2 import service_account\n",
    "import pygsheets\n",
    "from datetime import timedelta\n",
    "import matplotlib.pyplot as plt\n",
    "import seaborn as sns\n",
    "import pygsheets\n",
    "import json\n",
    "from google.oauth2 import service_account"
   ]
  },
  {
   "cell_type": "code",
   "execution_count": 1118,
   "metadata": {},
   "outputs": [],
   "source": [
    "from sklearn.preprocessing import StandardScaler,MinMaxScaler,PolynomialFeatures,RobustScaler\n",
    "from sklearn.model_selection import train_test_split\n",
    "from sklearn.linear_model import LinearRegression,Lasso,Ridge,ElasticNet\n",
    "from sklearn.linear_model import LassoCV,RidgeCV,ElasticNetCV\n",
    "from sklearn.feature_selection import RFE\n",
    "from sklearn.model_selection import GridSearchCV,KFold,RandomizedSearchCV,StratifiedKFold,cross_val_score\n",
    "from sklearn.metrics import r2_score\n",
    "sns.set_context(\"paper\", font_scale = 1, rc={\"grid.linewidth\": 3})\n",
    "pd.set_option('display.max_rows', 100, 'display.max_columns', 400)\n",
    "from scipy.stats import skew,boxcox_normmax\n",
    "from scipy.special import boxcox1p\n",
    "from sklearn.pipeline import make_pipeline\n",
    "from sklearn.metrics import mean_squared_error\n",
    "from sklearn.svm import SVR\n",
    "from sklearn.ensemble import GradientBoostingRegressor\n",
    "import statsmodels.api as sm"
   ]
  },
  {
   "cell_type": "code",
   "execution_count": 834,
   "metadata": {},
   "outputs": [
    {
     "name": "stdout",
     "output_type": "stream",
     "text": [
      "Connected to SQL server: DWH\n"
     ]
    }
   ],
   "source": [
    "# Connect to DB\n",
    "db = py.connect(\"Driver={ODBC Driver 17 for SQL Server};\"\n",
    "                        \"Server=103.69.193.246;\"\n",
    "                        \"Database=dwh;\"\n",
    "                        \"uid=dwh;pwd=F88!23456789\")\n",
    "print('Connected to SQL server: DWH')"
   ]
  },
  {
   "cell_type": "code",
   "execution_count": 835,
   "metadata": {},
   "outputs": [],
   "source": [
    "with open(r'D:\\F88\\Python code\\Immediate_warning\\service_account.json') as source:\n",
    "    info = json.load(source)\n",
    "credentials = service_account.Credentials.from_service_account_info(info)\n",
    "\n",
    "client = pygsheets.authorize(service_account_file=r'D:\\F88\\Python code\\Immediate_warning\\service_account.json')\n",
    "\n",
    "shop_id='1OCzHxTE7Er8_W1-IT92rTOCISAlufFOjcwtw2eIX0tU'\n",
    "shop_wb=client.open_by_key(shop_id)\n",
    "shop_detail_new=shop_wb.worksheet_by_title('Everything').get_as_df()"
   ]
  },
  {
   "cell_type": "code",
   "execution_count": 836,
   "metadata": {},
   "outputs": [],
   "source": [
    "# QLKV, miền\n",
    "shop_id_mkt='1ZTQE_pfBCAUr-0GSMPJBqtCyZVxX4hdiPuT_RDrdjeQ'\n",
    "shop_wb_mkt=client.open_by_key(shop_id_mkt)\n",
    "shop_detail_mkt=shop_wb_mkt.worksheet_by_title('shop_detail').get_as_df()"
   ]
  },
  {
   "cell_type": "code",
   "execution_count": 837,
   "metadata": {},
   "outputs": [],
   "source": [
    "shop_detail_mkt = shop_detail_mkt[['Mã PGD', 'QLKV']]"
   ]
  },
  {
   "cell_type": "code",
   "execution_count": 1158,
   "metadata": {},
   "outputs": [],
   "source": [
    "scope = [\"https://spreadsheets.google.com/feeds\",'https://www.googleapis.com/auth/spreadsheets',\"https://www.googleapis.com/auth/drive.file\",\"https://www.googleapis.com/auth/drive\"]\n",
    "credentials = ServiceAccountCredentials.from_json_keyfile_name(r'D:\\F88\\Python code\\Immediate_warning\\service_account.json', scope)\n",
    "gc = gspread.authorize(credentials)\n",
    "\n",
    "client = pygsheets.authorize(service_account_file=r'D:\\F88\\Python code\\Immediate_warning\\service_account.json')\n",
    "\n",
    "#Lấy ID và truy cập wb Backup\n",
    "backup_ss_id='1iYODUg3bS0JlRzkuq-cnrVZYXJgcNGAa2Wj7i2McHIc'\n",
    "backup_wb=gc.open_by_key(backup_ss_id)\n",
    "\n",
    "#Lấy ID và truy cập wb Warning.Control\n",
    "control_ssheet_id= '1-XjnJNeEwEuk13_xQjmewvZ6aAXFRXSlcEcQpaOq3vE' \n",
    "control_wb=gc.open_by_key(control_ssheet_id)\n",
    "\n",
    "#Function chuyển sheet thành Data Frame\n",
    "def to_dataframe(wb_name,sheet_name,data_row,col):\n",
    "    a=wb_name.worksheet(sheet_name).get_all_values()\n",
    "    return pd.DataFrame(data=a[data_row:],columns=a[col])\n",
    "\n",
    "#Funtion update data vào sheet wb_name:tên wb,target_sheet: tên sheet cần update; data:dữ liệu muốn update\n",
    "def update_data(wb_name,target_sheet,data):\n",
    "    existing =to_dataframe(wb_name,target_sheet,1,0)\n",
    "    updated = existing.append(data,sort=False)\n",
    "    gd.set_with_dataframe(wb_name.worksheet(target_sheet),updated)\n",
    "\n",
    "# Function ghi đè dữ liệu lên gg sheet\n",
    "def write_data(wb_name,ws_name,ws_range,data):\n",
    "    wb_name.values_clear(ws_range)\n",
    "    sheet=wb_name.worksheet(ws_name)\n",
    "    set_with_dataframe(sheet,data)\n",
    "    print('Đã ghi dữ liệu lên sheet '+ ws_name)\n",
    "\n",
    "#Function backup data các HĐ đã check\n",
    "def back_up_data(data):\n",
    "    update_data(backup_wb,'backup',data[['codeno','reason_check','shopcode','year_month']])\n",
    "    short_list=to_dataframe(control_wb,'short_list',1,0)"
   ]
  },
  {
   "cell_type": "code",
   "execution_count": 839,
   "metadata": {},
   "outputs": [],
   "source": [
    "# Lấy ID shopdetail\n",
    "shop_detail_id='1ZTQE_pfBCAUr-0GSMPJBqtCyZVxX4hdiPuT_RDrdjeQ'\n",
    "shop_detail_wb=gc.open_by_key(shop_detail_id)\n",
    "shop_qlkv_region=to_dataframe(shop_detail_wb,'shop_detail',1,0)"
   ]
  },
  {
   "cell_type": "code",
   "execution_count": 771,
   "metadata": {},
   "outputs": [],
   "source": [
    "shop_qlkv_region =shop_qlkv_region[['Mã PGD','Miền','QLKV']]"
   ]
  },
  {
   "cell_type": "code",
   "execution_count": 772,
   "metadata": {},
   "outputs": [],
   "source": [
    "check_date= dt.date.today()+dt.timedelta(days=-2)\n",
    "\n",
    "check_date = check_date.strftime('%Y-%m-%d')"
   ]
  },
  {
   "cell_type": "code",
   "execution_count": 773,
   "metadata": {},
   "outputs": [],
   "source": [
    "dic_date = {'key':1, 'extract_date':[check_date]}"
   ]
  },
  {
   "cell_type": "code",
   "execution_count": 774,
   "metadata": {},
   "outputs": [],
   "source": [
    "date_table = pd.DataFrame.from_dict(dic_date)"
   ]
  },
  {
   "cell_type": "code",
   "execution_count": 1210,
   "metadata": {},
   "outputs": [],
   "source": [
    "shop_infor = pd.read_sql_query(\"\"\"Declare @check_date date = '\"\"\"+check_date+\"\"\"'\n",
    "select  sd2.code shopcode, sd2.name shopname, sd2.OpenDate\n",
    "from (select distinct(sd.shopcode) shop_code\n",
    "from (SELECT case when code = 'SGN0120' then 'SGN0147'\n",
    "when code = 'SG2046' then 'SGN0126'\n",
    "when code = 'SGN0107' then 'SG2014'\n",
    "else code end shopcode\n",
    "  FROM [dwh].[dbo].[ShopDetail]\n",
    "  where code not in ('TEST','HS', 'F88LUX','HNLTK','HNIXLN01','SGNXLN01','HNBM1','HOISO')) sd\n",
    "  left join (select shopcode, max(fromdate) max_cre\n",
    "\tfrom [dwh].[dbo].pawn group by shopcode) pa on pa.shopcode = sd.shopcode\n",
    "\twhere pa.max_cre >= dateadd(d, -2, @check_date)) main\n",
    "left join [dwh].[dbo].[ShopDetail] sd2 on main.shop_code = sd2.code\"\"\", db)"
   ]
  },
  {
   "cell_type": "code",
   "execution_count": 1211,
   "metadata": {},
   "outputs": [],
   "source": [
    "shop_infor = shop_infor.merge(shop_detail_new[['Mã PGD','Tỉnh/TP', 'Vĩ độ', 'Kinh độ', 'Vùng/Miền']], left_on = 'shopcode', right_on = 'Mã PGD', how = 'left')"
   ]
  },
  {
   "cell_type": "code",
   "execution_count": 1212,
   "metadata": {},
   "outputs": [],
   "source": [
    "# province_list_id\n",
    "scope = [\"https://spreadsheets.google.com/feeds\",'https://www.googleapis.com/auth/spreadsheets',\"https://www.googleapis.com/auth/drive.file\",\"https://www.googleapis.com/auth/drive\"]\n",
    "credentials = ServiceAccountCredentials.from_json_keyfile_name(r'D:\\F88\\Python code\\Immediate_warning\\service_account.json', scope)\n",
    "gc = gspread.authorize(credentials)\n",
    "fault_group_id='1X7m2UnrVh909OKk9YOkxcIB455GPwTpAAcWGHIBn6_c'\n",
    "fault_group_wb=gc.open_by_key(fault_group_id)\n",
    "province_id = to_dataframe(fault_group_wb, 'province_list',1,0)"
   ]
  },
  {
   "cell_type": "code",
   "execution_count": 1213,
   "metadata": {},
   "outputs": [],
   "source": [
    "shop_infor['key'] = 1\n",
    "\n",
    "shop_infor = shop_infor.merge(date_table, on = 'key', how = 'left')"
   ]
  },
  {
   "cell_type": "code",
   "execution_count": 1214,
   "metadata": {},
   "outputs": [],
   "source": [
    "shop_infor['yearmonth'] = [''.join(x.split('-')[0:2]) for x in shop_infor['extract_date']]"
   ]
  },
  {
   "cell_type": "code",
   "execution_count": 1215,
   "metadata": {},
   "outputs": [],
   "source": [
    "shop_infor = shop_infor.merge(province_id, left_on = ['yearmonth','Tỉnh/TP'], right_on = ['yearmonth','province_name'], how = 'left')"
   ]
  },
  {
   "cell_type": "code",
   "execution_count": 1216,
   "metadata": {},
   "outputs": [],
   "source": [
    "# shop_age_month = shop_age_month.merge(staff_tenure, on= ['thang', 'shopcode'], how = 'left')"
   ]
  },
  {
   "cell_type": "code",
   "execution_count": 1217,
   "metadata": {},
   "outputs": [],
   "source": [
    "# shop_qlkv_region =shop_qlkv_region[['Mã PGD','Miền','QLKV']]"
   ]
  },
  {
   "cell_type": "markdown",
   "metadata": {},
   "source": [
    "WRITEOFF LIST"
   ]
  },
  {
   "cell_type": "code",
   "execution_count": 1218,
   "metadata": {},
   "outputs": [],
   "source": [
    "# #  ID writeoff\n",
    "writeoff_id = '15r30_u_xE0iUexkUgsbZqcZTy0htmSflCp-uty_1hWA'\n",
    "writeoff_wb = gc.open_by_key(writeoff_id)\n",
    "write_off_list = to_dataframe(writeoff_wb, 'list',1,0)"
   ]
  },
  {
   "cell_type": "code",
   "execution_count": 1219,
   "metadata": {},
   "outputs": [],
   "source": [
    "write_off_list = write_off_list[['write_off_period', 'codeno', 'amount']]"
   ]
  },
  {
   "cell_type": "code",
   "execution_count": 1220,
   "metadata": {},
   "outputs": [
    {
     "data": {
      "text/plain": [
       "Index(['write_off_period', 'codeno', 'amount'], dtype='object')"
      ]
     },
     "execution_count": 1220,
     "metadata": {},
     "output_type": "execute_result"
    }
   ],
   "source": [
    "write_off_list.columns"
   ]
  },
  {
   "cell_type": "code",
   "execution_count": null,
   "metadata": {},
   "outputs": [],
   "source": []
  },
  {
   "cell_type": "markdown",
   "metadata": {},
   "source": [
    "DATE MODULE"
   ]
  },
  {
   "cell_type": "code",
   "execution_count": 1221,
   "metadata": {},
   "outputs": [],
   "source": [
    "day_list = [10,20,25,30]\n",
    "\n",
    "month_list = [i for i in range(1,13)] \n",
    "\n",
    "year_list = [2020]\n",
    "\n",
    "last_day_of_Feb = calendar.monthrange(year_list[0],month_list[1])\n",
    "\n",
    "last_day_of_Feb = datetime(year_list[0],month_list[1], last_day_of_Feb[1])\n",
    "\n",
    "last_day_of_Feb_str = last_day_of_Feb.strftime(\"%Y-%m-%d\")\n",
    "\n",
    "last_day_of_Feb_str\n",
    "\n",
    "date_list = [last_day_of_Feb_str]\n",
    "\n",
    "\n",
    "for l in day_list:\n",
    "    for k in month_list:\n",
    "        for i in year_list:\n",
    "            try:\n",
    "                sub_date = datetime(i,k,l).strftime(\"%Y-%m-%d\")\n",
    "                date_list.append(sub_date)\n",
    "            except:\n",
    "                pass\n",
    "date_list.sort()\n",
    "\n",
    "last_day_list = ['2019-12-31']*4\n",
    "\n",
    "for z in date_list:\n",
    "    z_date = datetime.strptime(z, \"%Y-%m-%d\")\n",
    "    last_day = calendar.monthrange(z_date.year,z_date.month)[1]\n",
    "    last_day_of_month = dt.datetime(z_date.year,z_date.month,last_day)\n",
    "    last_day_of_month = last_day_of_month.strftime(\"%Y-%m-%d\")\n",
    "    last_day_list.append(last_day_of_month)\n",
    "\n",
    "last_day_list = last_day_list[:len(last_day_list)-4]\n",
    "\n",
    "date_dict = {}\n",
    "\n",
    "for i in range(0, len(date_list)):\n",
    "    date_dict.update({date_list[i]:last_day_list[i]})\n",
    "#     sub_date_dict = {last_day_list[i]:date_list[i]}\n",
    "#     date_dict.update(sub_date_dict)\n",
    "\n",
    "\n",
    "paired_date_list = []\n",
    "\n",
    "for i in date_dict.items():\n",
    "    sub_paired_date_list = [i[1],i[0]]\n",
    "    paired_date_list.append(sub_paired_date_list)\n",
    "\n",
    "running_check = dt.date.today()+dt.timedelta(days=-1)\n",
    "\n",
    "running_check = running_check.strftime(\"%Y-%m-%d\")\n",
    "\n",
    "# running date list\n",
    "sub_running_date_list = []\n",
    "\n",
    "datetime.strptime(running_check, \"%Y-%m-%d\").month\n",
    "\n",
    "datetime.strptime(running_check, \"%Y-%m-%d\").year\n",
    "\n",
    "for i in range(0,len(paired_date_list)):\n",
    "    if datetime.strptime(running_check, \"%Y-%m-%d\").month == datetime.strptime(paired_date_list[i][1], \"%Y-%m-%d\").month and datetime.strptime(running_check, \"%Y-%m-%d\").year == datetime.strptime(paired_date_list[i][1], \"%Y-%m-%d\").year:\n",
    "        sub_running_date_list.append(paired_date_list[i])"
   ]
  },
  {
   "cell_type": "code",
   "execution_count": 1222,
   "metadata": {},
   "outputs": [
    {
     "data": {
      "text/plain": [
       "[['2020-10-31', '2020-11-10'],\n",
       " ['2020-10-31', '2020-11-20'],\n",
       " ['2020-10-31', '2020-11-25'],\n",
       " ['2020-10-31', '2020-11-30']]"
      ]
     },
     "execution_count": 1222,
     "metadata": {},
     "output_type": "execute_result"
    }
   ],
   "source": [
    "sub_running_date_list"
   ]
  },
  {
   "cell_type": "code",
   "execution_count": 1223,
   "metadata": {},
   "outputs": [],
   "source": [
    "list_date_valid = []"
   ]
  },
  {
   "cell_type": "code",
   "execution_count": 22,
   "metadata": {},
   "outputs": [],
   "source": [
    "for i in range(0,len(sub_running_date_list)):\n",
    "    if check_date == sub_running_date_list[i][1]:\n",
    "        list_date_valid.append(sub_running_date_list[i])"
   ]
  },
  {
   "cell_type": "code",
   "execution_count": 23,
   "metadata": {},
   "outputs": [
    {
     "data": {
      "text/plain": [
       "[['2020-10-31', '2020-11-10']]"
      ]
     },
     "execution_count": 23,
     "metadata": {},
     "output_type": "execute_result"
    }
   ],
   "source": [
    "list_date_valid"
   ]
  },
  {
   "cell_type": "code",
   "execution_count": null,
   "metadata": {},
   "outputs": [],
   "source": []
  },
  {
   "cell_type": "markdown",
   "metadata": {},
   "source": [
    "ROLLED B0"
   ]
  },
  {
   "cell_type": "code",
   "execution_count": 24,
   "metadata": {},
   "outputs": [],
   "source": [
    "def rolled_b0(first_date, second_date):\n",
    "    rolled_b0_str = \"\"\"Declare @check_1 date = '\"\"\"+first_date+\"\"\"'\n",
    "Declare @check_2 date = '\"\"\"+second_date+\"\"\"'\n",
    "select a.*, sd.name shopname\n",
    "from (select pod_1.categoryname,\n",
    "case when pod_1.shopcode = 'SGN0120' then 'SGN0147'\n",
    "when pod_1.shopcode = 'SG2046' then 'SGN0126'\n",
    "when pod_1.shopcode = 'SGN0107' then 'SG2014'\n",
    "else pod_1.shopcode end shopcode, pod_1.pawnid, pod_1.currentmoney, case when pod_2.tuoino >0 then 1 else 0 end rolled_pawn,\n",
    "case when pod_2.tuoino >0 then pod_2.currentmoney else 0 end rolled_current_money\n",
    "from pawnoverdue pod_1\n",
    "left join pawnoverdue pod_2 on pod_2.pawnid = pod_1.pawnid\n",
    "where pod_1.created = @check_1\n",
    "and pod_2.created = @check_2\n",
    "and pod_1.tuoino<1\n",
    "and (pod_1.categorycode like '%15%'\n",
    "or  pod_1.categorycode like '%17%') \n",
    "and pod_1.shopcode not like '%HS%' \n",
    "and pod_1.shopcode not like '%TEST%'\n",
    "and pod_1.shopcode not like '%HNIXLN01%'\n",
    "and pod_1.shopcode not like '%SGNXLN01%') a\n",
    "left join shopdetail sd on sd.code = a.shopcode\n",
    "\"\"\"\n",
    "    rolled_b0 = pd.read_sql_query(rolled_b0_str, db)\n",
    "    rolled_b0_ob = rolled_b0.pivot_table(index = ['shopcode', 'shopname'], columns='categoryname', values= 'pawnid', aggfunc='nunique')\n",
    "    rolled_b0_cb = rolled_b0.pivot_table(index = ['shopcode', 'shopname'], columns='categoryname', values= 'rolled_pawn', aggfunc='sum')\n",
    "    rolled_b0_ob_amt = rolled_b0.pivot_table(index = ['shopcode', 'shopname'], columns='categoryname', values= 'currentmoney', aggfunc='sum')\n",
    "    rolled_b0_cb_amt = rolled_b0.pivot_table(index = ['shopcode', 'shopname'], columns='categoryname', values= 'rolled_current_money', aggfunc='sum')\n",
    "    rolled_b0 = pd.concat((rolled_b0_ob,rolled_b0_cb,rolled_b0_ob_amt,rolled_b0_cb_amt), axis = 1)\n",
    "    rolled_b0 = rolled_b0.reset_index()\n",
    "    rolled_b0.columns = ['shopcode', 'shopname', 'dkxm_all', 'dkot_all', 'dkxm_rolled', 'dkot_rolled','dkxm_all_amt', 'dkot_all_amt', 'dkxm_rolled_amt', 'dkot_rolled_amt']\n",
    "    rolled_b0 = rolled_b0.fillna(0)\n",
    "    rolled_b0['rolled_rate_dkxm'] = rolled_b0['dkxm_rolled']/rolled_b0['dkxm_all']\n",
    "    rolled_b0['rolled_rate_dkxm'] = [float('{:.4}'.format(i)) for i in  rolled_b0['rolled_rate_dkxm']]\n",
    "    rolled_b0['rolled_rate_dkxm_amt'] = rolled_b0['dkxm_rolled_amt']/rolled_b0['dkxm_all_amt']\n",
    "    rolled_b0['rolled_rate_dkxm_amt'] = [float('{:.4}'.format(i)) for i in  rolled_b0['rolled_rate_dkxm_amt']]\n",
    "    rolled_b0['rolled_rate_dkot'] = rolled_b0['dkot_rolled']/rolled_b0['dkot_all']\n",
    "    rolled_b0['rolled_rate_dkot'] = [float('{:.4}'.format(i)) for i in  rolled_b0['rolled_rate_dkot']]\n",
    "    rolled_b0['rolled_rate_dkot_amt'] = rolled_b0['dkot_rolled_amt']/rolled_b0['dkot_all_amt']\n",
    "    rolled_b0['rolled_rate_dkot_amt'] = [float('{:.4}'.format(i)) for i in  rolled_b0['rolled_rate_dkot_amt']]\n",
    "    rolled_b0['extract_date'] = second_date\n",
    "    return rolled_b0"
   ]
  },
  {
   "cell_type": "code",
   "execution_count": 25,
   "metadata": {},
   "outputs": [],
   "source": [
    "rolled_1 = rolled_b0(list_date_valid[0][0], list_date_valid[0][1])"
   ]
  },
  {
   "cell_type": "code",
   "execution_count": 26,
   "metadata": {},
   "outputs": [],
   "source": [
    "rolled_bo = rolled_1[['extract_date','shopcode','rolled_rate_dkxm_amt','rolled_rate_dkot_amt']]"
   ]
  },
  {
   "cell_type": "code",
   "execution_count": 27,
   "metadata": {},
   "outputs": [],
   "source": [
    "rolled_bo.columns = ['extract_date','shopcode', 'rolled_rate_motor_title','rolled_rate_car_title']"
   ]
  },
  {
   "cell_type": "code",
   "execution_count": null,
   "metadata": {},
   "outputs": [],
   "source": []
  },
  {
   "cell_type": "markdown",
   "metadata": {},
   "source": [
    "GROWTH RATE"
   ]
  },
  {
   "cell_type": "code",
   "execution_count": 28,
   "metadata": {},
   "outputs": [],
   "source": [
    "def pawn_over_due(check_date):\n",
    "    pod_str = \"\"\"Declare @check_date date = '\"\"\"+check_date+\"\"\"'\n",
    " select pod.*, datediff(month, sd.opendate, getdate()) shop_age_m\n",
    " from (select pawnid, ContractCode , month(created) thang, CategoryName, \n",
    " case when categorycode like '%17%' then 'DKXM'\n",
    " when categorycode like '%15%' then 'DKOT'\n",
    " else 'SPTT' end 'category_group',case when shopcode = 'SGN0120' then 'SGN0147'\n",
    "when shopcode = 'SG2046' then 'SGN0126'\n",
    "when shopcode = 'SGN0107' then 'SG2014'\n",
    "else shopcode end shopcode,\n",
    " case when shopcode = 'SGN0120' then 'SGN0147.409C Lý Thường Kiệt'\n",
    "when shopcode = 'SG2046' then 'SGN0126.48 Trần Nhân Tôn'\n",
    "when shopcode = 'SGN0107' then 'F88 HCM - 54H Nguyễn Ảnh Thủ'\n",
    "else shopname end shopname,  case when TuoiNo<10 then CurrentMoney else 0 end est_net, CurrentMoney\n",
    "  from PawnOverdue\n",
    "  where CREATED = @check_date\n",
    "  and tuoino<10\n",
    "  and ShopCode not like '%HS%' and\n",
    "  ShopCode not like '%TEST%'\n",
    "  and ShopCode not like '%HNIXLN01%' and\n",
    "  ShopCode not like '%SGNXLN01%') pod\n",
    "  left join shopdetail sd on sd.code = pod.shopcode\"\"\"\n",
    "    pod_tab = pd.read_sql_query(pod_str, db)\n",
    "    return pod_tab"
   ]
  },
  {
   "cell_type": "code",
   "execution_count": 29,
   "metadata": {},
   "outputs": [],
   "source": [
    "def pod_shop(check_date):\n",
    "    pod_shop = pawn_over_due(check_date).pivot_table(index = ['shopcode','shop_age_m'], columns = ['category_group'], values = 'est_net', aggfunc = 'sum')\n",
    "    pod_shop = pod_shop.reset_index()\n",
    "    pod_shop['extract_date'] = check_date\n",
    "    pod_shop['thang'] = datetime.strptime(check_date, '%Y-%m-%d').month\n",
    "    return pod_shop"
   ]
  },
  {
   "cell_type": "code",
   "execution_count": 30,
   "metadata": {},
   "outputs": [],
   "source": [
    "def growth_rate_final(i):\n",
    "    trial_1 = pod_shop(list_date_valid[i][0])\n",
    "    trial_2 = pod_shop(list_date_valid[i][1])\n",
    "    trial_1.columns = ['shopcode', 'shop_age_m', 'start_DKOT', 'start_DKXM', 'start_SPTT', 'start_extract_date', 'start_thang']\n",
    "    trial_2.columns = ['shopcode', 'shop_age_m', 'end_DKOT', 'end_DKXM', 'end_SPTT', 'end_extract_date', 'end_thang']\n",
    "    trial = trial_2.merge(trial_1, on = 'shopcode', how = 'left')\n",
    "    trial = trial.fillna(0)\n",
    "    trial['DKOT_growth_rate'] = (trial['end_DKOT'] - trial['start_DKOT'])/trial['start_DKOT']\n",
    "    trial['DKXM_growth_rate'] = (trial['end_DKXM'] - trial['start_DKXM'])/trial['start_DKXM']\n",
    "    trial['SPTT_growth_rate'] = (trial['end_SPTT'] - trial['start_SPTT'])/trial['start_SPTT']\n",
    "    return trial"
   ]
  },
  {
   "cell_type": "code",
   "execution_count": 31,
   "metadata": {},
   "outputs": [],
   "source": [
    "growth_rate = growth_rate_final(0)"
   ]
  },
  {
   "cell_type": "code",
   "execution_count": 32,
   "metadata": {},
   "outputs": [],
   "source": [
    "#  NUMS GROWTH NET\n",
    "list_date_valid_growth = []"
   ]
  },
  {
   "cell_type": "code",
   "execution_count": 33,
   "metadata": {},
   "outputs": [],
   "source": [
    "for i in range(0,len(paired_date_list)):\n",
    "    if check_date >= paired_date_list[i][1]:\n",
    "        list_date_valid_growth.append(paired_date_list[i])"
   ]
  },
  {
   "cell_type": "code",
   "execution_count": 34,
   "metadata": {},
   "outputs": [],
   "source": [
    "list_date_valid_growth.remove(list_date_valid_growth[0])"
   ]
  },
  {
   "cell_type": "code",
   "execution_count": 35,
   "metadata": {},
   "outputs": [],
   "source": [
    "list_date_valid_growth.reverse()"
   ]
  },
  {
   "cell_type": "code",
   "execution_count": null,
   "metadata": {},
   "outputs": [],
   "source": []
  },
  {
   "cell_type": "code",
   "execution_count": null,
   "metadata": {},
   "outputs": [],
   "source": []
  },
  {
   "cell_type": "code",
   "execution_count": 36,
   "metadata": {},
   "outputs": [],
   "source": [
    "def growth_result(i):\n",
    "    pod_shop_lm1 = pod_shop(list_date_valid_growth[i][1])\n",
    "    pod_shop_lm2 = pod_shop(list_date_valid_growth[i+4][1])\n",
    "    pod_shop_lm3 = pod_shop(list_date_valid_growth[i+8][1])\n",
    "    pod_shop_lm4 = pod_shop(list_date_valid_growth[i+12][1])\n",
    "    pod_shop_lm1.columns = ['shopcode','shop_age_m','dkot(m-1)','dkxm(m-1)','sptt(m-1)','extract_date', 'thang']\n",
    "    pod_shop_lm2.columns = ['shopcode','shop_age_m2','dkot(m-2)','dkxm(m-2)','sptt(m-2)','extract_date','thang']\n",
    "    pod_shop_lm3.columns = ['shopcode','shop_age_m3','dkot(m-3)','dkxm(m-3)','sptt(m-3)','extract_date','thang']\n",
    "    pod_shop_lm4.columns = ['shopcode','shop_age_m4','dkot(m-4)','dkxm(m-4)','sptt(m-4)','extract_date','thang']\n",
    "    pod_shop_all = pod_shop_lm1.merge(pod_shop_lm2[['shopcode','dkot(m-2)','dkxm(m-2)','sptt(m-2)']], on = 'shopcode', how ='left').merge(pod_shop_lm3[['shopcode','dkot(m-3)','dkxm(m-3)','sptt(m-3)']], on ='shopcode', how = 'left').merge(pod_shop_lm4[['shopcode','dkot(m-4)','dkxm(m-4)','sptt(m-4)']], on ='shopcode', how = 'left')\n",
    "    pod_shop_all = pod_shop_all.fillna(0)\n",
    "    pod_shop_all['dkot_diff_m1'] = pod_shop_all['dkot(m-1)'] - pod_shop_all['dkot(m-2)']\n",
    "    pod_shop_all['dkot_growth_tf1'] = np.where([i>0 for i in pod_shop_all['dkot_diff_m1']],1,0)\n",
    "\n",
    "    pod_shop_all['dkxm_diff_m1'] = pod_shop_all['dkxm(m-1)'] - pod_shop_all['dkxm(m-2)']\n",
    "    pod_shop_all['dkxm_growth_tf1'] = np.where([i>0 for i in pod_shop_all['dkxm_diff_m1']],1,0)\n",
    "\n",
    "    pod_shop_all['sptt_diff_m1'] = pod_shop_all['sptt(m-1)'] - pod_shop_all['sptt(m-2)']\n",
    "    pod_shop_all['sptt_growth_tf1'] = np.where([i>0 for i in pod_shop_all['sptt_diff_m1']],1,0)\n",
    "    pod_shop_all['dkot_diff_m2'] = pod_shop_all['dkot(m-2)'] - pod_shop_all['dkot(m-3)']\n",
    "    pod_shop_all['dkot_growth_tf2'] = np.where([i>0 for i in pod_shop_all['dkot_diff_m2']],1,0)\n",
    "\n",
    "    pod_shop_all['dkxm_diff_m2'] = pod_shop_all['dkxm(m-2)'] - pod_shop_all['dkxm(m-3)']\n",
    "    pod_shop_all['dkxm_growth_tf2'] = np.where([i>0 for i in pod_shop_all['dkxm_diff_m2']],1,0)\n",
    "\n",
    "    pod_shop_all['sptt_diff_m2'] = pod_shop_all['sptt(m-2)'] - pod_shop_all['sptt(m-3)']\n",
    "    pod_shop_all['sptt_growth_tf2'] = np.where([i>0 for i in pod_shop_all['sptt_diff_m2']],1,0)\n",
    "    pod_shop_all['dkot_diff_m3'] = pod_shop_all['dkot(m-3)'] - pod_shop_all['dkot(m-4)']\n",
    "    pod_shop_all['dkot_growth_tf3'] = np.where([i>0 for i in pod_shop_all['dkot_diff_m3']],1,0)\n",
    "\n",
    "    pod_shop_all['dkxm_diff_m3'] = pod_shop_all['dkxm(m-3)'] - pod_shop_all['dkxm(m-4)']\n",
    "    pod_shop_all['dkxm_growth_tf3'] = np.where([i>0 for i in pod_shop_all['dkxm_diff_m3']],1,0)\n",
    "\n",
    "    pod_shop_all['sptt_diff_m3'] = pod_shop_all['sptt(m-3)'] - pod_shop_all['sptt(m-4)']\n",
    "    pod_shop_all['sptt_growth_tf3'] = np.where([i>0 for i in pod_shop_all['sptt_diff_m3']],1,0)\n",
    "    pod_shop_all['dkot_growth_rate'] =(pod_shop_all['dkot(m-1)'] - pod_shop_all['dkot(m-2)'])/pod_shop_all['dkot(m-2)']\n",
    "\n",
    "    pod_shop_all['dkot_growth_rate'] = ['{0:.3g}'.format(i) for i in pod_shop_all['dkot_growth_rate']]\n",
    "\n",
    "    pod_shop_all['dkxm_growth_rate'] = (pod_shop_all['dkxm(m-1)']-pod_shop_all['dkxm(m-2)'])/pod_shop_all['dkxm(m-2)']\n",
    "\n",
    "    pod_shop_all['dkxm_growth_rate'] = ['{0:.3g}'.format(i) for i in pod_shop_all['dkxm_growth_rate']]\n",
    "\n",
    "    pod_shop_all['sptt_growth_rate'] = (pod_shop_all['sptt(m-1)'] - pod_shop_all['sptt(m-2)'])/pod_shop_all['sptt(m-2)']\n",
    "\n",
    "    pod_shop_all['sptt_growth_rate'] = ['{0:.3g}'.format(i) for i in pod_shop_all['sptt_growth_rate']]\n",
    "\n",
    "    pod_shop_all['dkot_growth_count'] = pod_shop_all['dkot_growth_tf1']+pod_shop_all['dkot_growth_tf2']+pod_shop_all['dkot_growth_tf3']\n",
    "\n",
    "    pod_shop_all['dkxm_growth_count'] = pod_shop_all['dkxm_growth_tf1']+pod_shop_all['dkxm_growth_tf2']+pod_shop_all['dkxm_growth_tf3']\n",
    "\n",
    "    pod_shop_all['sptt_growth_count'] = pod_shop_all['sptt_growth_tf1']+pod_shop_all['sptt_growth_tf2']+pod_shop_all['sptt_growth_tf3']\n",
    "\n",
    "    pod_shop_all['total_growth_count'] = pod_shop_all['dkot_growth_count'] + pod_shop_all['dkxm_growth_count'] + pod_shop_all['sptt_growth_count']\n",
    "    return pod_shop_all"
   ]
  },
  {
   "cell_type": "code",
   "execution_count": 37,
   "metadata": {},
   "outputs": [],
   "source": [
    "growth_count_all = growth_result(0)"
   ]
  },
  {
   "cell_type": "code",
   "execution_count": 38,
   "metadata": {},
   "outputs": [],
   "source": [
    "growth_count_all = growth_count_all[['shopcode','thang','dkot_growth_count', 'dkxm_growth_count', 'sptt_growth_count', 'total_growth_count']]"
   ]
  },
  {
   "cell_type": "code",
   "execution_count": 39,
   "metadata": {},
   "outputs": [],
   "source": [
    "growth_rate = growth_rate.merge(growth_count_all,left_on = ['end_thang', 'shopcode'],right_on = ['thang','shopcode'], how = 'left' )"
   ]
  },
  {
   "cell_type": "code",
   "execution_count": 40,
   "metadata": {},
   "outputs": [],
   "source": [
    "growth_rate = growth_rate[['end_extract_date','end_thang','shopcode','DKOT_growth_rate', \n",
    "                           'DKXM_growth_rate', 'SPTT_growth_rate',\n",
    "                           'dkot_growth_count', 'dkxm_growth_count', \n",
    "                           'sptt_growth_count',\n",
    "       'total_growth_count']]"
   ]
  },
  {
   "cell_type": "code",
   "execution_count": 343,
   "metadata": {},
   "outputs": [],
   "source": [
    "growth_rate.columns = ['extract_date','thang','shopcode', 'growth_rate_car_title', \n",
    "                       'growth_rate_motor_title','growth_rate_normal_asset', \n",
    "                       'nums_grownet_cartitle','nums_grownet_motortitle', 'nums_grownet_normalasset', 'total_nums_growthnet']"
   ]
  },
  {
   "cell_type": "markdown",
   "metadata": {},
   "source": [
    "BALANCE RATIO"
   ]
  },
  {
   "cell_type": "code",
   "execution_count": 41,
   "metadata": {},
   "outputs": [],
   "source": [
    "def balance_ratio(todate):\n",
    "    balance_ratio_str = \"\"\"Declare @check_date date = '\"\"\"+todate+\"\"\"'\n",
    "select created, pawnid,\n",
    "case when categorycode like '%15%' or categorycode like '%17%' then categoryname\n",
    "else 'SPTT' end categoryname, contractcode, \n",
    "case when shopcode = 'SGN0120' then 'SGN0147'\n",
    "when shopcode = 'SG2046' then 'SGN0126'\n",
    "when shopcode = 'SGN0107' then 'SG2014'\n",
    "else shopcode end shopcode,\n",
    " case when shopcode = 'SGN0120' then 'SGN0147.409C Lý Thường Kiệt'\n",
    "when shopcode = 'SG2046' then 'SGN0126.48 Trần Nhân Tôn'\n",
    "when shopcode = 'SGN0107' then 'F88 HCM - 54H Nguyễn Ảnh Thủ'\n",
    "else shopname end shopname, case when tuoino <=0 then '0. dpd<=0'\n",
    "when tuoino <=10 and tuoino>0 then '1. 0<dpd<10'\n",
    "when tuoino <=90 and tuoino >10 then '2. 10<=dpd<90'\n",
    "else '3. dpd>=90' end nhom_no, currentmoney\n",
    "from pawnoverdue\n",
    "where created = @check_date\n",
    "and shopcode not like '%HS%'\n",
    "and shopcode not like '%TEST%'\n",
    "and shopcode not like '%HNIXLN01%'\n",
    "and shopcode not like '%SGNXLN01%'\"\"\"\n",
    "    balance_ratio_raw = pd.read_sql_query(balance_ratio_str, db)\n",
    "    balance_ratio_raw = balance_ratio_raw.merge(write_off_list[['codeno', 'amount']], left_on = 'contractcode', right_on = 'codeno', how = 'left')\n",
    "    balance_ratio_raw = balance_ratio_raw[balance_ratio_raw['codeno'].isnull() == True]\n",
    "    bal_dpd_ratio = balance_ratio_raw.fillna(0)\n",
    "    balance_ratio_dpd = bal_dpd_ratio.pivot_table(index = ['categoryname','shopcode'], columns='nhom_no', values='currentmoney', aggfunc='sum')\n",
    "    balance_ratio_dpd = balance_ratio_dpd.fillna(0) \n",
    "    balance_ratio_dpd = balance_ratio_dpd.reset_index()\n",
    "    balance_ratio_dpd['total_balance'] = balance_ratio_dpd['0. dpd<=0']+balance_ratio_dpd['1. 0<dpd<10']+balance_ratio_dpd['2. 10<=dpd<90']+balance_ratio_dpd['3. dpd>=90']\n",
    "    balance_ratio_dpd['0. dpd<=0_rate'] = balance_ratio_dpd['0. dpd<=0']/balance_ratio_dpd['total_balance']\n",
    "    balance_ratio_dpd['1. 0<dpd<10_rate'] = balance_ratio_dpd['1. 0<dpd<10']/balance_ratio_dpd['total_balance']\n",
    "    balance_ratio_dpd['2. 10<=dpd<90_rate'] = balance_ratio_dpd['2. 10<=dpd<90']/balance_ratio_dpd['total_balance']\n",
    "    balance_ratio_dpd['3. dpd>=90_rate'] = balance_ratio_dpd['3. dpd>=90']/balance_ratio_dpd['total_balance']\n",
    "    balance_ratio_dpd['extract_date'] = todate\n",
    "#     balance_ratio_raw = balance_ratio_raw.merge(shop_data[['Mã PGD','GĐM', 'TPK', 'QLKV', 'Miền', 'Tỉnh/ Thành phố','khu_vuc']], left_on = 'shopcode', right_on = 'Mã PGD', how = 'left')\n",
    "    return balance_ratio_dpd"
   ]
  },
  {
   "cell_type": "code",
   "execution_count": 42,
   "metadata": {},
   "outputs": [],
   "source": [
    "balance_ratio_m = balance_ratio(list_date_valid[0][1])"
   ]
  },
  {
   "cell_type": "code",
   "execution_count": 43,
   "metadata": {},
   "outputs": [],
   "source": [
    "balance_ratio = balance_ratio_m"
   ]
  },
  {
   "cell_type": "code",
   "execution_count": 44,
   "metadata": {},
   "outputs": [],
   "source": [
    "balance_ratio['0.dpd<11'] = balance_ratio['0. dpd<=0']+balance_ratio['1. 0<dpd<10']"
   ]
  },
  {
   "cell_type": "code",
   "execution_count": 45,
   "metadata": {},
   "outputs": [],
   "source": [
    "balance_ratio_cartitle = balance_ratio[balance_ratio['categoryname']=='Đăng ký Ô tô'][['extract_date','shopcode','0. dpd<=0_rate', '1. 0<dpd<10_rate', '2. 10<=dpd<90_rate', '3. dpd>=90_rate','0.dpd<11' ]]"
   ]
  },
  {
   "cell_type": "code",
   "execution_count": 46,
   "metadata": {},
   "outputs": [],
   "source": [
    "balance_ratio_cartitle.columns = ['extract_date','shopcode', '0.cartitle_dpd<=0_rate', '1.cartitle_0<dpd<10_rate', '2.cartitle_10<=dpd<90_rate','3.cartitle_dpd>=90_rate','cartt_0.dpd<11']"
   ]
  },
  {
   "cell_type": "code",
   "execution_count": 47,
   "metadata": {},
   "outputs": [],
   "source": [
    "balance_ratio_motortitle = balance_ratio[balance_ratio['categoryname']=='Đăng ký xe máy'][['extract_date','shopcode','0. dpd<=0_rate', '1. 0<dpd<10_rate', '2. 10<=dpd<90_rate', '3. dpd>=90_rate','0.dpd<11' ]]"
   ]
  },
  {
   "cell_type": "code",
   "execution_count": 48,
   "metadata": {},
   "outputs": [],
   "source": [
    "balance_ratio_motortitle.columns = ['extract_date','shopcode', '0.motortitle_dpd<=0_rate', '1.motortitle_0<dpd<10_rate', '2.motortitle_10<=dpd<90_rate','3.motortitle_dpd>=90_rate','motortt_0.dpd<11']"
   ]
  },
  {
   "cell_type": "code",
   "execution_count": 49,
   "metadata": {},
   "outputs": [],
   "source": [
    "balance_ratio_normal_asset = balance_ratio[balance_ratio['categoryname']=='SPTT'][['extract_date','shopcode','0. dpd<=0_rate', '1. 0<dpd<10_rate', '2. 10<=dpd<90_rate', '3. dpd>=90_rate','0.dpd<11' ]]"
   ]
  },
  {
   "cell_type": "code",
   "execution_count": 50,
   "metadata": {},
   "outputs": [],
   "source": [
    "balance_ratio_normal_asset.columns = ['extract_date','shopcode', '0.normass_dpd<=0_rate', '1.normass_0<dpd<10_rate', '2.normass_10<=dpd<90_rate','3.normass_dpd>=90_rate','normass_0.dpd<11']"
   ]
  },
  {
   "cell_type": "code",
   "execution_count": 51,
   "metadata": {},
   "outputs": [],
   "source": [
    "def pawn_balance_ratio(todate):\n",
    "    balance_ratio_str = \"\"\"Declare @check_date date = '\"\"\"+todate+\"\"\"'\n",
    "select created, pawnid,\n",
    "case when categorycode like '%15%' or categorycode like '%17%' then categoryname\n",
    "else 'SPTT' end categoryname, contractcode, \n",
    "case when shopcode = 'SGN0120' then 'SGN0147'\n",
    "when shopcode = 'SG2046' then 'SGN0126'\n",
    "when shopcode = 'SGN0107' then 'SG2014'\n",
    "else shopcode end shopcode,\n",
    " case when shopcode = 'SGN0120' then 'SGN0147.409C Lý Thường Kiệt'\n",
    "when shopcode = 'SG2046' then 'SGN0126.48 Trần Nhân Tôn'\n",
    "when shopcode = 'SGN0107' then 'F88 HCM - 54H Nguyễn Ảnh Thủ'\n",
    "else shopname end shopname, case when tuoino <=0 then '0. dpd<=0'\n",
    "when tuoino <=10 and tuoino>0 then '1. 0<dpd<10'\n",
    "when tuoino <=90 and tuoino >10 then '2. 10<=dpd<90'\n",
    "else '3. dpd>=90' end nhom_no, currentmoney\n",
    "from pawnoverdue\n",
    "where created = @check_date\n",
    "and shopcode not like '%HS%'\n",
    "and shopcode not like '%TEST%'\n",
    "and shopcode not like '%HNIXLN01%'\n",
    "and shopcode not like '%SGNXLN01%'\"\"\"\n",
    "    balance_ratio_raw = pd.read_sql_query(balance_ratio_str, db)\n",
    "    balance_ratio_raw = balance_ratio_raw.merge(write_off_list[['codeno', 'amount']], left_on = 'contractcode', right_on = 'codeno', how = 'left')\n",
    "    balance_ratio_raw = balance_ratio_raw[balance_ratio_raw['codeno'].isnull() == True]\n",
    "    bal_dpd_ratio = balance_ratio_raw.fillna(0)\n",
    "    balance_ratio_dpd = bal_dpd_ratio.pivot_table(index = ['categoryname','shopcode'], columns='nhom_no', values='pawnid', aggfunc='nunique')\n",
    "    balance_ratio_dpd = balance_ratio_dpd.fillna(0) \n",
    "    balance_ratio_dpd = balance_ratio_dpd.reset_index()\n",
    "    balance_ratio_dpd['total_pawn'] = balance_ratio_dpd['0. dpd<=0']+balance_ratio_dpd['1. 0<dpd<10']+balance_ratio_dpd['2. 10<=dpd<90']+balance_ratio_dpd['3. dpd>=90']\n",
    "    balance_ratio_dpd['0. dpd<=0_rate'] = balance_ratio_dpd['0. dpd<=0']/balance_ratio_dpd['total_pawn']\n",
    "    balance_ratio_dpd['1. 0<dpd<10_rate'] = balance_ratio_dpd['1. 0<dpd<10']/balance_ratio_dpd['total_pawn']\n",
    "    balance_ratio_dpd['2. 10<=dpd<90_rate'] = balance_ratio_dpd['2. 10<=dpd<90']/balance_ratio_dpd['total_pawn']\n",
    "    balance_ratio_dpd['3. dpd>=90_rate'] = balance_ratio_dpd['3. dpd>=90']/balance_ratio_dpd['total_pawn']\n",
    "    balance_ratio_dpd['extract_date'] = todate\n",
    "#     balance_ratio_raw = balance_ratio_raw.merge(shop_data[['Mã PGD','GĐM', 'TPK', 'QLKV', 'Miền', 'Tỉnh/ Thành phố','khu_vuc']], left_on = 'shopcode', right_on = 'Mã PGD', how = 'left')\n",
    "    return balance_ratio_dpd"
   ]
  },
  {
   "cell_type": "code",
   "execution_count": 52,
   "metadata": {},
   "outputs": [],
   "source": [
    "balance_ratio_m_pawn = pawn_balance_ratio(list_date_valid[0][1])"
   ]
  },
  {
   "cell_type": "code",
   "execution_count": 53,
   "metadata": {},
   "outputs": [],
   "source": [
    "balance_ratio_m_pawn.columns = ['categoryname', 'shopcode', 'num_pawn_0. dpd<=0', 'num_pawn_1. 0<dpd<10', 'num_pawn_2. 10<=dpd<90',\n",
    "       'num_pawn_3. dpd>=90', 'total_pawn', 'num_pawn_0. dpd<=0_rate', 'num_pawn_1. 0<dpd<10_rate',\n",
    "       'num_pawn_2. 10<=dpd<90_rate', 'num_pawn_3. dpd>=90_rate','extract_date']"
   ]
  },
  {
   "cell_type": "code",
   "execution_count": 54,
   "metadata": {},
   "outputs": [],
   "source": [
    "balance_ratio_pawn = balance_ratio_m_pawn"
   ]
  },
  {
   "cell_type": "code",
   "execution_count": 55,
   "metadata": {},
   "outputs": [],
   "source": [
    "balance_ratio_cartitle_pawn = balance_ratio_pawn[balance_ratio_pawn['categoryname']=='Đăng ký Ô tô'][['extract_date','shopcode', 'num_pawn_0. dpd<=0','num_pawn_1. 0<dpd<10', 'num_pawn_2. 10<=dpd<90', 'num_pawn_3. dpd>=90','total_pawn', 'num_pawn_0. dpd<=0_rate', 'num_pawn_1. 0<dpd<10_rate','num_pawn_2. 10<=dpd<90_rate', 'num_pawn_3. dpd>=90_rate']]\n",
    "\n",
    "balance_ratio_cartitle_pawn.columns = ['extract_date','shopcode', 'cartt_num_pawn_0. dpd<=0', 'cartt_num_pawn_1. 0<dpd<10',\n",
    "       'cartt_num_pawn_2. 10<=dpd<90', 'cartt_num_pawn_3. dpd>=90', 'cartt_total_pawn',\n",
    "       'cartt_num_pawn_0. dpd<=0_rate', 'cartt_num_pawn_1. 0<dpd<10_rate',\n",
    "       'cartt_num_pawn_2. 10<=dpd<90_rate', 'cartt_num_pawn_3. dpd>=90_rate']"
   ]
  },
  {
   "cell_type": "code",
   "execution_count": 56,
   "metadata": {},
   "outputs": [],
   "source": [
    "balance_ratio_motortitle_pawn = balance_ratio_pawn[balance_ratio_pawn['categoryname']=='Đăng ký xe máy'][['extract_date','shopcode', 'num_pawn_0. dpd<=0','num_pawn_1. 0<dpd<10', 'num_pawn_2. 10<=dpd<90', 'num_pawn_3. dpd>=90','total_pawn', 'num_pawn_0. dpd<=0_rate', 'num_pawn_1. 0<dpd<10_rate','num_pawn_2. 10<=dpd<90_rate', 'num_pawn_3. dpd>=90_rate']]\n",
    "\n",
    "balance_ratio_motortitle_pawn.columns = ['extract_date','shopcode', 'motortt_num_pawn_0. dpd<=0', 'motortt_num_pawn_1. 0<dpd<10',\n",
    "       'motortt_num_pawn_2. 10<=dpd<90', 'motortt_num_pawn_3. dpd>=90', 'motortt_total_pawn',\n",
    "       'motortt_num_pawn_0. dpd<=0_rate', 'motortt_num_pawn_1. 0<dpd<10_rate',\n",
    "       'motortt_num_pawn_2. 10<=dpd<90_rate', 'motortt_num_pawn_3. dpd>=90_rate']"
   ]
  },
  {
   "cell_type": "markdown",
   "metadata": {},
   "source": [
    "FAV"
   ]
  },
  {
   "cell_type": "code",
   "execution_count": 57,
   "metadata": {},
   "outputs": [],
   "source": [
    "def fav_raw(fromdate, todate):\n",
    "    fav_data_str = \"\"\"Declare @fromdate date ='\"\"\"+fromdate+\"\"\"'\n",
    "    Declare @todate date = '\"\"\"+todate+\"\"\"'\n",
    "select case when sd.code = 'SGN0120' then 'SGN0147'\n",
    "when sd.code = 'SG2046' then 'SGN0126'\n",
    "when sd.code = 'SGN0107' then 'SG2014'\n",
    "else sd.code end shopcode,\n",
    " case when sd.code = 'SGN0120' then 'SGN0147.409C Lý Thường Kiệt'\n",
    "when sd.code = 'SG2046' then 'SGN0126.48 Trần Nhân Tôn'\n",
    "when sd.code = 'SGN0107' then 'F88 HCM - 54H Nguyễn Ảnh Thủ'\n",
    "else sd.name end shopname, lsf.[PAWNID] ,lsf.[CODE_NO],lsf.[ASSET_NAME], cast(lsf.[SALE_DATE] as date) sale_date, lsf.[MONEY_APPRAISAL], lsf.[SALE_PRICE]\n",
    "from [dwh].[dbo].[W_LIQUID_SALE_F] lsf\n",
    "left join (select distinct(PO_ITEMS_ID) distinct_p \n",
    "from [dwh].[dbo].[W_LIQUID_SALE_F]\n",
    "where sale_price <0) lsf2 on lsf2.distinct_p = lsf.pawnid\n",
    "left join shopdetail sd on sd.shopid = lsf.[SHOP_WID]\n",
    "where cast(lsf.[SALE_DATE] as date) >@fromdate\n",
    "and cast(lsf.[SALE_DATE] as date) <= @todate\n",
    "and lsf2.distinct_p is null\n",
    "and sd.code not like '%TEST%'\n",
    "and sd.code not like '%HS%'\n",
    "and sd.code not like '%HNIXLN01%'\n",
    "and sd.code not like '%SGNXLN01%'\n",
    "\"\"\"\n",
    "    fav_data = pd.read_sql_query(fav_data_str, db)\n",
    "#     fav_data = fav_data.merge(shop_data[['Mã PGD', 'GĐM', 'TPK', 'QLKV', 'Miền', 'Tỉnh/ Thành phố']], left_on = 'shopcode', right_on = 'Mã PGD', how = 'left')\n",
    "    fav_shop = fav_data.groupby('shopname').agg({'sale_price':'sum', 'money_appraisal':'sum'}).reset_index()\n",
    "#     fav_shop = fav_shop.fillna(0)\n",
    "    fav_shop['fav_rate'] = fav_shop['sale_price']/fav_shop['money_appraisal']\n",
    "    fav_shop['extract_date'] = todate\n",
    "    return fav_shop"
   ]
  },
  {
   "cell_type": "code",
   "execution_count": 58,
   "metadata": {},
   "outputs": [],
   "source": [
    "fav_m = fav_raw(list_date_valid[0][0], list_date_valid[0][1])"
   ]
  },
  {
   "cell_type": "code",
   "execution_count": 59,
   "metadata": {},
   "outputs": [],
   "source": [
    "fav = fav_m"
   ]
  },
  {
   "cell_type": "code",
   "execution_count": 213,
   "metadata": {},
   "outputs": [],
   "source": [
    "fav['extract_date'] = pd.to_datetime(fav['extract_date'], format=\"%Y-%m-%d\")"
   ]
  },
  {
   "cell_type": "markdown",
   "metadata": {},
   "source": [
    "ONTIME"
   ]
  },
  {
   "cell_type": "code",
   "execution_count": 60,
   "metadata": {},
   "outputs": [],
   "source": [
    "n_days_after = '3'"
   ]
  },
  {
   "cell_type": "code",
   "execution_count": 61,
   "metadata": {},
   "outputs": [],
   "source": [
    "write_off_list.columns = ['write_off_period', 'pawn_code', 'amount']"
   ]
  },
  {
   "cell_type": "code",
   "execution_count": 62,
   "metadata": {},
   "outputs": [],
   "source": [
    "# đk Ô tô\n",
    "def ontime_dkot(fromdate, todate, n_days_after):\n",
    "    monthly_ontime_str = \"\"\"Declare @schedule_from date ='\"\"\"+fromdate+\"\"\"'\n",
    "Declare @schedule_to date ='\"\"\"+todate+\"\"\"'\n",
    "select 'monthly_org_paid' title_type, *,case when (pmt_stt like N'overdue' and dpd_\"\"\"+n_days_after+\"\"\"_day_after is not null and dpd_\"\"\"+n_days_after+\"\"\"_day_after>0) then N'still_over_due'\n",
    "when pmt_stt like N'overdue' and (dpd_\"\"\"+n_days_after+\"\"\"_day_after is null or dpd_\"\"\"+n_days_after+\"\"\"_day_after=0) and t_\"\"\"+n_days_after+\"\"\"_day_after<getdate() then N'paid_after_\"\"\"+n_days_after+\"\"\"_day'\n",
    "when pmt_stt like N'overdue' and t_\"\"\"+n_days_after+\"\"\"_day_after>=getdate() then N'out_of_range'\n",
    "else N'ontime' end as stt_after_\"\"\"+n_days_after+\"\"\"_day,\n",
    "case when PackageCode like '%VAY_NHANH%' then N'Vay nhanh' \n",
    "else N'Vay thường' end as package_type\n",
    " from (\n",
    "select  pd.pawnid,po.tuoino dpd_yesterday,po2.TuoiNo dpd_\"\"\"+n_days_after+\"\"\"_day_after,pa.PackageCode,pa.shopname, pa.shopcode,areaid,\n",
    "dbo.getyearmonth(pd.scheduletodate)ym,pd.scheduletodate,\n",
    "dateadd(day,\"\"\"+n_days_after+\"\"\",pd.ScheduleToDate) t_\"\"\"+n_days_after+\"\"\"_day_after,pd.acc_sum,pd.paydate,\n",
    "pd.acc_prin_payment,paidmoney,pa.status,pa.CodeNo,pa.FromDate,pa.ToDate,pa.closedate,liquid_dt, pa.cus_type,  \n",
    "case  when (pd.paydate<=ScheduleToDate  and acc_prin_payment>=(acc_sum-1000)) or CloseDate<=ScheduleToDate \n",
    "then N'ontime' else N'overdue' end as pmt_stt,\n",
    "case when pa.frequency <= 30 then N'1. Kỳ hạn 1 tháng'\n",
    "  when pa.frequency <= 90 then N'2. Kỳ hạn 3 tháng'\n",
    "  when pa.frequency <= 180 then N'3. Kỳ hạn 6 tháng'\n",
    "  when pa.frequency <= 270 then N'4. Kỳ hạn 9 tháng'\n",
    "  when pa.frequency <= 360 then N'5. Kỳ hạn 12 tháng'\n",
    "  else N'6. >12 tháng' end package_time_range,\n",
    "  case when (pa.LoanMoneyOrg - pa.[InsurranceMoney]) <= 50000000 then '0. <=50tr'\n",
    "when (pa.LoanMoneyOrg - pa.[InsurranceMoney]) <= 100000000 then '2. 100-200tr'\n",
    "when pa.PackageCode is not null and  (pa.LoanMoneyOrg - pa.[InsurranceMoney]) > 200000000 then N'4. >200tr'\n",
    "when pa.PackageCode is null and  (pa.LoanMoneyOrg - pa.[InsurranceMoney]) <= 300000000 then '3. 200-300tr'\n",
    "else N'4. >300tr' end \"package_money_range\"\n",
    "from pawnoverduedetail pd  \n",
    "left join pawnoverdue po on (po.pawnid=pd.pawnid and po.created=dateadd(day,-1,pd.scheduletodate))\n",
    "left join pawnoverdue po2 on (po2.pawnid=pd.pawnid and po2.created=dateadd(day,\"\"\"+n_days_after+\"\"\",pd.scheduletodate))\n",
    "left join  (select pa1.*,shop.name shopname,shop.areaid,\n",
    "case when Lag (Pawnid) over (PARTITION BY customerid, [CategoryCode] ORDER BY fromdate asc) is null then N'Khách mới' else N'Khách cũ' end \"cus_type\" from Pawn pa1 \n",
    "left join ShopDetail shop on pa1.shopcode=shop.code )pa on pa.pawnid=pd.pawnid \n",
    "left join w_pawn_liquid_sale_f li on li.pawn_wid=pd.pawnid  \n",
    " where ((closedate is null and liquid_dt is null) or(ScheduleToDate<=CloseDate) or (scheduletodate<=liquid_dt)) \n",
    " and pa.STATUS not in (15,11,140) and pa.CategoryCode like N'%15%'\n",
    "  and InterestMoney like N'%goc%' and pd.scheduletodate<@schedule_to and pd.scheduletodate>@schedule_from) tab\n",
    "  where dpd_yesterday<=10\n",
    "  order by pawnid,scheduletodate\"\"\"\n",
    "    eop_ontime_str= \"\"\"Declare @schedule_from date ='\"\"\"+fromdate+\"\"\"'\n",
    "Declare @schedule_to date ='\"\"\"+todate+\"\"\"'\n",
    "select 'eop_org_paid' title_type, *,case when (pmt_stt like N'overdue' and dpd_\"\"\"+n_days_after+\"\"\"_day_after is not null and dpd_\"\"\"+n_days_after+\"\"\"_day_after>0) then N'still_over_due'\n",
    "when pmt_stt like N'overdue' and (dpd_\"\"\"+n_days_after+\"\"\"_day_after is null or dpd_\"\"\"+n_days_after+\"\"\"_day_after=0) and t_\"\"\"+n_days_after+\"\"\"_day_after<getdate() then N'paid_after_\"\"\"+n_days_after+\"\"\"_day'\n",
    "when pmt_stt like N'overdue' and t_\"\"\"+n_days_after+\"\"\"_day_after>=getdate() then N'out_of_range'\n",
    "else N'ontime' end as stt_after_\"\"\"+n_days_after+\"\"\"_day,\n",
    "case when PackageCode like '%VAY_NHANH%' then N'Vay nhanh' else N'Vay thường' end as package_type\n",
    " from (\n",
    "select  ROW_NUMBER() over (partition by pd.pawnid order by moneyinterest) as row_num,pd.pawnid,po.tuoino dpd_yesterday,\n",
    "po2.TuoiNo dpd_\"\"\"+n_days_after+\"\"\"_day_after,pa.PackageCode,pa.shopname,pa.shopcode,areaid,dbo.getyearmonth(pd.scheduletodate)ym,pd.scheduletodate,dateadd(day,\"\"\"+n_days_after+\"\"\",pd.ScheduleToDate) t_\"\"\"+n_days_after+\"\"\"_day_after\n",
    ",pd.acc_sum,pd.paydate,\n",
    "pd.acc_prin_payment,paidmoney,pa.status,pa.CodeNo,pa.FromDate,pa.ToDate,pa.closedate,liquid_dt, pa.cus_type,  \n",
    "case  when (pd.paydate<=ScheduleToDate  and acc_prin_payment>=(acc_sum-1000)) or CloseDate<=ScheduleToDate \n",
    "then N'ontime' else N'overdue' end as pmt_stt,\n",
    "case when pa.frequency <= 30 then N'1. Kỳ hạn 1 tháng'\n",
    "  when pa.frequency <= 90 then N'2. Kỳ hạn 3 tháng'\n",
    "  when pa.frequency <= 180 then N'3. Kỳ hạn 6 tháng'\n",
    "  when pa.frequency <= 270 then N'4. Kỳ hạn 9 tháng'\n",
    "  when pa.frequency <= 360 then N'5. Kỳ hạn 12 tháng'\n",
    "  else N'6. >12 tháng' end package_time_range,\n",
    "  case when (pa.LoanMoneyOrg - pa.[InsurranceMoney]) <= 50000000 then '0. <=50tr'\n",
    "when (pa.LoanMoneyOrg - pa.[InsurranceMoney]) <= 100000000 then '2. 100-200tr'\n",
    "when pa.PackageCode is not null and  (pa.LoanMoneyOrg - pa.[InsurranceMoney]) > 200000000 then N'4. >200tr'\n",
    "when pa.PackageCode is null and  (pa.LoanMoneyOrg - pa.[InsurranceMoney]) <= 300000000 then '3. 200-300tr'\n",
    "else N'4. >300tr' end \"package_money_range\"\n",
    "from pawncaroverdue pd  \n",
    "left join pawnoverdue po on (po.pawnid=pd.pawnid and po.created=dateadd(day,-1,pd.scheduletodate))\n",
    "left join pawnoverdue po2 on (po2.pawnid=pd.pawnid and po2.created=dateadd(day,\"\"\"+n_days_after+\"\"\",pd.scheduletodate))\n",
    "left join  (select pa1.*,shop.name shopname,shop.areaid,\n",
    "case when Lag (Pawnid) over (PARTITION BY customerid, [CategoryCode] ORDER BY fromdate asc) is null then N'Khách mới' else N'Khách cũ' end \"cus_type\"\n",
    "from Pawn pa1 \n",
    "left join ShopDetail shop on pa1.shopcode=shop.code )pa on pa.pawnid=pd.pawnid \n",
    "left join w_pawn_liquid_sale_f li on li.pawn_wid=pd.pawnid  \n",
    " where ((closedate is null and liquid_dt is null) or(ScheduleToDate<=CloseDate) or (scheduletodate<=liquid_dt)) \n",
    " and pa.STATUS not in (15,11,140) and pa.CategoryCode like N'%15%'\n",
    "  and pd.scheduletodate<=@schedule_to and pd.scheduletodate>@schedule_from) tab\n",
    "  where dpd_yesterday<=10 and row_num=1\n",
    "  order by pawnid,scheduletodate\"\"\"\n",
    "    monthly_ontime = pd.read_sql_query(monthly_ontime_str,db)\n",
    "    eop_ontime = pd.read_sql_query(eop_ontime_str,db)\n",
    "    ontime_data = pd.concat([monthly_ontime, eop_ontime], ignore_index=True)\n",
    "    ontime_data = ontime_data.merge(write_off_list, left_on = 'codeno', right_on = 'pawn_code',how = 'left')\n",
    "    ontime_data = ontime_data[ontime_data['pawn_code'].isnull()==True]\n",
    "    column_name='stt_after_'+n_days_after+'_day'\n",
    "    colmn_name_2='paid_after_'+n_days_after+'_day'\n",
    "#     ontime_data=pd.merge(ontime_data,shop_data, left_on='shopcode',right_on='Mã PGD',how='left')\n",
    "#     ontime_data = ontime_data[ontime_data['Vùng/Miền'].isnull() == False]\n",
    "#     ontime_data['khu_vuc'] = np.where(ontime_data['Tỉnh/ Thành phố'] == 'Hà Nội', 'Hà Nội', np.where(ontime_data['Tỉnh/ Thành phố'] == 'TP. Hồ Chí Minh', 'TP. Hồ Chí Minh',np.where((ontime_data['Tỉnh/ Thành phố'] != 'Hà Nội') & (ontime_data['Vùng/Miền'] == 'Miền Bắc'), 'Tỉnh MB', np.where((ontime_data['Tỉnh/ Thành phố'] != 'TP. Hồ Chí Minh') & (ontime_data['Vùng/Miền'] == 'Miền Nam'), 'Tỉnh MN', 'Miền Trung'))))\n",
    "    ontime_data.insert(0,'categoryname','Đăng ký Ô tô')\n",
    "    ontime_data['brr_ym'] = [i.strftime(\"%Y%m\") for i in ontime_data['fromdate']]\n",
    "    ontime_car_shop = ontime_data.pivot_table(index='shopname', columns='pmt_stt', values='pawnid', aggfunc='nunique').reset_index()\n",
    "    ontime_car_shop = ontime_car_shop.fillna(0)\n",
    "    ontime_car_shop['total'] =ontime_car_shop['ontime']+ontime_car_shop['overdue']\n",
    "    ontime_car_shop['cartitle_ontime_rate'] = ontime_car_shop['ontime']/ontime_car_shop['total']\n",
    "    ontime_car_shop['extract_date'] = todate\n",
    "    return ontime_car_shop"
   ]
  },
  {
   "cell_type": "code",
   "execution_count": 63,
   "metadata": {},
   "outputs": [],
   "source": [
    "def ontime_dkxm(fromdate,todate,n_days_after_num):\n",
    "    n_days_after=n_days_after_num\n",
    "    ontime_dkxm_str = \"\"\"Declare @schedule_from date ='\"\"\"+fromdate+\"\"\"'\n",
    "Declare @schedule_to date ='\"\"\"+todate+\"\"\"'\n",
    "select 'motor_title' title_type,*,case when (pmt_stt like N'overdue' and dpd_\"\"\"+n_days_after+\"\"\"_day_after is not null and dpd_\"\"\"+n_days_after+\"\"\"_day_after>0) then N'still_over_due'\n",
    "when pmt_stt like N'overdue' and (dpd_\"\"\"+n_days_after+\"\"\"_day_after is null or dpd_\"\"\"+n_days_after+\"\"\"_day_after=0) and t_\"\"\"+n_days_after+\"\"\"_day_after<getdate() then N'paid_after_\"\"\"+n_days_after+\"\"\"_day'\n",
    "when pmt_stt like N'overdue' and t_\"\"\"+n_days_after+\"\"\"_day_after>=getdate() then N'out_of_range'\n",
    "else N'ontime' end as stt_after_\"\"\"+n_days_after+\"\"\"_day,case when PackageCode like '%VAY_NHANH%' then N'Vay nhanh' else N'Vay thường' end as package_type\n",
    " from (\n",
    "select  pd.pawnid,po.tuoino dpd_yesterday,po2.TuoiNo dpd_\"\"\"+n_days_after+\"\"\"_day_after,pa.PackageCode, pa.shopname,pa.shopcode,\n",
    "areaid,dbo.getyearmonth(pd.scheduletodate)ym,pd.scheduletodate,dateadd(day,\"\"\"+n_days_after_num+\"\"\",pd.ScheduleToDate) t_\"\"\"+n_days_after+\"\"\"_day_after,pd.principalmoney,pd.acc_sum,pd.paydate,\n",
    "pd.acc_prin_payment,paidmoney,pa.status,pa.CodeNo,pa.FromDate,pa.ToDate,pa.closedate,liquid_dt,  pa.cus_type,\n",
    "case  when (pd.paydate<=ScheduleToDate  and\n",
    "acc_prin_payment>=acc_sum) or CloseDate<=ScheduleToDate \n",
    "then N'ontime' else N'overdue' end as pmt_stt,\n",
    "case when pa.frequency <= 30 then N'1. Kỳ hạn 1 tháng'\n",
    "  when pa.frequency <= 90 then N'2. Kỳ hạn 3 tháng'\n",
    "  when pa.frequency <= 180 then N'3. Kỳ hạn 6 tháng'\n",
    "  when pa.frequency <= 270 then N'4. Kỳ hạn 9 tháng'\n",
    "  when pa.frequency <= 360 then N'5. Kỳ hạn 12 tháng'\n",
    "  else N'6. >12 tháng' end package_time_range,\n",
    "  case when (pa.LoanMoneyOrg - pa.[InsurranceMoney]) <= 3000000 then '0. <=3tr'\n",
    "\t\twhen (pa.LoanMoneyOrg - pa.[InsurranceMoney]) <= 10000000 then '1. 3-10tr'\n",
    "\t\twhen (pa.LoanMoneyOrg - pa.[InsurranceMoney]) <= 15000000 then '2. 10-15tr'\n",
    "\t\twhen (pa.LoanMoneyOrg - pa.[InsurranceMoney]) <= 25000000 then '3. 15-25tr'\n",
    "\t\telse '4. >25tr' end \"package_money_range\"\n",
    "from pawnoverduedetail pd  \n",
    "left join pawnoverdue po on (po.pawnid=pd.pawnid and po.created=dateadd(day,-1,pd.scheduletodate))\n",
    "left join pawnoverdue po2 on (po2.pawnid=pd.pawnid and po2.created=dateadd(day,\"\"\"+n_days_after_num+\"\"\",pd.scheduletodate))\n",
    "left join  (select pa1.*,shop.name shopname,shop.areaid,\n",
    "case when Lag (pa1.Pawnid) over (PARTITION BY pa1.customerid, pa1.[CategoryCode] ORDER BY pa1.fromdate asc) is null then N'Khách mới' else N'Khách cũ' end \"cus_type\" from Pawn pa1 \n",
    "left join ShopDetail shop on pa1.shopcode=shop.code )pa on pa.pawnid=pd.pawnid \n",
    "left join w_pawn_liquid_sale_f li on li.pawn_wid=pd.pawnid  \n",
    " where ((closedate is null and liquid_dt is null) or(ScheduleToDate<=CloseDate) or (scheduletodate<=liquid_dt)) \n",
    " and pa.STATUS not in (15,11,140) and pa.CategoryCode like N'%17%'\n",
    "  and InterestMoney like N'%goc%' and pd.scheduletodate<=@schedule_to and pd.scheduletodate>@schedule_from) tab\n",
    "  where dpd_yesterday<=10\n",
    "  order by pawnid,scheduletodate\"\"\"\n",
    "#     return ontime_dkxm_str\n",
    "    ontime_data=pd.read_sql_query(ontime_dkxm_str,db)\n",
    "    ontime_data = ontime_data.merge(write_off_list, left_on = 'codeno', right_on = 'pawn_code',how = 'left')\n",
    "    ontime_data = ontime_data[ontime_data['pawn_code'].isnull()==True]\n",
    "    column_name='stt_after_'+n_days_after+'_day'\n",
    "    colmn_name_2='paid_after_'+n_days_after+'_day'\n",
    "#     ontime_data=pd.merge(ontime_data,shop_data,left_on='shopcode',right_on='Mã PGD',how='left')\n",
    "#     ontime_data = ontime_data[ontime_data['Vùng/Miền'].isnull() == False]\n",
    "#     ontime_data['khu_vuc'] = np.where(ontime_data['Tỉnh/ Thành phố'] == 'Hà Nội', 'Hà Nội', np.where(ontime_data['Tỉnh/ Thành phố'] == 'TP. Hồ Chí Minh', 'TP. Hồ Chí Minh',np.where((ontime_data['Tỉnh/ Thành phố'] != 'Hà Nội') & (ontime_data['Vùng/Miền'] == 'Miền Bắc'), 'Tỉnh MB', np.where((ontime_data['Tỉnh/ Thành phố'] != 'TP. Hồ Chí Minh') & (ontime_data['Vùng/Miền'] == 'Miền Nam'), 'Tỉnh MN','Miền Trung'))))\n",
    "    ontime_data.insert(0,'categoryname','Đăng ký xe máy')\n",
    "    ontime_data['brr_ym'] = [i.strftime(\"%Y%m\") for i in ontime_data['fromdate']]\n",
    "    ontime_motor_shop = ontime_data.pivot_table(index='shopname', columns='pmt_stt', values='pawnid', aggfunc='nunique').reset_index()\n",
    "    ontime_motor_shop = ontime_motor_shop.fillna(0)\n",
    "    ontime_motor_shop['total'] =ontime_motor_shop['ontime']+ontime_motor_shop['overdue']\n",
    "    ontime_motor_shop['motortitle_ontime_rate'] = ontime_motor_shop['ontime']/ontime_motor_shop['total']\n",
    "    ontime_motor_shop['extract_date'] = todate\n",
    "    #     ontime_pivot=pd.pivot_table(ontime_data,ikto máy')=['areaid','shopname', 'Miền', 'Tỉnh/ Thành phố','package_type'],columns=column_name,values='pawnid',aggfunc='count',margins=True).reset_index()\n",
    "#     ontime_pivot.insert(0,'categoryname','Đăng ký xe máy')\n",
    "#     ontime_pivot['ontime_rate']=ontime_pivot.ontime/ontime_pivot.All\n",
    "#     ontime_pivot['paid_when_dpd_less_than_'+n_days_after_num+'_rate']=(ontime_pivot.ontime+ontime_pivot[colmn_name_2])/ontime_pivot.All\n",
    "#     ontime_pivot.to_excel(r'D:\\F88\\Python code\\ontime_dkot\\ontime_dkxm_'+fromdate+\"_\"+todate+'.xlsx', index=False)\n",
    "    \n",
    "#     ontime_data['todate_ym'] = datetime.strptime(ontime['todate'], '%Y-%m-%d').strftime('%Y%m')\n",
    "#     ontime_data['fromdate_ym'] = datetime.strptime(ontime['fromdate'], '%Y-%m-%d').strftime('%Y%m')\n",
    "    return ontime_motor_shop"
   ]
  },
  {
   "cell_type": "code",
   "execution_count": 64,
   "metadata": {},
   "outputs": [
    {
     "name": "stderr",
     "output_type": "stream",
     "text": [
      "D:\\Anaconda3\\lib\\site-packages\\ipykernel_launcher.py:81: FutureWarning: Sorting because non-concatenation axis is not aligned. A future version\n",
      "of pandas will change to not sort by default.\n",
      "\n",
      "To accept the future behavior, pass 'sort=False'.\n",
      "\n",
      "To retain the current behavior and silence the warning, pass 'sort=True'.\n",
      "\n"
     ]
    }
   ],
   "source": [
    "ontime_dkot_this_month = ontime_dkot(list_date_valid[0][0],list_date_valid[0][1],n_days_after)\n",
    "ontime_dkxm_this_month = ontime_dkxm(list_date_valid[0][0],list_date_valid[0][1],n_days_after)"
   ]
  },
  {
   "cell_type": "code",
   "execution_count": 65,
   "metadata": {},
   "outputs": [],
   "source": [
    "ontime_motortiltle_rate = ontime_dkxm_this_month"
   ]
  },
  {
   "cell_type": "code",
   "execution_count": 66,
   "metadata": {},
   "outputs": [],
   "source": [
    "ontime_cartitle_rate = ontime_dkot_this_month"
   ]
  },
  {
   "cell_type": "code",
   "execution_count": null,
   "metadata": {},
   "outputs": [],
   "source": []
  },
  {
   "cell_type": "markdown",
   "metadata": {},
   "source": [
    "EARLY REMIND"
   ]
  },
  {
   "cell_type": "code",
   "execution_count": 67,
   "metadata": {},
   "outputs": [],
   "source": [
    "def remind_rate_cartitle(fromdate, todate):\n",
    "    remind_cartitle = \"\"\"Declare @schedule_from date ='\"\"\"+fromdate+\"\"\"'\n",
    "                Declare @schedule_to date ='\"\"\"+todate+\"\"\"'\n",
    "                select  tab.*,cmt.*,\n",
    "DATEDIFF(day,cmt.cmtdate,ScheduleToDate) day_cmt_before_schedule,\n",
    "case when cmtdate is null then N'1.no_cmt'\n",
    "when DATEDIFF(day,cmt.cmtdate,ScheduleToDate)=0 then N'3.on_due_date'\n",
    "when DATEDIFF(day,cmt.cmtdate,ScheduleToDate)<>0 then N'2.early_remind' end as cmt_type,\n",
    "case when PackageCode like '%NHANH%' then N'Vay nhanh' else N'Vay thường' end as package_type\n",
    "from ( select  pd.pawnid,po.tuoino dpd_yesterday,\n",
    "pa.PackageCode,pa.shopname, pa.shopcode,\n",
    "areaid,pd.scheduletodate,pd.paydate, pd.acc_prin_payment,\n",
    "pa.status,pa.FromDate,pa.ToDate,pa.closedate,liquid_dt,   \n",
    "case  when (pd.paydate<=ScheduleToDate  and acc_prin_payment>=acc_sum) or CloseDate<=ScheduleToDate \n",
    "then N'ontime' else N'overdue' end as pmt_stt, pd.type_cartitle\n",
    "from (select 'monthly_paid_origin' type_cartitle, podd.[PawnID],podd.[ScheduleToDate] ,podd.[ScheduleFromDate]\n",
    "      ,podd.[acc_prin_payment],podd.[paydate] ,podd.[InterestMoney], podd.acc_sum from [dwh].[dbo].[PawnOverDuedetail] podd\n",
    "\t  left join pawn pa on pa.pawnid = podd.pawnid\n",
    "\t  where InterestMoney like N'%goc%' and podd.scheduletodate<=@schedule_to and podd.scheduletodate>@schedule_from\n",
    "\t  and pa.categorycode like '%15%'\n",
    "\t  union all\n",
    "\t  (select 'eop_paid_origin' type_cartitle, [PawnID]\n",
    "      ,[ScheduleToDate]\n",
    "      ,[ScheduleFromDate]\n",
    "      ,[acc_prin_payment]\n",
    "      ,[paydate]\n",
    "      ,[MoneyInterest] as [InterestMoney],\n",
    "\t  acc_sum\n",
    "  FROM [dwh].[dbo].[pawnCarOverDue]\n",
    "  where [MoneyInterest] like '%lai%' and scheduletodate<=@schedule_to and scheduletodate>=@schedule_from)) pd \n",
    "   left join pawnoverdue po on (po.pawnid=pd.pawnid and po.created=dateadd(day,-1,pd.scheduletodate))  \n",
    "   left join  (select pa1.*,shop.name shopname,shop.areaid from Pawn pa1 \n",
    "   left join ShopDetail shop on pa1.shopcode=shop.code )pa on pa.pawnid=pd.pawnid  \n",
    "   left join w_pawn_liquid_sale_f li on li.pawn_wid=pd.pawnid   \n",
    "where ((closedate is null and liquid_dt is null) or(ScheduleToDate<=CloseDate) or (scheduletodate<=liquid_dt))  \n",
    "and pa.STATUS not in (15,11,140) ) tab\n",
    "  left join (select pawnid pawn_wid,CodeNo,Body,CommentType,cmtdate,CreatedDate cmt_dt from CommentContract \n",
    "  where PGD is not null and cmtdate>= dateadd(day,-6,@schedule_from) and cmtdate<=@schedule_to)cmt \n",
    "  on cmt.pawn_wid=tab.pawnid and cmt.cmtdate>= dateadd(day,-6,tab.scheduletodate) and cmt.cmtdate<= tab.ScheduleToDate\n",
    " where dpd_yesterday<=5 \n",
    " order by tab.PawnID\"\"\"\n",
    "    remind_stats = pd.read_sql_query(remind_cartitle,db)\n",
    "    remind_stats = remind_stats.merge(write_off_list, left_on='codeno', right_on='pawn_code',how = 'left')\n",
    "    remind_stats = remind_stats[remind_stats['pawn_code'].isnull()==True]\n",
    "#     remind_stats = remind_stats.merge(shop_data, left_on='shopname', right_on = 'Tên PGD', how = 'left')\n",
    "#     remind_stats['khu_vuc'] = np.where(remind_stats['Tỉnh/ Thành phố'] == 'Hà Nội', 'Hà Nội', np.where(remind_stats['Tỉnh/ Thành phố'] == 'TP. Hồ Chí Minh', 'TP. Hồ Chí Minh',np.where((remind_stats['Tỉnh/ Thành phố'] != 'Hà Nội') & (remind_stats['Vùng/Miền'] == 'Miền Bắc'), 'Tỉnh MB', np.where((remind_stats['Tỉnh/ Thành phố'] != 'TP. Hồ Chí Minh') & (remind_stats['Vùng/Miền'] == 'Miền Nam'), 'Tỉnh MN', 'Miền Trung'))))\n",
    "    need_remind = remind_stats.groupby('shopname').agg({'pawnid': 'nunique'}).reset_index()\n",
    "    remind_early = remind_stats.pivot_table(index = 'shopname', columns='cmt_type', values='pawnid', aggfunc='nunique').reset_index()\n",
    "    remind_early = remind_early.merge(need_remind, on = 'shopname', how='left')\n",
    "    remind_early = remind_early.fillna(0)\n",
    "    remind_early['early_rate_remind'] = remind_early['2.early_remind']/remind_early['pawnid']\n",
    "    remind_early['ondue_rate_remind'] = remind_early['3.on_due_date']/remind_early['pawnid']\n",
    "    remind_early['extract_date'] = todate\n",
    "    return remind_early"
   ]
  },
  {
   "cell_type": "code",
   "execution_count": 68,
   "metadata": {},
   "outputs": [],
   "source": [
    "remind_stats_cartitle = remind_rate_cartitle(list_date_valid[0][0],list_date_valid[0][1])"
   ]
  },
  {
   "cell_type": "code",
   "execution_count": 69,
   "metadata": {},
   "outputs": [],
   "source": [
    "def remind_rate(fromdate, todate):\n",
    "    remind_str =  \"\"\"Declare @schedule_from date ='\"\"\"+fromdate+\"\"\"'\n",
    "                Declare @schedule_to date ='\"\"\"+todate+\"\"\"'\n",
    "select tab.*,cmt.*,DATEDIFF(day,cmtdate,ScheduleToDate) day_cmt_before_schedule,\n",
    "  case when cmtdate is null then N'1.no_cmt'\n",
    "  when DATEDIFF(day,cmtdate,ScheduleToDate)=0 then N'3.on_due_date'\n",
    "   when DATEDIFF(day,cmtdate,ScheduleToDate)<>0 then N'2.early_remind' end as cmt_type,\n",
    " case when PackageCode like '%NHANH%' then N'Vay nhanh' else N'Vay thường' end as package_type\n",
    " from ( select  pd.pawnid,po.tuoino dpd_yesterday,\n",
    " pa.PackageCode,pa.shopname, pa.shopcode,\n",
    " areaid,dbo.getyearmonth(pd.scheduletodate)ym,pd.scheduletodate,pd.principalmoney,pd.acc_sum,pd.paydate, pd.acc_prin_payment,paidmoney,\n",
    " pa.status,pa.FromDate,pa.ToDate,pa.closedate,liquid_dt,   \n",
    "  case  when (pd.paydate<=ScheduleToDate  and acc_prin_payment>=acc_sum) or CloseDate<=ScheduleToDate \n",
    "   then N'ontime' else N'overdue' end as pmt_stt  from pawnoverduedetail pd \n",
    "   left join pawnoverdue po on (po.pawnid=pd.pawnid and po.created=dateadd(day,-1,pd.scheduletodate))  \n",
    "   left join  (select pa1.*,shop.name shopname,shop.areaid from Pawn pa1 \n",
    "   left join ShopDetail shop on pa1.shopcode=shop.code )pa on pa.pawnid=pd.pawnid  \n",
    "   left join w_pawn_liquid_sale_f li on li.pawn_wid=pd.pawnid   \n",
    "where ((closedate is null and liquid_dt is null) or(ScheduleToDate<=CloseDate) or (scheduletodate<=liquid_dt))  \n",
    "and pa.STATUS not in (15,11,140) and pa.CategoryCode like N'%17%' and InterestMoney like N'%goc%' \n",
    "and pd.scheduletodate<=@schedule_to and pd.scheduletodate>@schedule_from) tab\n",
    "  left join (select pawnid pawn_wid,CodeNo,Body,CommentType,cmtdate,CreatedDate cmt_dt from CommentContract \n",
    "  where PGD is not null and cmtdate>= dateadd(day,-6,@schedule_from) and cmtdate<=@schedule_to)cmt \n",
    "  on cmt.pawn_wid=tab.pawnid and cmt.cmtdate>= dateadd(day,-6,tab.scheduletodate) and cmt.cmtdate<= tab.ScheduleToDate\n",
    " where dpd_yesterday<=5 \n",
    " order by tab.PawnID\"\"\"\n",
    "    remind_stats = pd.read_sql_query(remind_str,db)\n",
    "    remind_stats = remind_stats.merge(write_off_list, left_on='codeno', right_on='pawn_code',how = 'left')\n",
    "    remind_stats = remind_stats[remind_stats['pawn_code'].isnull()==True]\n",
    "#     remind_stats = remind_stats.merge(shop_data, left_on='shopname', right_on = 'Tên PGD', how = 'left')\n",
    "#     remind_stats['khu_vuc'] = np.where(remind_stats['Tỉnh/ Thành phố'] == 'Hà Nội', 'Hà Nội', np.where(remind_stats['Tỉnh/ Thành phố'] == 'TP. Hồ Chí Minh', 'TP. Hồ Chí Minh',np.where((remind_stats['Tỉnh/ Thành phố'] != 'Hà Nội') & (remind_stats['Vùng/Miền'] == 'Miền Bắc'), 'Tỉnh MB', np.where((remind_stats['Tỉnh/ Thành phố'] != 'TP. Hồ Chí Minh') & (remind_stats['Vùng/Miền'] == 'Miền Nam'), 'Tỉnh MN', 'Miền Trung'))))\n",
    "    need_remind = remind_stats.groupby('shopname').agg({'pawnid': 'nunique'}).reset_index()\n",
    "    remind_early = remind_stats.pivot_table(index = 'shopname', columns='cmt_type', values='pawnid', aggfunc='nunique').reset_index()\n",
    "    remind_early = remind_early.merge(need_remind, on = 'shopname', how='left')\n",
    "    remind_early = remind_early.fillna(0)\n",
    "    remind_early['early_rate_remind'] = remind_early['2.early_remind']/remind_early['pawnid']\n",
    "    remind_early['ondue_rate_remind'] = remind_early['3.on_due_date']/remind_early['pawnid']\n",
    "    remind_early['extract_date'] = todate\n",
    "    return remind_early"
   ]
  },
  {
   "cell_type": "code",
   "execution_count": 70,
   "metadata": {},
   "outputs": [],
   "source": [
    "remind_stats = remind_rate(list_date_valid[0][0],list_date_valid[0][1])"
   ]
  },
  {
   "cell_type": "code",
   "execution_count": 71,
   "metadata": {},
   "outputs": [],
   "source": [
    "motor_title_early_remind = remind_stats"
   ]
  },
  {
   "cell_type": "code",
   "execution_count": 72,
   "metadata": {},
   "outputs": [],
   "source": [
    "motor_title_early_remind.columns = ['shopname', 'motor_title_no_cmt', 'motor_title_early_remind', 'motor_title_on_due_date', 'motor_title_pawnid',\n",
    "       'motor_title_early_rate_remind', 'motor_title_ondue_rate_remind','extract_date']"
   ]
  },
  {
   "cell_type": "code",
   "execution_count": 73,
   "metadata": {},
   "outputs": [],
   "source": [
    "motor_title_early_remind = motor_title_early_remind[['extract_date','shopname','motor_title_early_rate_remind']]"
   ]
  },
  {
   "cell_type": "code",
   "execution_count": 74,
   "metadata": {},
   "outputs": [],
   "source": [
    "car_title_early_remind = remind_stats_cartitle\n",
    "car_title_early_remind.columns = ['shopname', 'car_title_no_cmt', 'car_title_early_remind', 'car_title_on_due_date', 'car_title_pawnid',\n",
    "       'car_title_early_rate_remind', 'car_title_ondue_rate_remind', 'extract_date']\n",
    "\n",
    "car_title_early_remind = car_title_early_remind[['extract_date','shopname','car_title_early_rate_remind']]"
   ]
  },
  {
   "cell_type": "code",
   "execution_count": null,
   "metadata": {},
   "outputs": [],
   "source": []
  },
  {
   "cell_type": "markdown",
   "metadata": {},
   "source": [
    "CASHCOUNT CHECK"
   ]
  },
  {
   "cell_type": "code",
   "execution_count": 75,
   "metadata": {},
   "outputs": [],
   "source": [
    "def cash_count(fromdate, todate):\n",
    "    cashcount_str = \"\"\"Declare @fromdate date = '\"\"\"+fromdate+\"\"\"'\n",
    "Declare @todate date = '\"\"\"+todate+\"\"\"'\n",
    "select cas2.id, cas.cashcount_date, \n",
    " case when cas.shop = 'SGN0120.220 Lý Thường Kiệt' then 'SGN0147.409C Lý Thường Kiệt'\n",
    "when cas.shop = 'F88 HCM - 404 Nguyễn Tri Phương' then 'SGN0126.48 Trần Nhân Tôn'\n",
    "when cas.shop = 'SGN0107.54H Nguyễn Ảnh Thủ 2' then 'F88 HCM - 54H Nguyễn Ảnh Thủ'\n",
    "else cas.shop end shopname,\n",
    " cas2.net, cas2.moneyred, cas2.[DIFF] cash_diff,\n",
    "case when cas2.[DIFF] < 10000 and cas2.[DIFF]> -10000 then 'f'\n",
    "else 't' end diff_tf, case when cas2.NOTE_ADD is null then cas2.not_minus else cas2.NOTE_ADD end note_add,\n",
    "sd.opendate, case when sd.opendate>= @fromdate and sd.opendate<=@todate then 'open_within_m'\n",
    "else 'open_pre_months' end shop_open_old_new\n",
    "from (select cast(created as date) cashcount_date,shop, max(ID) max_id\n",
    "from [dwh].[dbo].[CASH_AMOUNT_SHOP]\n",
    "where cast(CREATED as date) > @fromdate\n",
    "and cast(CREATED as date) <= @todate\n",
    "group by cast(created as date), shop) cas \n",
    "left join [dwh].[dbo].[CASH_AMOUNT_SHOP] cas2 on cas.max_id = cas2.id\n",
    "left join [dwh].[dbo].[ShopDetail] sd on sd.name = cas.shop\n",
    "where sd.code not like '%TEST%'\n",
    "and sd.code not like '%HS%'\n",
    "and sd.code not like '%HNIXLN01%'\n",
    "and sd.code not like '%SGNXLN01%'\"\"\"\n",
    "    cashcount_raw = pd.read_sql_query(cashcount_str, db)\n",
    "#     cashcount_raw = cashcount_raw.merge(shop_data[['PGD', 'Mã PGD', 'GĐM', 'TPK', 'QLKV','Miền', 'Tỉnh/ Thành phố']], left_on = 'shopname', right_on = 'PGD', how = 'left')\n",
    "    return cashcount_raw"
   ]
  },
  {
   "cell_type": "code",
   "execution_count": 76,
   "metadata": {},
   "outputs": [],
   "source": [
    "def cashcount_check(fromdate, todate):\n",
    "    cashcount_data = cash_count(fromdate, todate)\n",
    "    cashcount_data['reason_length']=cashcount_data.note_add.apply(lambda x: len(str(x).split(\" \")))\n",
    "    cashcount_data.not_minus=cashcount_data.note_add.str.replace('[^\\w\\s]','')\n",
    "    sub_tab_cashcount = cashcount_data[cashcount_data['note_add'].isnull() == False]\n",
    "    sub_tab_cashcount.loc[(sub_tab_cashcount.note_add.str.contains('nhầm|sai|quên|mượn|thối|nhập|mất|trộm|sự cố|lỗi'))|(sub_tab_cashcount.reason_length>=30),'sub_diff_reason_check']='diff_no_clear_reason'\n",
    "    sub_tab_cashcount.loc[sub_tab_cashcount.note_add.str.contains('nguyên nhân|không rõ|k rõ|tìm ra|không tìm|chưa tìm|chưa rõ'),'sub_diff_reason_check']='diff_not_found_reason' \n",
    "    sub_tab_cashcount['sub_diff_reason_check'] = np.where(sub_tab_cashcount['sub_diff_reason_check'].isnull() == True, 'diff_clear_reason', sub_tab_cashcount['sub_diff_reason_check'])\n",
    "    cashcount_data = cashcount_data.merge(sub_tab_cashcount[['id', 'sub_diff_reason_check']], on = 'id', how='left')\n",
    "    cashcount_data['reason_check'] = np.where(cashcount_data.diff_tf=='f', 'no_diff', np.where((cashcount_data.diff_tf =='t') & (cashcount_data.note_add.isnull()==True), 'diff_no_reason', cashcount_data['sub_diff_reason_check']))\n",
    "    cashcount_data.columns = ['id', 'cashcount_date', 'shop', 'net', 'moneyred', 'cash_diff',\n",
    "       'diff_tf', 'note_add', 'opendate', 'shop_open_old_new', 'reason_length',\n",
    "       'sub_diff_reason_check', 'reason_check']\n",
    "    count_cashcount_m_pgd = cashcount_data.pivot_table(index = ['shop_open_old_new','shop'], columns='reason_check', values='cashcount_date', aggfunc='nunique')\n",
    "    count_cashcount_m_pgd_diff_rate = cashcount_data.groupby(['shop']).agg({'net':'sum','moneyred':'sum','cash_diff':'sum'}).reset_index()\n",
    "    count_cashcount_m_pgd_diff_rate['cashcount_diff_rate'] = np.abs(count_cashcount_m_pgd_diff_rate['cash_diff'])/count_cashcount_m_pgd_diff_rate['net']\n",
    "    count_cashcount_m_pgd = count_cashcount_m_pgd.merge(count_cashcount_m_pgd_diff_rate, on = 'shop', how = 'left')\n",
    "    count_cashcount_m_pgd = count_cashcount_m_pgd.fillna(0)\n",
    "    count_cashcount_m_pgd['all_cashcount'] = count_cashcount_m_pgd['diff_clear_reason']+count_cashcount_m_pgd['diff_no_clear_reason']+count_cashcount_m_pgd['diff_no_reason']+count_cashcount_m_pgd['diff_not_found_reason']+count_cashcount_m_pgd['no_diff']\n",
    "    count_cashcount_m_pgd['extract_date'] = todate\n",
    "    return count_cashcount_m_pgd"
   ]
  },
  {
   "cell_type": "code",
   "execution_count": 77,
   "metadata": {},
   "outputs": [
    {
     "name": "stderr",
     "output_type": "stream",
     "text": [
      "D:\\Anaconda3\\lib\\site-packages\\ipykernel_launcher.py:4: UserWarning: Pandas doesn't allow columns to be created via a new attribute name - see https://pandas.pydata.org/pandas-docs/stable/indexing.html#attribute-access\n",
      "  after removing the cwd from sys.path.\n",
      "D:\\Anaconda3\\lib\\site-packages\\pandas\\core\\indexing.py:362: SettingWithCopyWarning: \n",
      "A value is trying to be set on a copy of a slice from a DataFrame.\n",
      "Try using .loc[row_indexer,col_indexer] = value instead\n",
      "\n",
      "See the caveats in the documentation: http://pandas.pydata.org/pandas-docs/stable/indexing.html#indexing-view-versus-copy\n",
      "  self.obj[key] = _infer_fill_value(value)\n",
      "D:\\Anaconda3\\lib\\site-packages\\pandas\\core\\indexing.py:543: SettingWithCopyWarning: \n",
      "A value is trying to be set on a copy of a slice from a DataFrame.\n",
      "Try using .loc[row_indexer,col_indexer] = value instead\n",
      "\n",
      "See the caveats in the documentation: http://pandas.pydata.org/pandas-docs/stable/indexing.html#indexing-view-versus-copy\n",
      "  self.obj[item] = s\n",
      "D:\\Anaconda3\\lib\\site-packages\\ipykernel_launcher.py:8: SettingWithCopyWarning: \n",
      "A value is trying to be set on a copy of a slice from a DataFrame.\n",
      "Try using .loc[row_indexer,col_indexer] = value instead\n",
      "\n",
      "See the caveats in the documentation: http://pandas.pydata.org/pandas-docs/stable/indexing.html#indexing-view-versus-copy\n",
      "  \n"
     ]
    }
   ],
   "source": [
    "count_cashcount_m = cashcount_check(list_date_valid[0][0], list_date_valid[0][1])"
   ]
  },
  {
   "cell_type": "code",
   "execution_count": 78,
   "metadata": {},
   "outputs": [],
   "source": [
    "def cash_average_shop(fromdate, todate):\n",
    "    cash_average = cash_count(fromdate, todate)\n",
    "    cash_average['extract_date'] = todate\n",
    "    cash_avg_summ = cash_average.groupby(['shopname', 'extract_date']).agg({'moneyred':'sum'})\n",
    "    cash_avg_summ = cash_avg_summ.reset_index()\n",
    "    cash_avg_summ['day_for_divide'] = [i.day for i in pd.to_datetime(cash_avg_summ['extract_date'])]\n",
    "    cash_avg_summ['average_cash'] =  cash_avg_summ['moneyred']/cash_avg_summ['day_for_divide']\n",
    "    return cash_avg_summ"
   ]
  },
  {
   "cell_type": "code",
   "execution_count": 79,
   "metadata": {},
   "outputs": [],
   "source": [
    "average_cash_shop = cash_average_shop(list_date_valid[0][0], list_date_valid[0][1])"
   ]
  },
  {
   "cell_type": "code",
   "execution_count": 80,
   "metadata": {},
   "outputs": [],
   "source": [
    "def cash_median(fromdate, todate):\n",
    "    raw = cash_count(fromdate, todate)\n",
    "    raw['extract_date'] = todate\n",
    "    cash_median_shop = raw.groupby(['extract_date','shopname'])['moneyred'].median()\n",
    "    cash_median_shop = cash_median_shop.reset_index()\n",
    "    cash_median_shop = cash_median_shop.rename(columns={\"moneyred\": \"median_cash\"})\n",
    "    return cash_median_shop"
   ]
  },
  {
   "cell_type": "code",
   "execution_count": 81,
   "metadata": {},
   "outputs": [],
   "source": [
    "all_cash_median = cash_median(list_date_valid[0][0], list_date_valid[0][1])"
   ]
  },
  {
   "cell_type": "code",
   "execution_count": 82,
   "metadata": {},
   "outputs": [],
   "source": [
    "count_cashcount_m = count_cashcount_m.merge(average_cash_shop, left_on = ['shop', 'extract_date'], right_on = ['shopname', 'extract_date'], how = 'left')"
   ]
  },
  {
   "cell_type": "code",
   "execution_count": 83,
   "metadata": {},
   "outputs": [],
   "source": [
    "count_cashcount_m = count_cashcount_m.merge(all_cash_median, left_on = ['shop', 'extract_date'], right_on = ['shopname', 'extract_date'], how = 'left')"
   ]
  },
  {
   "cell_type": "code",
   "execution_count": 84,
   "metadata": {},
   "outputs": [],
   "source": [
    "count_cashcount_m = count_cashcount_m[['extract_date','shop', 'diff_clear_reason', 'diff_no_clear_reason', 'diff_no_reason',\n",
    "       'diff_not_found_reason', 'no_diff', 'net', 'moneyred_x', 'cash_diff',\n",
    "       'cashcount_diff_rate', 'all_cashcount','average_cash', 'median_cash']]"
   ]
  },
  {
   "cell_type": "code",
   "execution_count": 85,
   "metadata": {},
   "outputs": [],
   "source": [
    "cashcount_check = count_cashcount_m"
   ]
  },
  {
   "cell_type": "code",
   "execution_count": 183,
   "metadata": {},
   "outputs": [],
   "source": []
  },
  {
   "cell_type": "code",
   "execution_count": null,
   "metadata": {},
   "outputs": [],
   "source": []
  },
  {
   "cell_type": "code",
   "execution_count": null,
   "metadata": {},
   "outputs": [],
   "source": []
  },
  {
   "cell_type": "code",
   "execution_count": null,
   "metadata": {},
   "outputs": [],
   "source": []
  },
  {
   "cell_type": "code",
   "execution_count": null,
   "metadata": {},
   "outputs": [],
   "source": []
  },
  {
   "cell_type": "code",
   "execution_count": null,
   "metadata": {},
   "outputs": [],
   "source": []
  },
  {
   "cell_type": "markdown",
   "metadata": {},
   "source": [
    "DISTANCE TO HO"
   ]
  },
  {
   "cell_type": "code",
   "execution_count": 86,
   "metadata": {},
   "outputs": [],
   "source": [
    "import math\n",
    "from math import radians, cos, sin, sqrt, atan2"
   ]
  },
  {
   "cell_type": "code",
   "execution_count": 87,
   "metadata": {},
   "outputs": [],
   "source": [
    "ho_hn_lat = radians(20.993118)\n",
    "ho_hn_long = radians(105.807532)\n",
    "ho_hcm_lat = radians(10.765941)\n",
    "ho_hcm_long = radians(106.659512)"
   ]
  },
  {
   "cell_type": "code",
   "execution_count": 88,
   "metadata": {},
   "outputs": [],
   "source": [
    "shop_detail = shop_infor"
   ]
  },
  {
   "cell_type": "code",
   "execution_count": 89,
   "metadata": {},
   "outputs": [],
   "source": [
    "shop_detail['shop_lat'] = [radians(i) for i in shop_detail['Vĩ độ']]\n",
    "shop_detail['shop_long'] =[radians(i) for i in shop_detail['Kinh độ']]"
   ]
  },
  {
   "cell_type": "code",
   "execution_count": 90,
   "metadata": {},
   "outputs": [],
   "source": [
    "shop_detail['ho_lat'] = np.where((shop_detail['Vùng/Miền'] =='Miền Bắc')|(shop_detail['Vùng/Miền'] =='Miền Trung'), ho_hn_lat, ho_hcm_lat)\n",
    "shop_detail['ho_long'] = np.where((shop_detail['Vùng/Miền'] =='Miền Bắc')|(shop_detail['Vùng/Miền'] =='Miền Trung'), ho_hn_long, ho_hcm_long)"
   ]
  },
  {
   "cell_type": "code",
   "execution_count": 91,
   "metadata": {},
   "outputs": [],
   "source": [
    "def distance_to_ho(shop_lat, shop_long, ho_lat, ho_long):\n",
    "    R = 6373.0\n",
    "    dlon = shop_long - ho_long\n",
    "    dlat = shop_lat - ho_lat\n",
    "\n",
    "    a = sin(dlat / 2)**2 + cos(ho_lat) * cos(shop_lat) * sin(dlon / 2)**2\n",
    "    c = 2 * atan2(sqrt(a), sqrt(1 - a))\n",
    "\n",
    "    distance = R * c\n",
    "\n",
    "    return distance"
   ]
  },
  {
   "cell_type": "code",
   "execution_count": 92,
   "metadata": {},
   "outputs": [],
   "source": [
    "distances_km = []\n",
    "for row in shop_detail.itertuples(index=False):\n",
    "    distances_km.append(distance_to_ho(row.ho_lat, row.ho_long, row.shop_lat, row.shop_long))"
   ]
  },
  {
   "cell_type": "code",
   "execution_count": 93,
   "metadata": {},
   "outputs": [],
   "source": [
    "shop_detail['distance_to_ho'] = distances_km"
   ]
  },
  {
   "cell_type": "code",
   "execution_count": 94,
   "metadata": {},
   "outputs": [],
   "source": [
    "distance_to_ho = shop_detail"
   ]
  },
  {
   "cell_type": "code",
   "execution_count": 95,
   "metadata": {},
   "outputs": [],
   "source": [
    "distance_to_ho = distance_to_ho[['Mã PGD', 'distance_to_ho']]"
   ]
  },
  {
   "cell_type": "markdown",
   "metadata": {},
   "source": [
    "SHOP FAULT"
   ]
  },
  {
   "cell_type": "code",
   "execution_count": 96,
   "metadata": {},
   "outputs": [],
   "source": [
    "# Lấy ID fault_group\n",
    "fault_group_id='1X7m2UnrVh909OKk9YOkxcIB455GPwTpAAcWGHIBn6_c'\n",
    "fault_group_wb=gc.open_by_key(fault_group_id)"
   ]
  },
  {
   "cell_type": "code",
   "execution_count": 97,
   "metadata": {},
   "outputs": [],
   "source": [
    "fault_group_data = to_dataframe(fault_group_wb, 'pos_fault_group',1,0)"
   ]
  },
  {
   "cell_type": "code",
   "execution_count": 98,
   "metadata": {},
   "outputs": [],
   "source": [
    "def shop_fault(fromdate, todate):\n",
    "    shop_fault_data_str = \"\"\"Declare @fromdate date = '\"\"\"+fromdate+\"\"\"'\n",
    " Declare @todate date = '\"\"\"+todate+\"\"\"'\n",
    " select cast(created as date) fault_created_date,SHOP_NAME_COMMENT, pawn_wid, contract_no,CATEGORY_CODE, status, PAWN_PROCESS_COMMENT_ERROR_CODE, COMMENT_ERROR_CODE\n",
    " from [dwh].[dbo].[W_KSNB_COMMENTS_CONTRACT_ERROR_F]\n",
    " where cast(CREATED as date) >=@fromdate\n",
    " and cast(CREATED as date) <=@todate\"\"\"\n",
    "    shop_fault_data = pd.read_sql_query(shop_fault_data_str, db)\n",
    "    shop_fault_data = shop_fault_data.merge(fault_group_data, left_on = 'pawn_process_comment_error_code', right_on = 'fault_code', how = 'left')\n",
    "    shop_group_fault_data = shop_fault_data[shop_fault_data['status_x'] != 'Thu hồi lỗi']\n",
    "    shop_fault_group = shop_group_fault_data.pivot_table(index='shop_name_comment', columns='risk',values= 'pawn_wid', aggfunc='count')\n",
    "    shop_fault_group = shop_fault_group.reset_index()\n",
    "    shop_fault_group = shop_fault_group.fillna(0)\n",
    "    shop_fault_group['extract_date'] = todate\n",
    "    return shop_fault_group"
   ]
  },
  {
   "cell_type": "code",
   "execution_count": 99,
   "metadata": {},
   "outputs": [],
   "source": [
    "shop_group_fault_data = shop_fault(list_date_valid[0][0],list_date_valid[0][1])"
   ]
  },
  {
   "cell_type": "code",
   "execution_count": 100,
   "metadata": {},
   "outputs": [],
   "source": [
    "shop_fault_columns = ['shop_name_comment', 'high', 'low', 'medium','significant' ,'extract_date']"
   ]
  },
  {
   "cell_type": "code",
   "execution_count": 101,
   "metadata": {},
   "outputs": [],
   "source": [
    "for i in shop_fault_columns:\n",
    "    if i not in shop_group_fault_data.columns:\n",
    "        shop_group_fault_data[i] = np.nan"
   ]
  },
  {
   "cell_type": "code",
   "execution_count": 102,
   "metadata": {},
   "outputs": [
    {
     "data": {
      "text/plain": [
       "Index(['shop_name_comment', 'high', 'low', 'medium', 'extract_date',\n",
       "       'significant'],\n",
       "      dtype='object', name='risk')"
      ]
     },
     "execution_count": 102,
     "metadata": {},
     "output_type": "execute_result"
    }
   ],
   "source": [
    "shop_group_fault_data.columns"
   ]
  },
  {
   "cell_type": "code",
   "execution_count": 103,
   "metadata": {},
   "outputs": [],
   "source": [
    "shop_group_fault_data = shop_group_fault_data[['extract_date','shop_name_comment','high', 'low', 'medium', 'significant']] "
   ]
  },
  {
   "cell_type": "code",
   "execution_count": 104,
   "metadata": {},
   "outputs": [],
   "source": [
    "shop_fault = shop_group_fault_data"
   ]
  },
  {
   "cell_type": "code",
   "execution_count": null,
   "metadata": {},
   "outputs": [],
   "source": []
  },
  {
   "cell_type": "markdown",
   "metadata": {},
   "source": [
    "POL"
   ]
  },
  {
   "cell_type": "code",
   "execution_count": 105,
   "metadata": {},
   "outputs": [],
   "source": [
    "def pol_data(fromdate, todate):\n",
    "    pol_data_str = \"\"\"Declare @fromdate date ='\"\"\"+fromdate+\"\"\"' \n",
    "Declare @todate date = '\"\"\"+todate+\"\"\"'\n",
    "select pawn_online_wid,DATEDIFF(minute,to_shop_date,shop_first_process_date) time_1,\n",
    "DATEDIFF(minute,to_shop_date,shop_fst_dt) time_2\n",
    "from [dwh].[dbo].W_pawn_online_f\n",
    "where  cast(created_pol as date) >='fromdate'\n",
    "and cast(created_pol as date) <='todate' \n",
    "and cast(to_shop_date as date)<= 'todate'\"\"\""
   ]
  },
  {
   "cell_type": "code",
   "execution_count": 106,
   "metadata": {},
   "outputs": [],
   "source": [
    "def pol_data(fromdate, todate):\n",
    "    pol_data_str = \"\"\"Declare @fromdate date ='\"\"\"+fromdate+\"\"\"' \n",
    "Declare @todate date = '\"\"\"+todate+\"\"\"'\n",
    "select pol.PAWN_ONLINE_WID pol_panw, case when replace(shop_gr.shop_code, ' ','') = 'SGN0120' then 'SGN0147'\n",
    "when replace(shop_gr.shop_code, ' ','') = 'SG2046' then 'SGN0126'\n",
    "when replace(shop_gr.shop_code, ' ','') = 'SGN0107' then 'SG2014'\n",
    "else replace(shop_gr.shop_code, ' ','') end shop_code, sd.name shopname,\n",
    "case when pol.ASSET like '%ký%' then pol.ASSET else 'Khác' end asset_type,\n",
    "current_groupid, steeped_groupid,\n",
    "cast(to_shop_date as date) to_shop_date, cast(shop_first_process_date as date) shop_first_process_date,\n",
    "shop_lst_status_str, shop_lst_content, qualified,\n",
    "pol.STATUS, status_str, cancel_type, last_process_content,\n",
    "created_pol, toshopdate_immediacy,\n",
    "pol.pawn_online_wid, asset/*, customer_name, [url], source, campaign, datediff(minute, to_shop_date,shop_fst_dt) waiting_time_to_process,\n",
    "case when  datediff(minute, to_shop_date,shop_fst_dt) <=15 then 1 else 0 end shop_process_within_15_mins,\n",
    "case when  datediff(minute, to_shop_date,shop_fst_dt) <=30 then 1 else 0 end shop_process_within_30_mins*/\n",
    "from [dwh].[dbo].W_pawn_online_f pol\n",
    "left join [dwh].[dbo].W_group_shop_d shop_gr\n",
    "left join [dwh].[dbo].ShopDetail sd on sd.code = shop_gr.SHOP_CODE\n",
    "on shop_gr.group_wid=pol.current_groupid\n",
    "where current_groupid <>44\n",
    "and shop_gr.shop_code not like '%TEST%'\n",
    "and shop_gr.shop_code not like '%HS%'\n",
    "and shop_gr.shop_code not like '%HNIXLN01%'\n",
    "and shop_gr.shop_code not like '%SGNXLN01%'\n",
    " and cast(created_pol as date) >=@fromdate\n",
    "and cast(created_pol as date) <=@todate \n",
    "and cast(to_shop_date as date)<= @todate\"\"\"\n",
    "    pol_data_raw = pd.read_sql_query(pol_data_str, db)\n",
    "#     pol_data_raw = pol_data_raw.merge(shop_data[['Mã PGD', 'GĐM', 'TPK', 'QLKV',  'Miền', 'Tỉnh/ Thành phố', 'khu_vuc']], left_on = 'shop_code', right_on = 'Mã PGD', how = 'left')\n",
    "    pol_data_raw['to_date'] = todate\n",
    "    return pol_data_raw"
   ]
  },
  {
   "cell_type": "code",
   "execution_count": 107,
   "metadata": {},
   "outputs": [],
   "source": [
    "def pol_group(fromdate, todate):\n",
    "    pol_raw_data = pol_data(fromdate, todate)\n",
    "    pol_convert_group = pol_raw_data.pivot_table(columns = 'shop_lst_status_str', index = ['asset_type','shop_code'], values = 'pol_panw', aggfunc = 'nunique')\n",
    "    pol_convert_group = pol_convert_group.reset_index() \n",
    "    pol_convert_group = pol_convert_group.fillna(0)\n",
    "    pol_all_summ = pol_raw_data.groupby(['asset_type','shop_code']).agg({'pol_panw':'nunique'})\n",
    "#     pol_all_summ = pol_raw_data.groupby(['asset_type','shop_code']).agg({'pol_panw':'nunique', 'shop_process_within_15_mins':'sum', 'shop_process_within_30_mins':'sum'})\n",
    "    pol_all_summ = pol_all_summ.reset_index()\n",
    "    pol_convert_group = pol_convert_group.merge(pol_all_summ, on = ['asset_type','shop_code'], how = 'left')\n",
    "    pol_convert_group['extract_date'] = todate\n",
    "    return pol_convert_group"
   ]
  },
  {
   "cell_type": "code",
   "execution_count": 108,
   "metadata": {},
   "outputs": [],
   "source": [
    "pawn_online_convert = pol_group(list_date_valid[0][0], list_date_valid[0][1])"
   ]
  },
  {
   "cell_type": "code",
   "execution_count": 109,
   "metadata": {},
   "outputs": [],
   "source": [
    "pawn_online_convert = pawn_online_convert.fillna(0)"
   ]
  },
  {
   "cell_type": "code",
   "execution_count": 110,
   "metadata": {},
   "outputs": [],
   "source": [
    "pawn_online_convert['success_rate'] = pawn_online_convert['Nhận Cầm Cố']/pawn_online_convert['pol_panw']\n",
    "pawn_online_convert['cancelled_rate'] = pawn_online_convert['Hủy đăng ký']/pawn_online_convert['pol_panw']"
   ]
  },
  {
   "cell_type": "code",
   "execution_count": 111,
   "metadata": {},
   "outputs": [],
   "source": [
    "pawn_online_convert = pawn_online_convert.drop(columns='')"
   ]
  },
  {
   "cell_type": "code",
   "execution_count": 112,
   "metadata": {},
   "outputs": [],
   "source": [
    "pawn_online_convert_summ = pawn_online_convert[['extract_date', 'shop_code','asset_type', 'Hủy đăng ký', 'Nhận Cầm Cố', 'PGD đang chăm sóc','pol_panw', 'success_rate', 'cancelled_rate']]"
   ]
  },
  {
   "cell_type": "code",
   "execution_count": 113,
   "metadata": {},
   "outputs": [],
   "source": [
    "pawn_online_convert_summ.columns = ['extract_date', 'shop_code','asset_type','cancelled', 'success_convert', 'taking_care', 'all', 'success_rate', 'cancelled_rate']\n",
    "pol_cartitle = pawn_online_convert_summ[pawn_online_convert_summ['asset_type'] == 'Đăng ký Ô tô']\n",
    "\n",
    "pol_motortitle = pawn_online_convert_summ[pawn_online_convert_summ['asset_type'] == 'Đăng ký xe máy']\n",
    "\n",
    "pol_normalasset = pawn_online_convert_summ[pawn_online_convert_summ['asset_type'] == 'Khác']"
   ]
  },
  {
   "cell_type": "code",
   "execution_count": 114,
   "metadata": {},
   "outputs": [],
   "source": [
    "pol_cartitle.columns = ['extract_date', 'shop_code', 'asset_type', 'cartt_cancelled', 'cartt_success_convert',\n",
    "       'cartt_taking_care', 'cartt_all', 'cartt_success_rate', 'cartt_cancelled_rate']"
   ]
  },
  {
   "cell_type": "code",
   "execution_count": 115,
   "metadata": {},
   "outputs": [],
   "source": [
    "pol_motortitle.columns = ['extract_date', 'shop_code', 'asset_type',\n",
    "       'motortt_cancelled', 'motortt_success_convert',\n",
    "       'motortt_taking_care', 'motortt_all', 'motortt_success_rate', 'motortt_cancelled_rate',]"
   ]
  },
  {
   "cell_type": "code",
   "execution_count": 116,
   "metadata": {},
   "outputs": [],
   "source": [
    "pol_normalasset.columns = ['extract_date', 'shop_code', 'asset_type',\n",
    "       'normass_cancelled', 'normass_success_convert',\n",
    "       'normass_taking_care', 'normass_all', 'normass_success_rate', 'normass_cancelled_rate']"
   ]
  },
  {
   "cell_type": "code",
   "execution_count": 371,
   "metadata": {},
   "outputs": [
    {
     "data": {
      "text/plain": [
       "pandas._libs.tslibs.timestamps.Timestamp"
      ]
     },
     "execution_count": 371,
     "metadata": {},
     "output_type": "execute_result"
    }
   ],
   "source": [
    "type(pol_cartitle['extract_date'][527])"
   ]
  },
  {
   "cell_type": "code",
   "execution_count": null,
   "metadata": {},
   "outputs": [],
   "source": []
  },
  {
   "cell_type": "markdown",
   "metadata": {},
   "source": [
    "TRAFFIC"
   ]
  },
  {
   "cell_type": "code",
   "execution_count": 117,
   "metadata": {},
   "outputs": [],
   "source": [
    "def traffic_data(fromdate, todate):\n",
    "    traff_raw_str = \"\"\"Declare @fromdate date ='\"\"\"+fromdate+\"\"\"' \n",
    "Declare @todate date = '\"\"\"+todate+\"\"\"'\n",
    "select * from\n",
    "(select  shop.AreaID areaid, \n",
    "case when shop.code = 'SGN0120' then N'SGN0147.409C Lý Thường Kiệt'\n",
    "when shop.code = 'SG2046' then N'SGN0126.48 Trần Nhân Tôn'\n",
    "when shop.code = 'SGN0107' then N'F88 HCM - 54H Nguyễn Ảnh Thủ'\n",
    "else shop.name end shopname,\n",
    "shop.OpenDate open_date,\n",
    "tra.TRAFFIC_NUM traffic_num, tra.CTR_OPEN_NUM contract_open,\n",
    "case when cate.NAME like '%ký%' then cate.NAME else 'others' end categoryname\n",
    "from \n",
    "(\n",
    "select CATEGORY_WID, SHOP_WID, sum(traffic_num) TRAFFIC_NUM, sum(ctr_open_num)  CTR_OPEN_NUM\n",
    "from [dwh].[dbo].[W_TRAFFIC_LOAN_DAILY_F] \n",
    "where  CREATED> @fromdate\n",
    "and CREATED<= @todate\n",
    "group by CATEGORY_WID, SHOP_WID) tra\n",
    "left join [dwh].[dbo].shopdetail shop on shop.shopid=tra.SHOP_WID\n",
    "left join [dwh].[dbo].W_CATEGORY_D cate on tra.category_wid=cate.CATEGORY_WID\n",
    "where shop.code not like '%TEST%'\n",
    "and shop.code not like '%HS%'\n",
    "and shop.code not like '%HNIXLN01%'\n",
    "and shop.code not like '%SGNXLN01%') main\n",
    "where main.contract_open <= main.traffic_num\"\"\"\n",
    "    traff_raw = pd.read_sql_query(traff_raw_str, db)\n",
    "    traff_raw['convert_rate'] = traff_raw['contract_open']/traff_raw['traffic_num']\n",
    "    traff_raw['extract_date'] = todate\n",
    "    return traff_raw"
   ]
  },
  {
   "cell_type": "code",
   "execution_count": 118,
   "metadata": {},
   "outputs": [],
   "source": [
    "traffic_data_raw = traffic_data(list_date_valid[0][0],list_date_valid[0][1])"
   ]
  },
  {
   "cell_type": "code",
   "execution_count": 119,
   "metadata": {},
   "outputs": [],
   "source": [
    "traffic_data_raw_group = traffic_data_raw.groupby(['categoryname','shopname', 'extract_date']).agg({'traffic_num':'sum', 'contract_open':'sum'})"
   ]
  },
  {
   "cell_type": "code",
   "execution_count": 120,
   "metadata": {},
   "outputs": [],
   "source": [
    "traffic_data_raw_group = traffic_data_raw_group.reset_index()"
   ]
  },
  {
   "cell_type": "code",
   "execution_count": 121,
   "metadata": {},
   "outputs": [],
   "source": [
    "traffic_data_raw_group['convert_rate'] = traffic_data_raw_group['contract_open']/traffic_data_raw_group['traffic_num']"
   ]
  },
  {
   "cell_type": "code",
   "execution_count": 122,
   "metadata": {},
   "outputs": [],
   "source": [
    "cartitle_traffic_rate = traffic_data_raw_group[traffic_data_raw_group['categoryname'] == 'Đăng ký Ô tô']\n",
    "\n",
    "motortitle_traffic_rate = traffic_data_raw_group[traffic_data_raw_group['categoryname'] == 'Đăng ký xe máy']\n",
    "\n",
    "norm_asset_traffic_rate = traffic_data_raw_group[traffic_data_raw_group['categoryname'] == 'others']"
   ]
  },
  {
   "cell_type": "code",
   "execution_count": 123,
   "metadata": {},
   "outputs": [],
   "source": [
    "cartitle_traffic_rate = cartitle_traffic_rate[[ 'shopname','categoryname','traffic_num','contract_open','convert_rate', 'extract_date']]\n",
    "motortitle_traffic_rate = motortitle_traffic_rate[[ 'shopname','categoryname','traffic_num','contract_open','convert_rate', 'extract_date']]\n",
    "norm_asset_traffic_rate = norm_asset_traffic_rate[[ 'shopname','categoryname','traffic_num','contract_open','convert_rate', 'extract_date']]"
   ]
  },
  {
   "cell_type": "code",
   "execution_count": 124,
   "metadata": {},
   "outputs": [],
   "source": [
    "cartitle_traffic_rate.columns = ['shopname','categoryname', 'cartt_traffic','cartt_contract_open','cartt_convert_rate','extract_date']\n",
    "motortitle_traffic_rate.columns = ['shopname','categoryname', 'motortt_traffic','motortt_contract_open','motortt_convert_rate','extract_date']\n",
    "norm_asset_traffic_rate.columns = ['shopname','categoryname', 'normass_traffic','normass_contract_open','normass_convert_rate','extract_date']"
   ]
  },
  {
   "cell_type": "code",
   "execution_count": 125,
   "metadata": {},
   "outputs": [],
   "source": [
    "cartitle_traffic_rate = cartitle_traffic_rate[['extract_date','shopname', 'cartt_traffic','cartt_contract_open', 'cartt_convert_rate']]\n",
    "\n",
    "motortitle_traffic_rate = motortitle_traffic_rate[['extract_date','shopname', 'motortt_traffic', 'motortt_contract_open', 'motortt_convert_rate']]\n",
    "\n",
    "norm_asset_traffic_rate = norm_asset_traffic_rate[['extract_date','shopname', 'normass_traffic', 'normass_contract_open', 'normass_convert_rate']]"
   ]
  },
  {
   "cell_type": "code",
   "execution_count": null,
   "metadata": {},
   "outputs": [],
   "source": []
  },
  {
   "cell_type": "code",
   "execution_count": null,
   "metadata": {},
   "outputs": [],
   "source": []
  },
  {
   "cell_type": "markdown",
   "metadata": {},
   "source": [
    "AUDIT SCHEDULE"
   ]
  },
  {
   "cell_type": "code",
   "execution_count": 1161,
   "metadata": {},
   "outputs": [],
   "source": [
    "# Lấy ID audit schedule\n",
    "audit_schedule='1tzePinmzoopkaiq5NQ_wch3N_o5W5G0eC8qrjPYLviI'\n",
    "audit_schedule_wb=client.open_by_key(audit_schedule)"
   ]
  },
  {
   "cell_type": "code",
   "execution_count": 1162,
   "metadata": {},
   "outputs": [],
   "source": [
    "audit_schedule=audit_schedule_wb.worksheet_by_title('schedule').get_as_df()"
   ]
  },
  {
   "cell_type": "code",
   "execution_count": 1163,
   "metadata": {},
   "outputs": [],
   "source": [
    "audit_schedule['audit_month'] = [i.month for i in pd.to_datetime(audit_schedule['audit_date'])]"
   ]
  },
  {
   "cell_type": "code",
   "execution_count": 1164,
   "metadata": {},
   "outputs": [],
   "source": [
    "audit_schedule['thang'] = np.where(audit_schedule['audit_month'] == datetime.strptime(running_check, \"%Y-%m-%d\").month, audit_schedule['audit_month'], audit_schedule['audit_month'] + 1)"
   ]
  },
  {
   "cell_type": "code",
   "execution_count": 1165,
   "metadata": {},
   "outputs": [],
   "source": [
    "audit_schedule_maxtime = audit_schedule.pivot_table(index='shopname', columns='audit_type', values='audit_date',aggfunc='max' ).reset_index()"
   ]
  },
  {
   "cell_type": "code",
   "execution_count": 1166,
   "metadata": {},
   "outputs": [
    {
     "data": {
      "text/plain": [
       "Index(['shopcode', 'shopname', 'opendate', 'Mã PGD', 'Tỉnh/TP', 'Vĩ độ',\n",
       "       'Kinh độ', 'Vùng/Miền', 'key', 'extract_date', 'yearmonth',\n",
       "       'province_id', 'province_name', 'province_risk_level'],\n",
       "      dtype='object')"
      ]
     },
     "execution_count": 1166,
     "metadata": {},
     "output_type": "execute_result"
    }
   ],
   "source": [
    "shop_infor.columns"
   ]
  },
  {
   "cell_type": "code",
   "execution_count": 1167,
   "metadata": {},
   "outputs": [],
   "source": [
    "shop_infor['extract_date'] = pd.to_datetime(shop_infor['extract_date'], format=\"%Y-%m-%d\")\n",
    "shop_infor['opendate'] = pd.to_datetime(shop_infor['opendate'], format=\"%Y-%m-%d\")\n",
    "shop_infor['based_date'] = pd.to_datetime('2020-04-30', format=\"%Y-%m-%d\")"
   ]
  },
  {
   "cell_type": "code",
   "execution_count": 1168,
   "metadata": {},
   "outputs": [],
   "source": [
    "shop_infor['final_date'] = np.where(shop_infor['opendate']>shop_infor['based_date'], shop_infor['opendate'], shop_infor['based_date'])"
   ]
  },
  {
   "cell_type": "code",
   "execution_count": 1169,
   "metadata": {},
   "outputs": [],
   "source": [
    "audit_schedule_direct = audit_schedule[audit_schedule['audit_type'] == 'Direct']\n",
    "\n",
    "audit_schedule_indirect = audit_schedule[audit_schedule['audit_type'] == 'Indirect']"
   ]
  },
  {
   "cell_type": "code",
   "execution_count": 1170,
   "metadata": {},
   "outputs": [
    {
     "data": {
      "text/plain": [
       "Index(['shopcode', 'shopname', 'region', 'province', 'audit_date',\n",
       "       'audit_yearmonth', 'audit_type', 'Thời gian', 'auditor', 'audit_month',\n",
       "       'thang'],\n",
       "      dtype='object')"
      ]
     },
     "execution_count": 1170,
     "metadata": {},
     "output_type": "execute_result"
    }
   ],
   "source": [
    "audit_schedule_indirect.columns"
   ]
  },
  {
   "cell_type": "code",
   "execution_count": 1171,
   "metadata": {},
   "outputs": [
    {
     "data": {
      "text/plain": [
       "Index(['shopcode', 'shopname', 'region', 'province', 'audit_date',\n",
       "       'audit_yearmonth', 'audit_type', 'Thời gian', 'auditor', 'audit_month',\n",
       "       'thang'],\n",
       "      dtype='object')"
      ]
     },
     "execution_count": 1171,
     "metadata": {},
     "output_type": "execute_result"
    }
   ],
   "source": [
    "audit_schedule_direct.columns"
   ]
  },
  {
   "cell_type": "code",
   "execution_count": 1172,
   "metadata": {},
   "outputs": [],
   "source": [
    "shop_infor['thang'] = pd.to_datetime(shop_infor['extract_date'], format=\"%Y-%m-%d\")"
   ]
  },
  {
   "cell_type": "code",
   "execution_count": 1173,
   "metadata": {},
   "outputs": [],
   "source": [
    "shop_infor['thang'] = [i.month for i in shop_infor['thang']]"
   ]
  },
  {
   "cell_type": "code",
   "execution_count": 1174,
   "metadata": {},
   "outputs": [],
   "source": [
    "shop_infor_direct = shop_infor.merge(audit_schedule_direct, on = ['shopname', 'thang'], how = 'left')"
   ]
  },
  {
   "cell_type": "code",
   "execution_count": 1175,
   "metadata": {},
   "outputs": [],
   "source": [
    "shop_infor_indirect = shop_infor.merge(audit_schedule_indirect, on = ['shopname', 'thang'], how = 'left')"
   ]
  },
  {
   "cell_type": "code",
   "execution_count": 1176,
   "metadata": {},
   "outputs": [],
   "source": [
    "shop_infor_direct = shop_infor_direct[['shopname','opendate','extract_date','audit_date','final_date']]"
   ]
  },
  {
   "cell_type": "code",
   "execution_count": 1177,
   "metadata": {},
   "outputs": [],
   "source": [
    "shop_infor_direct.columns = ['shopname','opendate','extract_date','direct_audit_date','final_date']"
   ]
  },
  {
   "cell_type": "code",
   "execution_count": 1178,
   "metadata": {},
   "outputs": [],
   "source": [
    "shop_infor_indirect = shop_infor_indirect[['shopname','opendate','extract_date','audit_date','final_date']]\n",
    "shop_infor_indirect.columns = ['shopname','opendate','extract_date','indirect_audit_date','final_date']"
   ]
  },
  {
   "cell_type": "code",
   "execution_count": 1179,
   "metadata": {},
   "outputs": [],
   "source": [
    "shop_infor_direct = shop_infor_direct.merge(audit_schedule_maxtime, on = 'shopname', how = 'left')"
   ]
  },
  {
   "cell_type": "code",
   "execution_count": 1180,
   "metadata": {},
   "outputs": [],
   "source": [
    "shop_infor_direct['final_date'] =pd.to_datetime(shop_infor_direct['final_date'], format='%Y-%m-%d') "
   ]
  },
  {
   "cell_type": "code",
   "execution_count": 1181,
   "metadata": {},
   "outputs": [],
   "source": [
    "shop_infor_direct = shop_infor_direct.drop(columns='Indirect')\n",
    "\n",
    "shop_infor_direct['Direct'] =pd.to_datetime(shop_infor_direct['Direct'], format='%Y-%m-%d') "
   ]
  },
  {
   "cell_type": "code",
   "execution_count": 1182,
   "metadata": {},
   "outputs": [],
   "source": [
    "shop_infor_direct['date_for_diff'] = np.where(shop_infor_direct['direct_audit_date'].isnull()==False,shop_infor_direct['direct_audit_date'],shop_infor_direct['Direct'])\n",
    "\n",
    "shop_infor_direct['date_for_diff'] = np.where(shop_infor_direct['date_for_diff'].isnull()==False, shop_infor_direct['date_for_diff'], shop_infor_direct['final_date'])\n",
    "\n",
    "shop_infor_direct['date_for_diff'] =pd.to_datetime(shop_infor_direct['date_for_diff'], format='%Y-%m-%d')"
   ]
  },
  {
   "cell_type": "code",
   "execution_count": 1183,
   "metadata": {},
   "outputs": [],
   "source": [
    "shop_infor_direct['sub_date_for_diff'] = np.where(shop_infor_direct['date_for_diff']<= shop_infor_direct['extract_date'], shop_infor_direct['date_for_diff'], shop_infor_direct['direct_audit_date'])\n",
    "\n",
    "shop_infor_direct['sub_date_for_diff'] = np.where(shop_infor_direct['sub_date_for_diff'].isnull() == False,shop_infor_direct['sub_date_for_diff'], shop_infor_direct['final_date'])\n",
    "\n",
    "shop_infor_direct['sub_date_for_diff'] =pd.to_datetime(shop_infor_direct['sub_date_for_diff'], format='%Y-%m-%d') \n",
    "\n",
    "shop_infor_direct['nums_diff_day_from_last_direct_audit'] = shop_infor_direct['extract_date'] - shop_infor_direct['sub_date_for_diff']\n",
    "\n",
    "shop_infor_direct['nums_diff_day_from_last_direct_audit'] = pd.to_numeric(shop_infor_direct['nums_diff_day_from_last_direct_audit'].dt.days, downcast='integer')\n",
    "\n",
    "shop_infor_direct = shop_infor_direct[shop_infor_direct['nums_diff_day_from_last_direct_audit']>0]"
   ]
  },
  {
   "cell_type": "code",
   "execution_count": 1184,
   "metadata": {},
   "outputs": [],
   "source": [
    "shop_infor_indirect = shop_infor_indirect.merge(audit_schedule_maxtime, on = 'shopname', how = 'left')"
   ]
  },
  {
   "cell_type": "code",
   "execution_count": 1185,
   "metadata": {},
   "outputs": [],
   "source": [
    "shop_infor_indirect = shop_infor_indirect.drop(columns='Direct')"
   ]
  },
  {
   "cell_type": "code",
   "execution_count": 1187,
   "metadata": {},
   "outputs": [],
   "source": [
    "shop_infor_indirect['Indirect'] =pd.to_datetime(shop_infor_indirect['Indirect'], format='%Y-%m-%d') "
   ]
  },
  {
   "cell_type": "code",
   "execution_count": 1188,
   "metadata": {},
   "outputs": [],
   "source": [
    "shop_infor_indirect['date_for_diff'] = np.where(shop_infor_indirect['indirect_audit_date'].isnull()==False,shop_infor_indirect['indirect_audit_date'],shop_infor_indirect['Indirect'])\n",
    "\n",
    "shop_infor_indirect['date_for_diff'] = np.where(shop_infor_indirect['date_for_diff'].isnull()==False, shop_infor_indirect['date_for_diff'], shop_infor_indirect['final_date'])\n",
    "\n",
    "shop_infor_indirect['date_for_diff'] =pd.to_datetime(shop_infor_indirect['date_for_diff'], format='%Y-%m-%d')"
   ]
  },
  {
   "cell_type": "code",
   "execution_count": 1189,
   "metadata": {},
   "outputs": [],
   "source": [
    "shop_infor_indirect['sub_date_for_diff'] = np.where(shop_infor_indirect['date_for_diff']<= shop_infor_indirect['extract_date'], shop_infor_indirect['date_for_diff'], shop_infor_indirect['indirect_audit_date'])\n",
    "\n",
    "shop_infor_indirect['sub_date_for_diff'] = np.where(shop_infor_indirect['sub_date_for_diff'].isnull() == False,shop_infor_indirect['sub_date_for_diff'], shop_infor_indirect['final_date'])\n",
    "\n",
    "shop_infor_indirect['sub_date_for_diff'] =pd.to_datetime(shop_infor_indirect['sub_date_for_diff'], format='%Y-%m-%d') "
   ]
  },
  {
   "cell_type": "code",
   "execution_count": 1200,
   "metadata": {},
   "outputs": [],
   "source": [
    "shop_infor_indirect['nums_diff_day_from_last_indirect_audit'] = pd.to_numeric(shop_infor_indirect['nums_diff_day_from_last_indirect_audit'].dt.days, downcast='integer')"
   ]
  },
  {
   "cell_type": "code",
   "execution_count": 1202,
   "metadata": {},
   "outputs": [],
   "source": [
    "shop_infor_indirect = shop_infor_indirect[shop_infor_indirect['nums_diff_day_from_last_direct_audit']>=0]"
   ]
  },
  {
   "cell_type": "code",
   "execution_count": 1203,
   "metadata": {},
   "outputs": [],
   "source": [
    "shop_infor_direct = shop_infor_direct[['shopname', 'extract_date','nums_diff_day_from_last_direct_audit']]"
   ]
  },
  {
   "cell_type": "code",
   "execution_count": 1204,
   "metadata": {},
   "outputs": [],
   "source": [
    "shop_infor_indirect = shop_infor_indirect[['shopname', 'extract_date','nums_diff_day_from_last_indirect_audit']]"
   ]
  },
  {
   "cell_type": "code",
   "execution_count": 1205,
   "metadata": {},
   "outputs": [],
   "source": [
    "shop_infor_direct['extract_date'] = pd.to_datetime(shop_infor_direct['extract_date'],format='%Y-%m-%d')\n",
    "shop_infor_indirect['extract_date'] = pd.to_datetime(shop_infor_indirect['extract_date'],format='%Y-%m-%d')"
   ]
  },
  {
   "cell_type": "code",
   "execution_count": 1206,
   "metadata": {},
   "outputs": [],
   "source": [
    "direct_audit_schedule = shop_infor_direct\n",
    "indirect_audit_schedule = shop_infor_indirect"
   ]
  },
  {
   "cell_type": "code",
   "execution_count": 1207,
   "metadata": {},
   "outputs": [],
   "source": [
    "direct_audit_schedule = direct_audit_schedule[['extract_date', 'shopname', 'nums_diff_day_from_last_direct_audit']]"
   ]
  },
  {
   "cell_type": "code",
   "execution_count": 1208,
   "metadata": {},
   "outputs": [],
   "source": [
    "indirect_audit_schedule= indirect_audit_schedule[['extract_date','shopname','nums_diff_day_from_last_indirect_audit']]"
   ]
  },
  {
   "cell_type": "code",
   "execution_count": null,
   "metadata": {},
   "outputs": [],
   "source": []
  },
  {
   "cell_type": "markdown",
   "metadata": {},
   "source": [
    "25% Quartile"
   ]
  },
  {
   "cell_type": "code",
   "execution_count": 164,
   "metadata": {},
   "outputs": [],
   "source": [
    "def open_period(fromdate, todate):\n",
    "    open_period_str = \"\"\"Declare @fromdate date = '\"\"\"+fromdate+\"\"\"'\n",
    "Declare @todate date = '\"\"\"+todate+\"\"\"'\n",
    "select le.EXTRAC_DATE,support_staff,created_staff,ShopCode,le.CodeNo,Customer,case when categorycode like '%17%' then 'DKXM'\n",
    "when  categorycode like '%15%' then 'DKOT'\n",
    "else 'SPTT' end categoryname,OpenHour,InitTime,complete, datediff(minute,OpenHour, complete) open_period\n",
    "from OPEN_CLOSE_CONTRACT_BY_TIME le \n",
    "left join W_CATEGORY_D cate on cate.CODE=le.CategoryCode \n",
    "left join (select codeno,FirstSupportID,u.USER_CODE support_staff,u2.USER_CODE created_staff,ShopCode,InitTime from pawn pa1 \n",
    "left join W_USER_F u on pa1.firstsupportid=u.USER_WID \n",
    "left join W_USER_F u2 on pa1.CreatedBy=u2.USER_WID )pa on le.CodeNo=pa.CodeNo \n",
    "left join (select PAWN_WID,CONTRACT_NO,min(CREATED)complete \n",
    "from W_PAWN_TRANSACTION_F where action_name like N'Cho vay' group by PAWN_WID,CONTRACT_NO)trans on trans.CONTRACT_NO=le.CodeNo \n",
    "where OpenHour is not null \n",
    "and cast (OpenHour as date) > @fromdate\n",
    "and cast (OpenHour as date) <= @todate\"\"\"\n",
    "    open_period = pd.read_sql_query(open_period_str, db)\n",
    "    open_period['extract_date'] = todate\n",
    "    return open_period"
   ]
  },
  {
   "cell_type": "code",
   "execution_count": 165,
   "metadata": {},
   "outputs": [],
   "source": [
    "def one_forth_quartile_norm(fromdate, todate):\n",
    "    data_raw = open_period(fromdate, todate)\n",
    "    normal_asset_quartile_open_period = data_raw[data_raw['categoryname']=='SPTT'].groupby('shopcode')[['open_period']].describe().reset_index()\n",
    "    normal_asset_quartile_open_period.columns = ['_'.join(col) for col in normal_asset_quartile_open_period.columns.values]\n",
    "    normal_asset_quartile_open_period = normal_asset_quartile_open_period[['shopcode_', 'open_period_25%']]\n",
    "    normal_asset_quartile_open_period['extract_date'] = todate\n",
    "    normal_asset_quartile_open_period.columns = ['shopcode', 'normal_asset_25%', 'extract_date']\n",
    "    return normal_asset_quartile_open_period"
   ]
  },
  {
   "cell_type": "code",
   "execution_count": 166,
   "metadata": {},
   "outputs": [],
   "source": [
    "def one_forth_quartile_motor_title(fromdate, todate):\n",
    "    data_raw = open_period(fromdate, todate)\n",
    "    motortt_quartile_open_period = data_raw[data_raw['categoryname']=='DKXM'].groupby('shopcode')[['open_period']].describe().reset_index()\n",
    "    motortt_quartile_open_period.columns = ['_'.join(col) for col in motortt_quartile_open_period.columns.values]\n",
    "    motortt_quartile_open_period = motortt_quartile_open_period[['shopcode_', 'open_period_25%']]\n",
    "    motortt_quartile_open_period['extract_date'] = todate\n",
    "    motortt_quartile_open_period.columns = ['shopcode', 'motor_title_25%', 'extract_date']\n",
    "    return motortt_quartile_open_period"
   ]
  },
  {
   "cell_type": "code",
   "execution_count": 167,
   "metadata": {},
   "outputs": [],
   "source": [
    "def one_forth_quartile_car_title(fromdate, todate):\n",
    "    data_raw = open_period(fromdate, todate)\n",
    "    quartile_open_period = data_raw[data_raw['categoryname']=='DKOT'].groupby('shopcode')[['open_period']].describe().reset_index()\n",
    "    quartile_open_period.columns = ['_'.join(col) for col in quartile_open_period.columns.values]\n",
    "    quartile_open_period = quartile_open_period[['shopcode_', 'open_period_25%']]\n",
    "    quartile_open_period['extract_date'] = todate\n",
    "    quartile_open_period.columns = ['shopcode', 'car_title_25%', 'extract_date']\n",
    "    return quartile_open_period"
   ]
  },
  {
   "cell_type": "code",
   "execution_count": 168,
   "metadata": {},
   "outputs": [],
   "source": [
    "motor_title_all = one_forth_quartile_motor_title(list_date_valid[0][0],list_date_valid[0][1])\n",
    "car_title_all = one_forth_quartile_car_title(list_date_valid[0][0],list_date_valid[0][1])\n",
    "normal_asset_all = one_forth_quartile_norm(list_date_valid[0][0],list_date_valid[0][1])"
   ]
  },
  {
   "cell_type": "code",
   "execution_count": 169,
   "metadata": {},
   "outputs": [],
   "source": [
    "all_one_forth = motor_title_all.merge(car_title_all, on = ['shopcode', 'extract_date']).merge(normal_asset_all, on = ['shopcode', 'extract_date'])"
   ]
  },
  {
   "cell_type": "code",
   "execution_count": 171,
   "metadata": {},
   "outputs": [],
   "source": [
    "motor_title_one_forth_open_time = motor_title_all\n",
    "\n",
    "car_title_one_forth_open_time = car_title_all\n",
    "normal_asset_one_forth_open_time = normal_asset_all"
   ]
  },
  {
   "cell_type": "code",
   "execution_count": 172,
   "metadata": {},
   "outputs": [],
   "source": [
    "motor_title_one_forth_open_time['extract_date'] = pd.to_datetime(motor_title_one_forth_open_time['extract_date'], format=\"%Y-%m-%d\")\n",
    "car_title_one_forth_open_time['extract_date'] = pd.to_datetime(car_title_one_forth_open_time['extract_date'], format=\"%Y-%m-%d\")\n",
    "normal_asset_one_forth_open_time['extract_date'] = pd.to_datetime(normal_asset_one_forth_open_time['extract_date'], format=\"%Y-%m-%d\")"
   ]
  },
  {
   "cell_type": "code",
   "execution_count": null,
   "metadata": {},
   "outputs": [],
   "source": []
  },
  {
   "cell_type": "code",
   "execution_count": null,
   "metadata": {},
   "outputs": [],
   "source": []
  },
  {
   "cell_type": "markdown",
   "metadata": {},
   "source": [
    "DISBUR PAWN DAY"
   ]
  },
  {
   "cell_type": "code",
   "execution_count": 173,
   "metadata": {},
   "outputs": [],
   "source": [
    "def disbur_pawn_day(fromdate, todate):\n",
    "    disbur_pawn_day_str = \"\"\"Declare @fromdate date = '\"\"\"+fromdate+\"\"\"'\n",
    "Declare @todate date = '\"\"\"+todate+\"\"\"'\n",
    "  select fromdate, shopcode, pawnid, case when CategoryCode like '%15%' then 'DKOT'\n",
    "  when CategoryCode like '%17%' then 'DKXM'\n",
    "  else 'SPTT' end category_name\n",
    "FROM [dwh].[dbo].[Pawn]\n",
    "  where fromdate>@fromdate\n",
    "  and fromdate<=@todate\n",
    "  and ShopCode not like '%HS%'\n",
    "  and ShopCode not like '%TEST%'\n",
    "  and status not in (11,15,22)\"\"\"\n",
    "    disbur_pawn_day = pd.read_sql_query(disbur_pawn_day_str, db)\n",
    "    return disbur_pawn_day"
   ]
  },
  {
   "cell_type": "code",
   "execution_count": 174,
   "metadata": {},
   "outputs": [],
   "source": [
    "def disbur_group(fromdate, todate):\n",
    "    trial = disbur_pawn_day(fromdate, todate)\n",
    "    trial['extract_date'] = todate\n",
    "    disbur_pawn = trial.pivot_table(index = ['extract_date','shopcode'], columns='category_name', values='pawnid', aggfunc='nunique').reset_index()\n",
    "    disbur_pawn.columns = ['extract_date','shopcode', 'nums_disbur_pawn_DKOT', 'nums_disbur_pawn_DKXM', 'nums_disbur_pawn_SPTT']\n",
    "    disbur_day = trial.pivot_table(index = ['extract_date','shopcode'], columns='category_name', values='fromdate', aggfunc='nunique').reset_index()\n",
    "    disbur_day.columns = ['extract_date','shopcode', 'nums_disbur_days_DKOT', 'nums_disbur_days_DKXM', 'nums_disbur_days_SPTT']\n",
    "    disbur_group_pawn_days = disbur_day.merge(disbur_pawn, on = ['extract_date','shopcode'], how = 'left')\n",
    "    disbur_group_pawn_days = disbur_group_pawn_days.fillna(0)\n",
    "    disbur_group_pawn_days['avg_disbur_pawn_car_title'] = disbur_group_pawn_days['nums_disbur_pawn_DKOT']/ disbur_group_pawn_days['nums_disbur_days_DKOT']\n",
    "    disbur_group_pawn_days['avg_disbur_pawn_motor_title'] = disbur_group_pawn_days['nums_disbur_pawn_DKXM']/ disbur_group_pawn_days['nums_disbur_days_DKXM']\n",
    "    disbur_group_pawn_days['avg_disbur_pawn_normal_asset'] = disbur_group_pawn_days['nums_disbur_pawn_SPTT']/ disbur_group_pawn_days['nums_disbur_days_SPTT']\n",
    "    return disbur_group_pawn_days"
   ]
  },
  {
   "cell_type": "code",
   "execution_count": 175,
   "metadata": {},
   "outputs": [],
   "source": [
    "disbur_pawn_days = disbur_group(list_date_valid[0][0],list_date_valid[0][1]) "
   ]
  },
  {
   "cell_type": "code",
   "execution_count": 176,
   "metadata": {},
   "outputs": [],
   "source": [
    "disbur_pawn_day = disbur_pawn_days"
   ]
  },
  {
   "cell_type": "code",
   "execution_count": 177,
   "metadata": {},
   "outputs": [],
   "source": [
    "disbur_pawn_day = disbur_pawn_day[['extract_date', 'shopcode', 'nums_disbur_days_DKOT',\n",
    "       'nums_disbur_days_DKXM', 'nums_disbur_days_SPTT','avg_disbur_pawn_car_title',\n",
    "       'avg_disbur_pawn_motor_title', 'avg_disbur_pawn_normal_asset']]"
   ]
  },
  {
   "cell_type": "code",
   "execution_count": 178,
   "metadata": {},
   "outputs": [
    {
     "name": "stderr",
     "output_type": "stream",
     "text": [
      "D:\\Anaconda3\\lib\\site-packages\\ipykernel_launcher.py:1: SettingWithCopyWarning: \n",
      "A value is trying to be set on a copy of a slice from a DataFrame.\n",
      "Try using .loc[row_indexer,col_indexer] = value instead\n",
      "\n",
      "See the caveats in the documentation: http://pandas.pydata.org/pandas-docs/stable/indexing.html#indexing-view-versus-copy\n",
      "  \"\"\"Entry point for launching an IPython kernel.\n"
     ]
    }
   ],
   "source": [
    "disbur_pawn_day['extract_date'] = pd.to_datetime(disbur_pawn_day['extract_date'], format=\"%Y-%m-%d\")"
   ]
  },
  {
   "cell_type": "code",
   "execution_count": null,
   "metadata": {},
   "outputs": [],
   "source": []
  },
  {
   "cell_type": "code",
   "execution_count": null,
   "metadata": {},
   "outputs": [],
   "source": []
  },
  {
   "cell_type": "markdown",
   "metadata": {},
   "source": [
    "KPI"
   ]
  },
  {
   "cell_type": "code",
   "execution_count": 197,
   "metadata": {},
   "outputs": [],
   "source": [
    "write_off_id='15r30_u_xE0iUexkUgsbZqcZTy0htmSflCp-uty_1hWA'\n",
    "write_off_wb=gc.open_by_key(write_off_id)\n",
    "write_off=to_dataframe(write_off_wb,'list',1,0)\n",
    "\n",
    "write_off.amount=write_off.amount.astype(int)\n",
    "\n",
    "write_off.write_off_period=write_off.write_off_period.astype(int)\n",
    "\n",
    "# Lấy danh sách write-off\n",
    "write_off['code']=write_off.codeno.apply(lambda x: x[4:])"
   ]
  },
  {
   "cell_type": "code",
   "execution_count": 182,
   "metadata": {},
   "outputs": [],
   "source": [
    "shop_detail_id='1V34xp4Dl4ROUEX_jiG-AiwPUspemhJ0MfxUz8Tvkkzg'\n",
    "shop_detail_wb=gc.open_by_key(shop_detail_id)"
   ]
  },
  {
   "cell_type": "code",
   "execution_count": 183,
   "metadata": {},
   "outputs": [],
   "source": [
    "shop_control=to_dataframe(shop_detail_wb,'Quản lý KD',1,0)"
   ]
  },
  {
   "cell_type": "code",
   "execution_count": 184,
   "metadata": {},
   "outputs": [],
   "source": [
    "kpi_data=to_dataframe(shop_detail_wb,'KPI for Master Report',1,0)\n",
    "\n",
    "kpi_data['KPI Dư nợ']=kpi_data['KPI Dư nợ'].apply(lambda x: int(x.replace(',','')))\n",
    "\n",
    "kpi_data=kpi_data[kpi_data.PGD.str.contains('Hội Sở')==False]\n",
    "\n",
    "kpi_proces=kpi_data.groupby(['Năm KPI','Tháng KPI','PGD','Tỉnh/TP','Miền','TPK','ASM'],as_index=False).agg({'KPI Online lead':sum,'KPI Online Sale':sum,'KPI Traffic':sum,'KPI Dư nợ':sum})"
   ]
  },
  {
   "cell_type": "code",
   "execution_count": 207,
   "metadata": {},
   "outputs": [],
   "source": [
    "def read_bal_kpi(ext_date,kpi_month):\n",
    "    bal_str=\"declare @ext_date date='\"+ext_date+\"'select created,yearmonth,ContractCode,SUBSTRING(contractcode,5,len(contractcode)) as code,CustomerName,CategoryName,FromDate,ToDate,currentMoney,ShopName,ShopCode,ShopID,TuoiNo from pawnoverdue  where categoryname not like N'%vị%' and (shopcode not like N'%TEST%' or shopcode not like N'%HS%') and created=@ext_date\"\n",
    "    bal_data=pd.read_sql_query(bal_str,db)\n",
    "    bal_merge=pd.merge(bal_data,write_off[['write_off_period','code']],on='code',how='left')\n",
    "    bal_merge.loc[bal_merge.write_off_period.isna(),'write_off_period']=9999999\n",
    "    bal_kpi=bal_merge[(bal_merge.write_off_period>bal_merge.yearmonth.max())&(bal_merge.tuoino<11)]\n",
    "    bal_kpi_group=bal_kpi.groupby(['created','shopid','shopcode','shopname'],as_index=False).agg({'currentmoney':sum})\n",
    "    bal_kpi_f=pd.merge(bal_kpi_group,kpi_proces[kpi_proces['Tháng KPI']==kpi_month],left_on='shopname',right_on='PGD',how='left')\n",
    "    bal_kpi_f['bal_gap']=bal_kpi_f['KPI Dư nợ']-bal_kpi_f.currentmoney\n",
    "    bal_kpi_f['complete_rate']=bal_kpi_f.currentmoney/bal_kpi_f['KPI Dư nợ']\n",
    "    bal_kpi_f['extract_date'] = ext_date\n",
    "    return bal_kpi_f"
   ]
  },
  {
   "cell_type": "code",
   "execution_count": 204,
   "metadata": {},
   "outputs": [],
   "source": [
    "date_list_kpi = [[check_date, str(datetime.strptime(check_date, \"%Y-%m-%d\").month)]]"
   ]
  },
  {
   "cell_type": "code",
   "execution_count": 205,
   "metadata": {},
   "outputs": [
    {
     "data": {
      "text/plain": [
       "[['2020-11-10', '11']]"
      ]
     },
     "execution_count": 205,
     "metadata": {},
     "output_type": "execute_result"
    }
   ],
   "source": [
    "date_list_kpi"
   ]
  },
  {
   "cell_type": "code",
   "execution_count": 208,
   "metadata": {},
   "outputs": [],
   "source": [
    "bal_kpi=read_bal_kpi(date_list_kpi[0][0],date_list_kpi[0][1])"
   ]
  },
  {
   "cell_type": "code",
   "execution_count": 209,
   "metadata": {},
   "outputs": [],
   "source": [
    "kpi = bal_kpi"
   ]
  },
  {
   "cell_type": "code",
   "execution_count": 210,
   "metadata": {},
   "outputs": [],
   "source": [
    "kpi = kpi[['extract_date','shopcode', 'complete_rate']]"
   ]
  },
  {
   "cell_type": "code",
   "execution_count": 211,
   "metadata": {},
   "outputs": [],
   "source": [
    "kpi = kpi.rename(columns={'complete_rate':'kpi_complete_rate'})"
   ]
  },
  {
   "cell_type": "code",
   "execution_count": 212,
   "metadata": {},
   "outputs": [],
   "source": [
    "kpi['extract_date'] = pd.to_datetime(kpi['extract_date'], format=\"%Y-%m-%d\")"
   ]
  },
  {
   "cell_type": "code",
   "execution_count": null,
   "metadata": {},
   "outputs": [],
   "source": []
  },
  {
   "cell_type": "code",
   "execution_count": null,
   "metadata": {},
   "outputs": [],
   "source": []
  },
  {
   "cell_type": "markdown",
   "metadata": {},
   "source": [
    "YIELD"
   ]
  },
  {
   "cell_type": "code",
   "execution_count": 214,
   "metadata": {},
   "outputs": [
    {
     "name": "stderr",
     "output_type": "stream",
     "text": [
      "D:\\Anaconda3\\lib\\site-packages\\ipykernel_launcher.py:16: SettingWithCopyWarning: \n",
      "A value is trying to be set on a copy of a slice from a DataFrame.\n",
      "Try using .loc[row_indexer,col_indexer] = value instead\n",
      "\n",
      "See the caveats in the documentation: http://pandas.pydata.org/pandas-docs/stable/indexing.html#indexing-view-versus-copy\n",
      "  app.launch_new_instance()\n",
      "D:\\Anaconda3\\lib\\site-packages\\pandas\\core\\indexing.py:189: SettingWithCopyWarning: \n",
      "A value is trying to be set on a copy of a slice from a DataFrame\n",
      "\n",
      "See the caveats in the documentation: http://pandas.pydata.org/pandas-docs/stable/indexing.html#indexing-view-versus-copy\n",
      "  self._setitem_with_indexer(indexer, value)\n",
      "D:\\Anaconda3\\lib\\site-packages\\ipykernel_launcher.py:17: SettingWithCopyWarning: \n",
      "A value is trying to be set on a copy of a slice from a DataFrame\n",
      "\n",
      "See the caveats in the documentation: http://pandas.pydata.org/pandas-docs/stable/indexing.html#indexing-view-versus-copy\n",
      "D:\\Anaconda3\\lib\\site-packages\\ipykernel_launcher.py:18: SettingWithCopyWarning: \n",
      "A value is trying to be set on a copy of a slice from a DataFrame\n",
      "\n",
      "See the caveats in the documentation: http://pandas.pydata.org/pandas-docs/stable/indexing.html#indexing-view-versus-copy\n",
      "D:\\Anaconda3\\lib\\site-packages\\ipykernel_launcher.py:19: SettingWithCopyWarning: \n",
      "A value is trying to be set on a copy of a slice from a DataFrame\n",
      "\n",
      "See the caveats in the documentation: http://pandas.pydata.org/pandas-docs/stable/indexing.html#indexing-view-versus-copy\n"
     ]
    }
   ],
   "source": [
    "#Lấy ID và truy cập wb Backup\n",
    "yield_id='1wMtWeZOwqEwPNLWBwsjKInzXlcGhzjEgzFLAER6yyIg'\n",
    "yield_wb=client.open_by_key(yield_id)\n",
    "\n",
    "yield_result_id='13SOYuJ3iJEESgNElzIY0glovNLoaDkjKtRFSFC-C1g4'\n",
    "yield_result_wb=client.open_by_key(yield_result_id)\n",
    "\n",
    "#  Lấy ID shopdetail\n",
    "shop_detail_id='1ZTQE_pfBCAUr-0GSMPJBqtCyZVxX4hdiPuT_RDrdjeQ'\n",
    "shop_detail_wb=client.open_by_key(shop_detail_id)\n",
    "\n",
    "shopdetail_data=shop_detail_wb.worksheet_by_title('shop_detail').get_as_df()\n",
    "\n",
    "shop_detail=shopdetail_data[['Mã PGD','PGD','Miền','Tỉnh/ Thành phố','Tháng KT','QLKV','TPK']]\n",
    "shop_detail.columns=['shopcode','shopname','area','province_name','open_month','asm','rsm']\n",
    "shop_detail['province_type']=shop_detail.province_name\n",
    "shop_detail.loc[(shop_detail.province_name!='Hà Nội')&(shop_detail.area=='Miền Bắc'),'province_type']='Tỉnh.MB'\n",
    "shop_detail.loc[(shop_detail.province_name!='TP. Hồ Chí Minh')&(shop_detail.area=='Miền Nam'),'province_type']='Tỉnh.MN'\n",
    "shop_detail.loc[shop_detail.area=='Miền Trung','province_type']='Miền Trung'\n",
    "\n",
    "def to_df(wb_name,sheet_name):\n",
    "    return wb_name.worksheet_by_title(sheet_name).get_as_df()"
   ]
  },
  {
   "cell_type": "code",
   "execution_count": 215,
   "metadata": {},
   "outputs": [],
   "source": [
    "received_int=to_df(yield_wb,'511')\n",
    "received_fees=to_df(yield_wb,'711')\n",
    "write_off=to_df(yield_wb,'writeoff')\n",
    "provision=to_df(yield_wb,'provision')\n",
    "net_balance=to_df(yield_wb,'netbalance')\n",
    "inventory=to_df(yield_wb,'inventory')"
   ]
  },
  {
   "cell_type": "code",
   "execution_count": 216,
   "metadata": {},
   "outputs": [],
   "source": [
    "def cate_yield(cate_name):\n",
    "    received_int_group=received_int[received_int.cate.isin(cate_name)].groupby(['ym','shopcode'],as_index=False).agg({'int':sum})\n",
    "    received_fees_group=received_fees[received_fees.cate.isin(cate_name)].groupby(['ym','shopcode'],as_index=False).agg({'fees':sum})\n",
    "    write_off_group=write_off[write_off.cate.isin(cate_name)].groupby(['ym','shopcode'],as_index=False).agg({'writeoff_amt':sum})\n",
    "    provision_group=provision[provision.cate.isin(cate_name)].groupby(['ym','shopcode'],as_index=False).agg({'provided_amt':sum})\n",
    "    net_balance_group=net_balance[net_balance.cate.isin(cate_name)].groupby(['ym','shopcode'],as_index=False).agg({'net_bal':sum})\n",
    "    inventory_group=inventory[inventory.cate.isin(cate_name)].groupby(['ym','shopcode'],as_index=False).agg({'inventory_amt':sum})\n",
    "    return received_int_group,received_fees_group,write_off_group,provision_group,net_balance_group,inventory_group\n",
    "    "
   ]
  },
  {
   "cell_type": "code",
   "execution_count": 217,
   "metadata": {},
   "outputs": [],
   "source": [
    "def yield_cal(ym_result,cate_list):\n",
    "    \n",
    "    received_int_group,received_fees_group,write_off_group,provision_group,net_balance_group,inventory_group=cate_yield(cate_list)\n",
    "    \n",
    "    # Khởi tạo bảng kết quả\n",
    "    result=net_balance_group.loc[net_balance_group.ym==(ym_result-1),['shopcode','net_bal']]\n",
    "    result.columns=['shopcode','ob_net_bal']\n",
    "    cb_net_balance=net_balance_group.loc[net_balance_group.ym==ym_result,['shopcode','net_bal']]\n",
    "    cb_net_balance.columns=['shopcode','cb_net_bal']\n",
    "    pre2_net_balance=net_balance_group.loc[net_balance_group.ym==(ym_result-2),['shopcode','net_bal']]\n",
    "    pre2_net_balance.columns=['shopcode','pre_2_month_net_balance']\n",
    "    \n",
    "    # Write-off phát sinh tháng T-1\n",
    "    pre_month_wo=write_off_group.loc[write_off_group.ym==(ym_result-1),['shopcode','writeoff_amt']]\n",
    "    pre_month_wo.columns=['shopcode','pre_month_wo']\n",
    "    result=pd.merge(result,pre2_net_balance,on='shopcode',how='left')\n",
    "    result=pd.merge(result,cb_net_balance,on='shopcode',how='left')\n",
    "    result=pd.merge(result,pre_month_wo,on='shopcode',how='left')\n",
    "    ##### Tính Mẫu số\n",
    "\n",
    "    # Writeoff luỹ kế đến hết tháng T-2\n",
    "    acc_writeoff=write_off_group[(write_off_group.ym!=201912)&(write_off_group.ym<=(ym_result-2))].groupby('shopcode',as_index=False).agg({'writeoff_amt':sum})\n",
    "    acc_writeoff.columns=['shopcode','acc_wo_pre_2_months']\n",
    "    \n",
    "    # Provision đầu kỳ\n",
    "    ob_provision=provision_group.loc[provision_group.ym==(ym_result-1),['shopcode','provided_amt']]\n",
    "    ob_provision.columns=['shopcode','ob_provision']\n",
    "\n",
    "    # HTK đầu kỳ\n",
    "    ob_inventory=inventory_group.loc[inventory_group.ym==(ym_result-1),['shopcode','inventory_amt']]\n",
    "    ob_inventory.columns=['shopcode','ob_inventory']\n",
    "\n",
    "    result=pd.merge(result,acc_writeoff,on='shopcode',how='left')\n",
    "    result=pd.merge(result,ob_provision,on='shopcode',how='left')\n",
    "    result=pd.merge(result,ob_inventory,on='shopcode',how='left')\n",
    "    \n",
    "\n",
    "    ##### Tính tử số\n",
    "\n",
    "    # Tính 511\n",
    "    cb_received_int=received_int_group.loc[received_int_group.ym==ym_result,['shopcode','int']]\n",
    "    cb_received_int.columns=['shopcode','actual_int_received']\n",
    "    # Tính 711\n",
    "    cb_received_fees=received_fees_group.loc[received_fees_group.ym==ym_result,['shopcode','fees']]\n",
    "    cb_received_fees.columns=['shopcode','actual_fee_received']\n",
    "    # Writeoff current\n",
    "    cb_writeoff=write_off_group.loc[write_off_group.ym==ym_result,['shopcode','writeoff_amt']]\n",
    "    cb_writeoff.columns=['shopcode','wo_incurred']\n",
    "    # Provision current\n",
    "    cb_provision=provision_group.loc[provision_group.ym==ym_result,['shopcode','provided_amt']]\n",
    "    cb_provision.columns=['shopcode','provision_incurred']\n",
    "\n",
    "    result=pd.merge(result,cb_received_int,on='shopcode',how='left')\n",
    "    result=pd.merge(result,cb_received_fees,on='shopcode',how='left')\n",
    "    result=pd.merge(result,cb_writeoff,on='shopcode',how='left')\n",
    "    result=pd.merge(result,cb_provision,on='shopcode',how='left')\n",
    "\n",
    "    result=result.fillna(0)\n",
    "\n",
    "    ##### Tính Yield\n",
    "\n",
    "    # Tính Yield\n",
    "    result['yield']=(result.actual_int_received+result.actual_fee_received-result.provision_incurred-result.wo_incurred)/(result.ob_net_bal+result.ob_inventory+result.acc_wo_pre_2_months-result.ob_provision)\n",
    "\n",
    "    result.insert(0,'ym_result',ym_result)\n",
    "    return result"
   ]
  },
  {
   "cell_type": "code",
   "execution_count": null,
   "metadata": {},
   "outputs": [],
   "source": [
    "this_day_of_last_month = datetime.strptime(check_date, \"%Y-%m-%d\") - datetime.del"
   ]
  },
  {
   "cell_type": "code",
   "execution_count": 236,
   "metadata": {},
   "outputs": [],
   "source": [
    "today = datetime.strptime(check_date, \"%Y-%m-%d\")\n",
    "first = today.replace(day=1)\n",
    "lastMonth = first - timedelta(days=1)"
   ]
  },
  {
   "cell_type": "code",
   "execution_count": 237,
   "metadata": {},
   "outputs": [],
   "source": [
    "ym_result_range = [datetime.strptime(check_date, \"%Y-%m-%d\").strftime('%Y%m'), lastMonth.strftime(\"%Y%m\")]"
   ]
  },
  {
   "cell_type": "code",
   "execution_count": 350,
   "metadata": {},
   "outputs": [
    {
     "data": {
      "text/plain": [
       "[202011, 202010]"
      ]
     },
     "execution_count": 350,
     "metadata": {},
     "output_type": "execute_result"
    }
   ],
   "source": [
    "ym_result_range"
   ]
  },
  {
   "cell_type": "code",
   "execution_count": 242,
   "metadata": {},
   "outputs": [],
   "source": [
    "ym_result_range = [int(i) for i in ym_result_range]"
   ]
  },
  {
   "cell_type": "code",
   "execution_count": 243,
   "metadata": {},
   "outputs": [],
   "source": [
    "car_cate_list=['Đăng ký Ô tô']\n",
    "\n",
    "car_yield_data=yield_cal(ym_result_range[0],car_cate_list)\n",
    "\n",
    "\n",
    "for car_ym_result in ym_result_range[1:]:\n",
    "    yield_data=car_yield_data.append(yield_cal(car_ym_result,car_cate_list))\n",
    "yield_data['ob_net_bal_grow']=(yield_data.ob_net_bal- yield_data.pre_2_month_net_balance)/yield_data.pre_2_month_net_balance\n",
    "yield_data['tu_so']=yield_data.actual_int_received+yield_data.actual_fee_received-yield_data.wo_incurred-yield_data.provision_incurred\n",
    "yield_data['mau_so']=yield_data.ob_net_bal+yield_data.ob_inventory-yield_data.ob_provision\n",
    "yield_data['int/ob_net_bal']=yield_data.actual_int_received/yield_data.ob_net_bal\n",
    "yield_data['wo_incurred/ob_bal']=yield_data.wo_incurred/yield_data.ob_net_bal\n",
    "\n",
    "dkot_yield_shop=pd.merge(yield_data,shop_detail,on='shopcode',how='left')\n",
    "\n",
    "dkot_yield_shop.loc[dkot_yield_shop.province_type.isna(),'area']='Miền Nam'\n",
    "dkot_yield_shop.loc[dkot_yield_shop.province_type.isna(),'province_name']='TP. Hồ Chí Minh'\n",
    "dkot_yield_shop.loc[dkot_yield_shop.province_type.isna(),'province_type']='TP. Hồ Chí Minh'"
   ]
  },
  {
   "cell_type": "code",
   "execution_count": 244,
   "metadata": {},
   "outputs": [],
   "source": [
    "motor_cate_list=['Đăng ký xe máy']\n",
    "\n",
    "motor_yield_data=yield_cal(ym_result_range[0],motor_cate_list)\n",
    "for motor_ym_result in ym_result_range[1:]:\n",
    "    motor_yield_data=motor_yield_data.append(yield_cal(motor_ym_result,motor_cate_list))\n",
    "motor_yield_data['ob_net_bal_grow']=(motor_yield_data.ob_net_bal- motor_yield_data.pre_2_month_net_balance)/motor_yield_data.pre_2_month_net_balance\n",
    "motor_yield_data['tu_so']=motor_yield_data.actual_int_received+motor_yield_data.actual_fee_received-motor_yield_data.wo_incurred-motor_yield_data.provision_incurred\n",
    "motor_yield_data['mau_so']=motor_yield_data.ob_net_bal+motor_yield_data.ob_inventory-motor_yield_data.ob_provision\n",
    "motor_yield_data['int/ob_net_bal']=motor_yield_data.actual_int_received/motor_yield_data.ob_net_bal\n",
    "motor_yield_data['wo_incurred/ob_bal']=motor_yield_data.wo_incurred/motor_yield_data.ob_net_bal\n",
    "\n",
    "dkxm_yield_shop=pd.merge(motor_yield_data,shop_detail,on='shopcode',how='left')\n",
    "\n",
    "dkxm_yield_shop.loc[dkxm_yield_shop.province_type.isna(),'area']='Miền Nam'\n",
    "dkxm_yield_shop.loc[dkxm_yield_shop.province_type.isna(),'province_name']='TP. Hồ Chí Minh'\n",
    "dkxm_yield_shop.loc[dkxm_yield_shop.province_type.isna(),'province_type']='TP. Hồ Chí Minh'"
   ]
  },
  {
   "cell_type": "code",
   "execution_count": 245,
   "metadata": {},
   "outputs": [],
   "source": [
    "yiel_index_motor_title = dkxm_yield_shop"
   ]
  },
  {
   "cell_type": "code",
   "execution_count": 246,
   "metadata": {},
   "outputs": [],
   "source": [
    "yiel_index_motor_title['thang'] = pd.to_datetime(yiel_index_motor_title['ym_result'], format=\"%Y-%m\")"
   ]
  },
  {
   "cell_type": "code",
   "execution_count": 247,
   "metadata": {},
   "outputs": [],
   "source": [
    "yiel_index_motor_title['thang'] = [i.month for i in yiel_index_motor_title['thang']]"
   ]
  },
  {
   "cell_type": "code",
   "execution_count": 248,
   "metadata": {},
   "outputs": [],
   "source": [
    "yiel_index_motor_title= yiel_index_motor_title[['thang','shopcode','yield']]"
   ]
  },
  {
   "cell_type": "code",
   "execution_count": 249,
   "metadata": {},
   "outputs": [],
   "source": [
    "yiel_index_car_title = dkot_yield_shop"
   ]
  },
  {
   "cell_type": "code",
   "execution_count": 250,
   "metadata": {},
   "outputs": [],
   "source": [
    "yiel_index_car_title['thang'] = pd.to_datetime(yiel_index_car_title['ym_result'], format=\"%Y-%m\")\n",
    "yiel_index_car_title['thang'] = [i.month for i in yiel_index_car_title['thang']]"
   ]
  },
  {
   "cell_type": "code",
   "execution_count": 251,
   "metadata": {},
   "outputs": [],
   "source": [
    "yiel_index_car_title= yiel_index_car_title[['thang','shopcode','yield']]"
   ]
  },
  {
   "cell_type": "code",
   "execution_count": 252,
   "metadata": {},
   "outputs": [],
   "source": [
    "yiel_index_motor_title.columns = ['thang', 'shopcode', 'yield_motor_title']\n",
    "yiel_index_car_title.columns = ['thang', 'shopcode', 'yield_car_title']"
   ]
  },
  {
   "cell_type": "code",
   "execution_count": null,
   "metadata": {},
   "outputs": [],
   "source": []
  },
  {
   "cell_type": "markdown",
   "metadata": {},
   "source": [
    "LIQUID RATE"
   ]
  },
  {
   "cell_type": "code",
   "execution_count": 253,
   "metadata": {},
   "outputs": [],
   "source": [
    "def liquid_asset_rate(fromdate):\n",
    "    liquid_asset_str = \"\"\"Declare @fromdate date = '\"\"\"+fromdate+\"\"\"'\n",
    "  select pod.pawnid, pod.shopcode, pod.shopname, case when  pod.CategoryName = 'Ô tô' then 'car'\n",
    "  when pod.CategoryName = 'Xe máy' then 'motorbike'\n",
    "  else 'normal_asset' end asset_type,\n",
    "  case when pa.status = -1 then 1 else 0 end asset_liquid\n",
    "  from pawnoverdue pod\n",
    "  left join pawn pa on pa.Pawnid = pod.PawnID\n",
    "  where pod.CategoryCode not like '%15%'\n",
    "  and pod.CategoryCode not like '%17%'\n",
    "  and pod.CREATED = @fromdate\n",
    "    and pod.ShopCode not like '%HS%'\n",
    "  and pod.ShopCode not like '%TEST%'\"\"\"\n",
    "    liquid_asset = pd.read_sql_query(liquid_asset_str, db)\n",
    "    liquid_all = liquid_asset.groupby(['shopcode', 'shopname']).agg({'pawnid':'count'}).reset_index()\n",
    "    liquid_by_asset_type = liquid_asset.pivot_table(index = ['shopcode', 'shopname'], columns='asset_type', values='asset_liquid', aggfunc= 'sum').reset_index()\n",
    "    liquid_by_asset_type = liquid_by_asset_type.merge(liquid_all, on = ['shopcode', 'shopname'], how = 'left' )\n",
    "    liquid_by_asset_type = liquid_by_asset_type.fillna(0)\n",
    "    liquid_by_asset_type['liquid_car_rate'] = liquid_by_asset_type['car']/liquid_by_asset_type['pawnid']\n",
    "    liquid_by_asset_type['liquid_motorbike_rate'] = liquid_by_asset_type['motorbike']/liquid_by_asset_type['pawnid']\n",
    "    liquid_by_asset_type['liquid_normal_asset_rate'] = liquid_by_asset_type['normal_asset']/liquid_by_asset_type['pawnid']\n",
    "    liquid_by_asset_type['extract_date'] = fromdate\n",
    "    return liquid_by_asset_type"
   ]
  },
  {
   "cell_type": "code",
   "execution_count": 254,
   "metadata": {},
   "outputs": [],
   "source": [
    "liquid_asset_this_month = liquid_asset_rate(list_date_valid[0][0])"
   ]
  },
  {
   "cell_type": "code",
   "execution_count": 255,
   "metadata": {},
   "outputs": [],
   "source": [
    "liquid_asset_this_month.columns = ['shopcode', 'shopname', 'nums_liquid_car', 'nums_liquid_motorbike', 'nums_liquid_other_asset', 'total_normal_asset',\n",
    "       'car_liquid_rate', 'motorbike_liquid_rate', 'normal_asset_liquid_rate','extract_date']"
   ]
  },
  {
   "cell_type": "code",
   "execution_count": 256,
   "metadata": {},
   "outputs": [],
   "source": [
    "liquid_rate_m = liquid_asset_this_month"
   ]
  },
  {
   "cell_type": "code",
   "execution_count": 257,
   "metadata": {},
   "outputs": [],
   "source": [
    "liquid_rate_m['thang'] = pd.to_datetime(liquid_rate_m['extract_date'], format=\"%Y-%m-%d\")\n",
    "liquid_rate_m['thang'] = [i.month for i in liquid_rate_m['thang']]"
   ]
  },
  {
   "cell_type": "code",
   "execution_count": 258,
   "metadata": {},
   "outputs": [],
   "source": [
    "liquid_rate = liquid_rate_m[['thang','shopcode','car_liquid_rate',\n",
    "       'motorbike_liquid_rate', 'normal_asset_liquid_rate']]"
   ]
  },
  {
   "cell_type": "code",
   "execution_count": null,
   "metadata": {},
   "outputs": [],
   "source": []
  },
  {
   "cell_type": "code",
   "execution_count": null,
   "metadata": {},
   "outputs": [],
   "source": []
  },
  {
   "cell_type": "markdown",
   "metadata": {},
   "source": [
    "CLOSED PAWN"
   ]
  },
  {
   "cell_type": "code",
   "execution_count": 259,
   "metadata": {},
   "outputs": [],
   "source": [
    "#  Closed_pawn\n",
    "def closed_pawn_type_1(fromdate, todate):\n",
    "    closed_pawn_type_1_str = \"\"\"Declare @start_date date ='\"\"\"+fromdate+\"\"\"'\n",
    "    Declare @end_date date ='\"\"\"+todate+\"\"\"'\n",
    "select case when pod.categorycode like '%15%' then 'DKOT' \n",
    "when pod.categorycode like '%17%' then 'DKXM' else 'SPTT' end categoryname,pod.shopcode,pod.ShopName shopname,pod.contractcode, pod.pawnid pod_pawn,\n",
    "cast(left(pod.Interest,4) as int) interest, pa.*,\n",
    "case  when pa.Pawnid is null then 0 else 1 end real_closed_pawn\n",
    "from  [dwh].[dbo].[PawnOverdue] pod\n",
    "left join (select a.*, case when a.closedate < a.todate and a.closedate<=dateadd(day, 10, a.fromdate) and (a.closedate<>a.following_fromdate or a.following_fromdate is null) then '1. early closed'\n",
    "when  a.closedate = a.todate and (a.closedate<>a.following_fromdate or a.following_fromdate is null) then '2. ondue closed'\n",
    "when a.closedate > a.todate and (a.closedate<>a.following_fromdate or a.following_fromdate is null) then '3. overdue_closed'\n",
    " when a.closedate=a.following_fromdate then '4.close to open new'\n",
    " else '5.just closed' end \"closed_type\"\n",
    " from (\n",
    "select [CategoryCode], pawnid, fromdate, todate, closedate,  Lead (Pawnid) over (PARTITION BY customerid, [CategoryCode] ORDER BY fromdate asc) as following_pawn_id,\n",
    " Lead (fromdate) over (PARTITION BY customerid, [CategoryCode] ORDER BY fromdate asc) as following_fromdate,\n",
    "  Lead(CodeNo) over (PARTITION BY customerid, CategoryCode ORDER BY fromdate asc) as foll_pawn, \n",
    "  Lead(Pawnid) over (PARTITION BY customerid, CategoryCode ORDER BY fromdate asc) as foll_pawn_id\n",
    " from [dwh].[dbo].pawn\n",
    " where closedate> @start_date\n",
    " and closedate<=@end_date) a) pa on pa.pawnid = pod.PawnID\n",
    " left join [dwh].[dbo].pawn pa2 on pa2.pawnid = pod.pawnid\n",
    " where pod.CREATED = @start_date\n",
    " and pod.shopcode not like '%HS%' \n",
    "and pod.shopcode not like '%TEST%'\n",
    "and pod.TuoiNo<90\"\"\"\n",
    "    closed_type_1 = pd.read_sql_query(closed_pawn_type_1_str, db)\n",
    "    closed_type_1_m_overview = closed_type_1.groupby(['categoryname','shopcode', 'shopname']).agg({'pod_pawn':'nunique','real_closed_pawn':'sum'}).reset_index()\n",
    "    closed_type_1_compare_to_due = closed_type_1.pivot_table(index = ['categoryname','shopcode', 'shopname'], columns= 'closed_type', values='pod_pawn',aggfunc='nunique').reset_index()\n",
    "    closed_type_1_compare_to_due = closed_type_1_compare_to_due.fillna(0)\n",
    "    closed_type_1_m_overview = closed_type_1_m_overview.merge(closed_type_1_compare_to_due, on = ['categoryname','shopcode', 'shopname'], how = 'left')\n",
    "    closed_type_1_m_overview['extract_date'] = todate\n",
    "    return closed_type_1_m_overview"
   ]
  },
  {
   "cell_type": "code",
   "execution_count": 260,
   "metadata": {},
   "outputs": [],
   "source": [
    "closed_type_1_m = closed_pawn_type_1(list_date_valid[0][0], list_date_valid[0][1])"
   ]
  },
  {
   "cell_type": "code",
   "execution_count": 261,
   "metadata": {},
   "outputs": [],
   "source": [
    "closed_type_1_m = closed_type_1_m.fillna(0)"
   ]
  },
  {
   "cell_type": "code",
   "execution_count": 262,
   "metadata": {},
   "outputs": [],
   "source": [
    "closed_type_1_m['closed_rate'] = closed_type_1_m['real_closed_pawn']/closed_type_1_m['pod_pawn']\n",
    "closed_type_1_m['early_closed_rate'] = closed_type_1_m['1. early closed']/closed_type_1_m['pod_pawn']\n",
    "closed_type_1_m['closed_to_open_new_per_total_closed'] = closed_type_1_m['4.close to open new']/closed_type_1_m['real_closed_pawn']"
   ]
  },
  {
   "cell_type": "code",
   "execution_count": 263,
   "metadata": {},
   "outputs": [],
   "source": [
    "# Pawn open in this month:\n",
    "def closed_pawn_type_2(fromdate,todate):\n",
    "    closed_type_2_str = \"\"\"Declare @start_date date ='\"\"\"+fromdate+\"\"\"'\n",
    "Declare @end_date date ='\"\"\"+todate+\"\"\"'\n",
    "select a.*,case when cd.code like '%15%' then 'DKOT' \n",
    "when cd.code like '%17%' then 'DKXM' else 'SPTT' end categoryname , case when closedate is null then '0.still_open'\n",
    "when closedate is not null and a.closedate < a.todate and a.closedate<=dateadd(day, 10, a.fromdate) and (a.closedate<>a.following_fromdate or a.following_fromdate is null) then '1. early closed'\n",
    "when closedate is not null and a.closedate = a.todate and (a.closedate<>a.following_fromdate or a.following_fromdate is null) then '2. ondue closed'\n",
    "when closedate is not null and a.closedate > a.todate and (a.closedate<>a.following_fromdate or a.following_fromdate is null) then '3. overdue_closed'\n",
    " when closedate is not null and a.closedate=a.following_fromdate then '4.close to open new'\n",
    " else '5.just closed' end \"closed_type\"\n",
    "from (\n",
    "select shopcode, rate,[CategoryCode], pawnid, fromdate, todate, closedate,  LoanMoneyOrg,[InsurranceMoney],\n",
    "Lead (Pawnid) over (PARTITION BY customerid, [CategoryCode] ORDER BY fromdate asc) as following_pawn_id,\n",
    " Lead (fromdate) over (PARTITION BY customerid, [CategoryCode] ORDER BY fromdate asc) as following_fromdate\n",
    " from [dwh].[dbo].pawn\n",
    " where 1=1\n",
    " and fromdate> @start_date\n",
    " and fromdate<=@end_date\n",
    " and shopcode not like '%HS%' and \n",
    "shopcode not like '%TEST%'\n",
    ") a\n",
    " left join [dwh].[dbo].W_CATEGORY_D cd on cd.CODE = a.CategoryCode\"\"\"\n",
    "    closed_type_2 = pd.read_sql_query(closed_type_2_str, db)\n",
    "    closed_type_2_m_overview = closed_type_2.pivot_table(index = ['categoryname','shopcode'], columns='closed_type', values='pawnid', aggfunc='nunique').reset_index()\n",
    "    closed_type_2_m_overview = closed_type_2_m_overview.fillna(0)\n",
    "    closed_type_2_m_overview['extract_date'] = todate\n",
    "    return closed_type_2_m_overview"
   ]
  },
  {
   "cell_type": "code",
   "execution_count": 264,
   "metadata": {},
   "outputs": [],
   "source": [
    "closed_type_2_m = closed_pawn_type_2(list_date_valid[0][0],list_date_valid[0][1])"
   ]
  },
  {
   "cell_type": "code",
   "execution_count": 265,
   "metadata": {},
   "outputs": [],
   "source": [
    "closed_type_2_m = closed_type_2_m.fillna(0)"
   ]
  },
  {
   "cell_type": "code",
   "execution_count": 266,
   "metadata": {},
   "outputs": [],
   "source": [
    "closed_type_2_m['all'] = closed_type_2_m['0.still_open']+closed_type_2_m['1. early closed']+closed_type_2_m['4.close to open new']\n",
    "closed_type_2_m['total_closed'] = closed_type_2_m['1. early closed']+closed_type_2_m['4.close to open new']\n",
    "closed_type_2_m['closed_rate'] = closed_type_2_m['total_closed']/closed_type_2_m['all']\n",
    "closed_type_2_m['early_closed_rate'] = closed_type_2_m['1. early closed']/closed_type_2_m['all']\n",
    "closed_type_2_m['closed_to_open_new_rate'] = closed_type_2_m['4.close to open new']/closed_type_2_m['total_closed']"
   ]
  },
  {
   "cell_type": "code",
   "execution_count": 267,
   "metadata": {},
   "outputs": [],
   "source": [
    "overview_closed_type_1_m = closed_type_1_m[['categoryname','extract_date','shopcode','pod_pawn', 'real_closed_pawn','1. early closed','4.close to open new']]\n",
    "\n",
    "overview_closed_type_2_m = closed_type_2_m[['categoryname','extract_date', 'shopcode','all', 'total_closed','1. early closed','4.close to open new']]"
   ]
  },
  {
   "cell_type": "code",
   "execution_count": 268,
   "metadata": {},
   "outputs": [],
   "source": [
    "overview_closed_pawn = overview_closed_type_1_m.merge(overview_closed_type_2_m, on = ['categoryname','extract_date','shopcode'], how = 'left')"
   ]
  },
  {
   "cell_type": "code",
   "execution_count": 269,
   "metadata": {},
   "outputs": [],
   "source": [
    "overview_closed_pawn['total'] = overview_closed_pawn['pod_pawn']+overview_closed_pawn['all']\n",
    "overview_closed_pawn['all_closed'] = overview_closed_pawn['real_closed_pawn']+overview_closed_pawn['total_closed']\n",
    "overview_closed_pawn['all_early_closed'] = overview_closed_pawn['1. early closed_x']+overview_closed_pawn['1. early closed_y']\n",
    "overview_closed_pawn['all_closed_to_open_new'] = overview_closed_pawn['4.close to open new_x']+overview_closed_pawn['4.close to open new_y']\n",
    "\n",
    "overview_closed_pawn['closed_rate'] = overview_closed_pawn['all_closed']/overview_closed_pawn['total']\n",
    "overview_closed_pawn['early_closed_rate'] = overview_closed_pawn['all_early_closed']/overview_closed_pawn['total']\n",
    "overview_closed_pawn['closed_to_open_new_rate'] = overview_closed_pawn['all_closed_to_open_new']/overview_closed_pawn['all_closed']\n",
    "\n",
    "overview_closed_pawn = overview_closed_pawn[['categoryname','extract_date','shopcode', 'closed_rate','early_closed_rate', 'closed_to_open_new_rate']]"
   ]
  },
  {
   "cell_type": "code",
   "execution_count": 271,
   "metadata": {},
   "outputs": [],
   "source": [
    "closed_pawn = overview_closed_pawn"
   ]
  },
  {
   "cell_type": "code",
   "execution_count": 272,
   "metadata": {},
   "outputs": [],
   "source": [
    "closed_pawn['extract_date'] = pd.to_datetime(closed_pawn['extract_date'], format=\"%Y-%m-%d\")"
   ]
  },
  {
   "cell_type": "code",
   "execution_count": 273,
   "metadata": {},
   "outputs": [],
   "source": [
    "closed_pawn_car_title = closed_pawn[closed_pawn['categoryname'] == 'DKOT']\n",
    "closed_pawn_motor_title = closed_pawn[closed_pawn['categoryname'] == 'DKXM']\n",
    "closed_pawn_normal_asset = closed_pawn[closed_pawn['categoryname'] == 'SPTT']"
   ]
  },
  {
   "cell_type": "code",
   "execution_count": 274,
   "metadata": {},
   "outputs": [],
   "source": [
    "closed_pawn_car_title.columns = ['categoryname', 'extract_date', 'shopcode', 'car_title_closed_rate',\n",
    "       'car_title_early_closed_rate', 'car_title_closed_to_open_new_rate']\n",
    "closed_pawn_motor_title.columns = ['categoryname', 'extract_date', 'shopcode', 'motor_title_closed_rate',\n",
    "       'motor_title_early_closed_rate', 'motor_title_closed_to_open_new_rate']\n",
    "closed_pawn_normal_asset.columns = ['categoryname', 'extract_date', 'shopcode', 'normal_asset_closed_rate',\n",
    "       'normal_asset_early_closed_rate', 'normal_asset_closed_to_open_new_rate']"
   ]
  },
  {
   "cell_type": "code",
   "execution_count": 275,
   "metadata": {},
   "outputs": [],
   "source": [
    "closed_pawn_car_title = closed_pawn_car_title[['extract_date', 'shopcode', 'car_title_closed_rate',\n",
    "       'car_title_early_closed_rate', 'car_title_closed_to_open_new_rate']]\n",
    "closed_pawn_motor_title = closed_pawn_motor_title[['extract_date', 'shopcode', 'motor_title_closed_rate',\n",
    "       'motor_title_early_closed_rate', 'motor_title_closed_to_open_new_rate']]\n",
    "closed_pawn_normal_asset = closed_pawn_normal_asset[['extract_date', 'shopcode', 'normal_asset_closed_rate',\n",
    "       'normal_asset_early_closed_rate', 'normal_asset_closed_to_open_new_rate']]"
   ]
  },
  {
   "cell_type": "code",
   "execution_count": null,
   "metadata": {},
   "outputs": [],
   "source": []
  },
  {
   "cell_type": "markdown",
   "metadata": {},
   "source": [
    "SHOP AGE MONTH"
   ]
  },
  {
   "cell_type": "code",
   "execution_count": 1005,
   "metadata": {},
   "outputs": [],
   "source": [
    "asm_risk_lv = to_dataframe(fault_group_wb, 'asm_risk_level',1,0)"
   ]
  },
  {
   "cell_type": "code",
   "execution_count": 1006,
   "metadata": {},
   "outputs": [],
   "source": [
    "shop_age_month_str = \"\"\"\n",
    " select code shopcode, month(getdate()) thang, DATEDIFF(month, OpenDate, GETDATE()) shop_age_m\n",
    " FROM [dwh].[dbo].[ShopDetail]\n",
    "union all\n",
    "( select code shopcode, month(dateadd(m,-1,getdate())) thang, DATEDIFF(month, OpenDate, dateadd(m,-1,getdate())) shop_age_m\n",
    " FROM [dwh].[dbo].[ShopDetail])\n",
    " union all\n",
    " (select code shopcode, month(dateadd(m,-2,getdate())) thang, DATEDIFF(month, OpenDate, dateadd(m,-2,getdate())) shop_age_m\n",
    " FROM [dwh].[dbo].[ShopDetail])\n",
    " union all\n",
    " (select code shopcode, month(dateadd(m,-3,getdate())) thang, DATEDIFF(month, OpenDate, dateadd(m,-3,getdate())) shop_age_m\n",
    " FROM [dwh].[dbo].[ShopDetail])\n",
    "\"\"\""
   ]
  },
  {
   "cell_type": "code",
   "execution_count": 1007,
   "metadata": {},
   "outputs": [],
   "source": [
    "shop_age_month = pd.read_sql_query(shop_age_month_str, db)"
   ]
  },
  {
   "cell_type": "code",
   "execution_count": 1008,
   "metadata": {},
   "outputs": [
    {
     "data": {
      "text/plain": [
       "Index(['Mã PGD', 'QLKV'], dtype='object')"
      ]
     },
     "execution_count": 1008,
     "metadata": {},
     "output_type": "execute_result"
    }
   ],
   "source": [
    "shop_detail_mkt.columns"
   ]
  },
  {
   "cell_type": "code",
   "execution_count": 1009,
   "metadata": {},
   "outputs": [],
   "source": [
    "shop_age_month = shop_age_month.merge(shop_detail_mkt, left_on = 'shopcode', right_on = 'Mã PGD', how = 'left')"
   ]
  },
  {
   "cell_type": "code",
   "execution_count": 1010,
   "metadata": {},
   "outputs": [],
   "source": [
    "staff_tenure_str = \"\"\"\n",
    "select month(getdate()) thang, shopcode, sum(tenure) as staff_tenure\n",
    "from\n",
    "(SELECT \n",
    "user1.UserFullName, user1.UserName, user1.UserEmail, user1.UserID, \n",
    "case when group1.code = 'ch_k1112_cvh' then 'HNK11VH'\n",
    "when group1.code = 'ch_381_cg' then 'HN381CG'\n",
    "WHEN group1.code = '218DC' THEN 'HN218DC'\n",
    "WHEN group1.code = 'HNDR' THEN 'DR'\n",
    "WHEN group1.code = 'HN982L' THEN '850DL'\n",
    "WHEN group1.code = '218DC' THEN 'HN218DC'\n",
    "else group1.code end as shopcode, user1.created, datediff(month, user1.created, getdate()) as tenure\n",
    "FROM [dwh].[dbo].[User] user1\n",
    "left join [dwh].[dbo].[W_USER_GROUP_D] usergroup on usergroup.user_id = user1.userid\n",
    "left join [dwh].[dbo].[W_GROUP_D] group1 on group1.group_wid = usergroup.group_id\n",
    "where user1.STATUS = 1 and group1.isshop = 1 and user1.useremail like '%@f88.co%' and user1.userposition = 4) staff\n",
    "group by shopcode\n",
    "union all \n",
    "(select month(dateadd(month, -1, getdate())) thang, shopcode, sum(tenure) as staff_tenure\n",
    "from\n",
    "(SELECT \n",
    "user1.UserFullName, user1.UserName, user1.UserEmail, user1.UserID, \n",
    "case when group1.code = 'ch_k1112_cvh' then 'HNK11VH'\n",
    "when group1.code = 'ch_381_cg' then 'HN381CG'\n",
    "WHEN group1.code = '218DC' THEN 'HN218DC'\n",
    "WHEN group1.code = 'HNDR' THEN 'DR'\n",
    "WHEN group1.code = 'HN982L' THEN '850DL'\n",
    "WHEN group1.code = '218DC' THEN 'HN218DC'\n",
    "else group1.code end as shopcode, user1.created, datediff(month, user1.created, dateadd(month, -1, getdate())) as tenure\n",
    "FROM [dwh].[dbo].[User] user1\n",
    "left join [dwh].[dbo].[W_USER_GROUP_D] usergroup on usergroup.user_id = user1.userid\n",
    "left join [dwh].[dbo].[W_GROUP_D] group1 on group1.group_wid = usergroup.group_id\n",
    "where user1.STATUS = 1 and group1.isshop = 1 and user1.useremail like '%@f88.co%' and user1.userposition = 4) staff\n",
    "group by shopcode)\n",
    "union all \n",
    "(select month(dateadd(month, -2, getdate())) thang, shopcode, sum(tenure) as staff_tenure\n",
    "from\n",
    "(SELECT \n",
    "user1.UserFullName, user1.UserName, user1.UserEmail, user1.UserID, \n",
    "case when group1.code = 'ch_k1112_cvh' then 'HNK11VH'\n",
    "when group1.code = 'ch_381_cg' then 'HN381CG'\n",
    "WHEN group1.code = '218DC' THEN 'HN218DC'\n",
    "WHEN group1.code = 'HNDR' THEN 'DR'\n",
    "WHEN group1.code = 'HN982L' THEN '850DL'\n",
    "WHEN group1.code = '218DC' THEN 'HN218DC'\n",
    "else group1.code end as shopcode, user1.created, datediff(month, user1.created, dateadd(month, -2, getdate())) as tenure\n",
    "FROM [dwh].[dbo].[User] user1\n",
    "left join [dwh].[dbo].[W_USER_GROUP_D] usergroup on usergroup.user_id = user1.userid\n",
    "left join [dwh].[dbo].[W_GROUP_D] group1 on group1.group_wid = usergroup.group_id\n",
    "where user1.STATUS = 1 and group1.isshop = 1 and user1.useremail like '%@f88.co%' and user1.userposition = 4) staff\n",
    "group by shopcode)\n",
    "union all \n",
    "(select month(dateadd(month, -3, getdate())) thang, shopcode, sum(tenure) as staff_tenure\n",
    "from\n",
    "(SELECT \n",
    "user1.UserFullName, user1.UserName, user1.UserEmail, user1.UserID, \n",
    "case when group1.code = 'ch_k1112_cvh' then 'HNK11VH'\n",
    "when group1.code = 'ch_381_cg' then 'HN381CG'\n",
    "WHEN group1.code = '218DC' THEN 'HN218DC'\n",
    "WHEN group1.code = 'HNDR' THEN 'DR'\n",
    "WHEN group1.code = 'HN982L' THEN '850DL'\n",
    "WHEN group1.code = '218DC' THEN 'HN218DC'\n",
    "else group1.code end as shopcode, user1.created, datediff(month, user1.created, dateadd(month, -3, getdate())) as tenure\n",
    "FROM [dwh].[dbo].[User] user1\n",
    "left join [dwh].[dbo].[W_USER_GROUP_D] usergroup on usergroup.user_id = user1.userid\n",
    "left join [dwh].[dbo].[W_GROUP_D] group1 on group1.group_wid = usergroup.group_id\n",
    "where user1.STATUS = 1 and group1.isshop = 1 and user1.useremail like '%@f88.co%' and user1.userposition = 4) staff\n",
    "group by shopcode)\"\"\""
   ]
  },
  {
   "cell_type": "code",
   "execution_count": 1011,
   "metadata": {},
   "outputs": [],
   "source": [
    "staff_tenure = pd.read_sql_query(staff_tenure_str, db)"
   ]
  },
  {
   "cell_type": "code",
   "execution_count": 1012,
   "metadata": {},
   "outputs": [],
   "source": [
    "manager_tenure_str = \"\"\"\n",
    "select month(getdate()) thang, shopcode, sum(tenure) as manager_tenure\n",
    "from\n",
    "(SELECT \n",
    "user1.UserFullName, user1.UserName, user1.UserEmail, user1.UserID, \n",
    "case when group1.code = 'ch_k1112_cvh' then 'HNK11VH'\n",
    "when group1.code = 'ch_381_cg' then 'HN381CG'\n",
    "WHEN group1.code = '218DC' THEN 'HN218DC'\n",
    "WHEN group1.code = 'HNDR' THEN 'DR'\n",
    "WHEN group1.code = 'HN982L' THEN '850DL'\n",
    "WHEN group1.code = '218DC' THEN 'HN218DC'\n",
    "else group1.code end as shopcode, user1.created, datediff(month, user1.created, getdate()) as tenure\n",
    "FROM [dwh].[dbo].[User] user1\n",
    "left join [dwh].[dbo].[W_USER_GROUP_D] usergroup on usergroup.user_id = user1.userid\n",
    "left join [dwh].[dbo].[W_GROUP_D] group1 on group1.group_wid = usergroup.group_id\n",
    "where user1.STATUS = 1 and group1.isshop = 1 and user1.useremail like '%@f88.co%' and user1.userposition = 3) staff\n",
    "group by shopcode\n",
    "union all \n",
    "(select month(dateadd(month, -1, getdate())) thang, shopcode, sum(tenure) as manager_tenure\n",
    "from\n",
    "(SELECT \n",
    "user1.UserFullName, user1.UserName, user1.UserEmail, user1.UserID, \n",
    "case when group1.code = 'ch_k1112_cvh' then 'HNK11VH'\n",
    "when group1.code = 'ch_381_cg' then 'HN381CG'\n",
    "WHEN group1.code = '218DC' THEN 'HN218DC'\n",
    "WHEN group1.code = 'HNDR' THEN 'DR'\n",
    "WHEN group1.code = 'HN982L' THEN '850DL'\n",
    "WHEN group1.code = '218DC' THEN 'HN218DC'\n",
    "else group1.code end as shopcode, user1.created, datediff(month, user1.created, dateadd(month, -1, getdate())) as tenure\n",
    "FROM [dwh].[dbo].[User] user1\n",
    "left join [dwh].[dbo].[W_USER_GROUP_D] usergroup on usergroup.user_id = user1.userid\n",
    "left join [dwh].[dbo].[W_GROUP_D] group1 on group1.group_wid = usergroup.group_id\n",
    "where user1.STATUS = 1 and group1.isshop = 1 and user1.useremail like '%@f88.co%' and user1.userposition = 3) staff\n",
    "group by shopcode)\n",
    "union all \n",
    "(select month(dateadd(month, -2, getdate())) thang, shopcode, sum(tenure) as manager_tenure\n",
    "from\n",
    "(SELECT \n",
    "user1.UserFullName, user1.UserName, user1.UserEmail, user1.UserID, \n",
    "case when group1.code = 'ch_k1112_cvh' then 'HNK11VH'\n",
    "when group1.code = 'ch_381_cg' then 'HN381CG'\n",
    "WHEN group1.code = '218DC' THEN 'HN218DC'\n",
    "WHEN group1.code = 'HNDR' THEN 'DR'\n",
    "WHEN group1.code = 'HN982L' THEN '850DL'\n",
    "WHEN group1.code = '218DC' THEN 'HN218DC'\n",
    "else group1.code end as shopcode, user1.created, datediff(month, user1.created, dateadd(month, -2, getdate())) as tenure\n",
    "FROM [dwh].[dbo].[User] user1\n",
    "left join [dwh].[dbo].[W_USER_GROUP_D] usergroup on usergroup.user_id = user1.userid\n",
    "left join [dwh].[dbo].[W_GROUP_D] group1 on group1.group_wid = usergroup.group_id\n",
    "where user1.STATUS = 1 and group1.isshop = 1 and user1.useremail like '%@f88.co%' and user1.userposition = 3) staff\n",
    "group by shopcode)\n",
    "union all \n",
    "(select month(dateadd(month, -3, getdate())) thang, shopcode, sum(tenure) as manager_tenure\n",
    "from\n",
    "(SELECT \n",
    "user1.UserFullName, user1.UserName, user1.UserEmail, user1.UserID, \n",
    "case when group1.code = 'ch_k1112_cvh' then 'HNK11VH'\n",
    "when group1.code = 'ch_381_cg' then 'HN381CG'\n",
    "WHEN group1.code = '218DC' THEN 'HN218DC'\n",
    "WHEN group1.code = 'HNDR' THEN 'DR'\n",
    "WHEN group1.code = 'HN982L' THEN '850DL'\n",
    "WHEN group1.code = '218DC' THEN 'HN218DC'\n",
    "else group1.code end as shopcode, user1.created, datediff(month, user1.created, dateadd(month, -3, getdate())) as tenure\n",
    "FROM [dwh].[dbo].[User] user1\n",
    "left join [dwh].[dbo].[W_USER_GROUP_D] usergroup on usergroup.user_id = user1.userid\n",
    "left join [dwh].[dbo].[W_GROUP_D] group1 on group1.group_wid = usergroup.group_id\n",
    "where user1.STATUS = 1 and group1.isshop = 1 and user1.useremail like '%@f88.co%' and user1.userposition = 3) staff\n",
    "group by shopcode)\"\"\""
   ]
  },
  {
   "cell_type": "code",
   "execution_count": 1013,
   "metadata": {},
   "outputs": [],
   "source": [
    "manager_tenure = pd.read_sql_query(manager_tenure_str, db)"
   ]
  },
  {
   "cell_type": "code",
   "execution_count": 1014,
   "metadata": {},
   "outputs": [],
   "source": [
    "asm_tenure_str = \"\"\"select month(getdate()) thang, userfullname, datediff(month,created, getdate()) asm_tenure \n",
    "FROM [dwh].[dbo].[User]\n",
    "where UserPosition = 2\n",
    "union all\n",
    "(select month(dateadd(month, -1, getdate())) thang, userfullname, datediff(month,created, dateadd(month, -1, getdate())) asm_tenure \n",
    "FROM [dwh].[dbo].[User]\n",
    "where UserPosition = 2)\n",
    "union all\n",
    "(select month(dateadd(month, -2, getdate())) thang, userfullname, datediff(month,created, dateadd(month, -2, getdate())) asm_tenure \n",
    "FROM [dwh].[dbo].[User]\n",
    "where UserPosition = 2)\n",
    "union all\n",
    "(select month(dateadd(month, -3, getdate())) thang, userfullname, datediff(month,created, dateadd(month, -3, getdate())) asm_tenure \n",
    "FROM [dwh].[dbo].[User]\n",
    "where UserPosition = 2)\"\"\""
   ]
  },
  {
   "cell_type": "code",
   "execution_count": 1015,
   "metadata": {},
   "outputs": [],
   "source": [
    "asm_tenure = pd.read_sql_query(asm_tenure_str,db)"
   ]
  },
  {
   "cell_type": "code",
   "execution_count": 1016,
   "metadata": {},
   "outputs": [
    {
     "data": {
      "text/plain": [
       "Index(['thang', 'shopcode', 'manager_tenure'], dtype='object')"
      ]
     },
     "execution_count": 1016,
     "metadata": {},
     "output_type": "execute_result"
    }
   ],
   "source": [
    "manager_tenure.columns"
   ]
  },
  {
   "cell_type": "code",
   "execution_count": 1017,
   "metadata": {},
   "outputs": [],
   "source": [
    "shop_age_month = shop_age_month.merge(asm_tenure, left_on= ['thang', 'shopcode'], right_on=['thang', 'userfullname'], how = 'left')"
   ]
  },
  {
   "cell_type": "code",
   "execution_count": 1018,
   "metadata": {},
   "outputs": [],
   "source": [
    "shop_age_month = shop_age_month.merge(staff_tenure, on= ['thang', 'shopcode'], how = 'left')"
   ]
  },
  {
   "cell_type": "code",
   "execution_count": 1019,
   "metadata": {},
   "outputs": [],
   "source": [
    "shop_age_month = shop_age_month.merge(manager_tenure, on= ['thang', 'shopcode'], how = 'left')"
   ]
  },
  {
   "cell_type": "code",
   "execution_count": 1020,
   "metadata": {},
   "outputs": [],
   "source": [
    "shop_age_month = shop_age_month[['shopcode', 'thang', 'shop_age_m', 'staff_tenure', 'manager_tenure','asm_tenure']]\n",
    "\n",
    "shop_age_month = shop_age_month[shop_age_month['shop_age_m'].isnull() == False]"
   ]
  },
  {
   "cell_type": "code",
   "execution_count": 1021,
   "metadata": {},
   "outputs": [
    {
     "data": {
      "text/html": [
       "<div>\n",
       "<style scoped>\n",
       "    .dataframe tbody tr th:only-of-type {\n",
       "        vertical-align: middle;\n",
       "    }\n",
       "\n",
       "    .dataframe tbody tr th {\n",
       "        vertical-align: top;\n",
       "    }\n",
       "\n",
       "    .dataframe thead th {\n",
       "        text-align: right;\n",
       "    }\n",
       "</style>\n",
       "<table border=\"1\" class=\"dataframe\">\n",
       "  <thead>\n",
       "    <tr style=\"text-align: right;\">\n",
       "      <th></th>\n",
       "      <th>shopcode</th>\n",
       "      <th>thang</th>\n",
       "      <th>shop_age_m</th>\n",
       "      <th>staff_tenure</th>\n",
       "      <th>manager_tenure</th>\n",
       "      <th>asm_tenure</th>\n",
       "    </tr>\n",
       "  </thead>\n",
       "  <tbody>\n",
       "    <tr>\n",
       "      <th>8</th>\n",
       "      <td>BG</td>\n",
       "      <td>11</td>\n",
       "      <td>64.0</td>\n",
       "      <td>18.0</td>\n",
       "      <td>25.0</td>\n",
       "      <td>NaN</td>\n",
       "    </tr>\n",
       "    <tr>\n",
       "      <th>9</th>\n",
       "      <td>SG2050</td>\n",
       "      <td>11</td>\n",
       "      <td>14.0</td>\n",
       "      <td>6.0</td>\n",
       "      <td>18.0</td>\n",
       "      <td>NaN</td>\n",
       "    </tr>\n",
       "    <tr>\n",
       "      <th>10</th>\n",
       "      <td>SG2051</td>\n",
       "      <td>11</td>\n",
       "      <td>14.0</td>\n",
       "      <td>49.0</td>\n",
       "      <td>13.0</td>\n",
       "      <td>NaN</td>\n",
       "    </tr>\n",
       "    <tr>\n",
       "      <th>11</th>\n",
       "      <td>SG2052</td>\n",
       "      <td>11</td>\n",
       "      <td>14.0</td>\n",
       "      <td>10.0</td>\n",
       "      <td>15.0</td>\n",
       "      <td>NaN</td>\n",
       "    </tr>\n",
       "    <tr>\n",
       "      <th>12</th>\n",
       "      <td>HN505NH</td>\n",
       "      <td>11</td>\n",
       "      <td>14.0</td>\n",
       "      <td>23.0</td>\n",
       "      <td>28.0</td>\n",
       "      <td>NaN</td>\n",
       "    </tr>\n",
       "    <tr>\n",
       "      <th>13</th>\n",
       "      <td>SGN0101</td>\n",
       "      <td>11</td>\n",
       "      <td>14.0</td>\n",
       "      <td>35.0</td>\n",
       "      <td>14.0</td>\n",
       "      <td>NaN</td>\n",
       "    </tr>\n",
       "    <tr>\n",
       "      <th>14</th>\n",
       "      <td>SGN0102</td>\n",
       "      <td>11</td>\n",
       "      <td>14.0</td>\n",
       "      <td>19.0</td>\n",
       "      <td>18.0</td>\n",
       "      <td>NaN</td>\n",
       "    </tr>\n",
       "    <tr>\n",
       "      <th>15</th>\n",
       "      <td>BDG0103</td>\n",
       "      <td>11</td>\n",
       "      <td>14.0</td>\n",
       "      <td>14.0</td>\n",
       "      <td>18.0</td>\n",
       "      <td>NaN</td>\n",
       "    </tr>\n",
       "    <tr>\n",
       "      <th>16</th>\n",
       "      <td>DNI0232</td>\n",
       "      <td>11</td>\n",
       "      <td>2.0</td>\n",
       "      <td>6.0</td>\n",
       "      <td>10.0</td>\n",
       "      <td>NaN</td>\n",
       "    </tr>\n",
       "    <tr>\n",
       "      <th>17</th>\n",
       "      <td>HPG0233</td>\n",
       "      <td>11</td>\n",
       "      <td>2.0</td>\n",
       "      <td>6.0</td>\n",
       "      <td>17.0</td>\n",
       "      <td>NaN</td>\n",
       "    </tr>\n",
       "    <tr>\n",
       "      <th>18</th>\n",
       "      <td>HPG0234</td>\n",
       "      <td>11</td>\n",
       "      <td>2.0</td>\n",
       "      <td>8.0</td>\n",
       "      <td>15.0</td>\n",
       "      <td>NaN</td>\n",
       "    </tr>\n",
       "    <tr>\n",
       "      <th>19</th>\n",
       "      <td>BNH0235</td>\n",
       "      <td>11</td>\n",
       "      <td>2.0</td>\n",
       "      <td>6.0</td>\n",
       "      <td>6.0</td>\n",
       "      <td>NaN</td>\n",
       "    </tr>\n",
       "    <tr>\n",
       "      <th>20</th>\n",
       "      <td>THA0236</td>\n",
       "      <td>11</td>\n",
       "      <td>2.0</td>\n",
       "      <td>17.0</td>\n",
       "      <td>6.0</td>\n",
       "      <td>NaN</td>\n",
       "    </tr>\n",
       "    <tr>\n",
       "      <th>21</th>\n",
       "      <td>LDG0237</td>\n",
       "      <td>11</td>\n",
       "      <td>2.0</td>\n",
       "      <td>5.0</td>\n",
       "      <td>2.0</td>\n",
       "      <td>NaN</td>\n",
       "    </tr>\n",
       "    <tr>\n",
       "      <th>22</th>\n",
       "      <td>DNI0238</td>\n",
       "      <td>11</td>\n",
       "      <td>2.0</td>\n",
       "      <td>6.0</td>\n",
       "      <td>12.0</td>\n",
       "      <td>NaN</td>\n",
       "    </tr>\n",
       "    <tr>\n",
       "      <th>23</th>\n",
       "      <td>SGN0118</td>\n",
       "      <td>11</td>\n",
       "      <td>12.0</td>\n",
       "      <td>29.0</td>\n",
       "      <td>13.0</td>\n",
       "      <td>NaN</td>\n",
       "    </tr>\n",
       "    <tr>\n",
       "      <th>24</th>\n",
       "      <td>SGN0119</td>\n",
       "      <td>11</td>\n",
       "      <td>12.0</td>\n",
       "      <td>47.0</td>\n",
       "      <td>15.0</td>\n",
       "      <td>NaN</td>\n",
       "    </tr>\n",
       "    <tr>\n",
       "      <th>25</th>\n",
       "      <td>SGN0120</td>\n",
       "      <td>11</td>\n",
       "      <td>11.0</td>\n",
       "      <td>NaN</td>\n",
       "      <td>19.0</td>\n",
       "      <td>NaN</td>\n",
       "    </tr>\n",
       "    <tr>\n",
       "      <th>26</th>\n",
       "      <td>SGN0121</td>\n",
       "      <td>11</td>\n",
       "      <td>11.0</td>\n",
       "      <td>18.0</td>\n",
       "      <td>17.0</td>\n",
       "      <td>NaN</td>\n",
       "    </tr>\n",
       "    <tr>\n",
       "      <th>27</th>\n",
       "      <td>SGN0122</td>\n",
       "      <td>11</td>\n",
       "      <td>11.0</td>\n",
       "      <td>30.0</td>\n",
       "      <td>18.0</td>\n",
       "      <td>NaN</td>\n",
       "    </tr>\n",
       "    <tr>\n",
       "      <th>28</th>\n",
       "      <td>HNI0123</td>\n",
       "      <td>11</td>\n",
       "      <td>11.0</td>\n",
       "      <td>27.0</td>\n",
       "      <td>22.0</td>\n",
       "      <td>NaN</td>\n",
       "    </tr>\n",
       "    <tr>\n",
       "      <th>29</th>\n",
       "      <td>SGN0124</td>\n",
       "      <td>11</td>\n",
       "      <td>11.0</td>\n",
       "      <td>27.0</td>\n",
       "      <td>18.0</td>\n",
       "      <td>NaN</td>\n",
       "    </tr>\n",
       "    <tr>\n",
       "      <th>30</th>\n",
       "      <td>HNTC</td>\n",
       "      <td>11</td>\n",
       "      <td>64.0</td>\n",
       "      <td>55.0</td>\n",
       "      <td>39.0</td>\n",
       "      <td>NaN</td>\n",
       "    </tr>\n",
       "    <tr>\n",
       "      <th>31</th>\n",
       "      <td>VY</td>\n",
       "      <td>11</td>\n",
       "      <td>64.0</td>\n",
       "      <td>62.0</td>\n",
       "      <td>49.0</td>\n",
       "      <td>NaN</td>\n",
       "    </tr>\n",
       "    <tr>\n",
       "      <th>32</th>\n",
       "      <td>HP</td>\n",
       "      <td>11</td>\n",
       "      <td>64.0</td>\n",
       "      <td>25.0</td>\n",
       "      <td>49.0</td>\n",
       "      <td>NaN</td>\n",
       "    </tr>\n",
       "    <tr>\n",
       "      <th>33</th>\n",
       "      <td>BN2</td>\n",
       "      <td>11</td>\n",
       "      <td>64.0</td>\n",
       "      <td>29.0</td>\n",
       "      <td>39.0</td>\n",
       "      <td>NaN</td>\n",
       "    </tr>\n",
       "    <tr>\n",
       "      <th>34</th>\n",
       "      <td>850DL</td>\n",
       "      <td>11</td>\n",
       "      <td>39.0</td>\n",
       "      <td>49.0</td>\n",
       "      <td>25.0</td>\n",
       "      <td>NaN</td>\n",
       "    </tr>\n",
       "    <tr>\n",
       "      <th>36</th>\n",
       "      <td>383TKT</td>\n",
       "      <td>11</td>\n",
       "      <td>64.0</td>\n",
       "      <td>11.0</td>\n",
       "      <td>44.0</td>\n",
       "      <td>NaN</td>\n",
       "    </tr>\n",
       "    <tr>\n",
       "      <th>37</th>\n",
       "      <td>SGN0104</td>\n",
       "      <td>11</td>\n",
       "      <td>13.0</td>\n",
       "      <td>43.0</td>\n",
       "      <td>19.0</td>\n",
       "      <td>NaN</td>\n",
       "    </tr>\n",
       "    <tr>\n",
       "      <th>38</th>\n",
       "      <td>SGN0105</td>\n",
       "      <td>11</td>\n",
       "      <td>13.0</td>\n",
       "      <td>22.0</td>\n",
       "      <td>12.0</td>\n",
       "      <td>NaN</td>\n",
       "    </tr>\n",
       "    <tr>\n",
       "      <th>...</th>\n",
       "      <td>...</td>\n",
       "      <td>...</td>\n",
       "      <td>...</td>\n",
       "      <td>...</td>\n",
       "      <td>...</td>\n",
       "      <td>...</td>\n",
       "    </tr>\n",
       "    <tr>\n",
       "      <th>1102</th>\n",
       "      <td>BTN0195</td>\n",
       "      <td>8</td>\n",
       "      <td>2.0</td>\n",
       "      <td>1.0</td>\n",
       "      <td>3.0</td>\n",
       "      <td>NaN</td>\n",
       "    </tr>\n",
       "    <tr>\n",
       "      <th>1103</th>\n",
       "      <td>DNI0196</td>\n",
       "      <td>8</td>\n",
       "      <td>2.0</td>\n",
       "      <td>16.0</td>\n",
       "      <td>6.0</td>\n",
       "      <td>NaN</td>\n",
       "    </tr>\n",
       "    <tr>\n",
       "      <th>1104</th>\n",
       "      <td>QNH0218</td>\n",
       "      <td>8</td>\n",
       "      <td>0.0</td>\n",
       "      <td>0.0</td>\n",
       "      <td>12.0</td>\n",
       "      <td>NaN</td>\n",
       "    </tr>\n",
       "    <tr>\n",
       "      <th>1105</th>\n",
       "      <td>BNH0219</td>\n",
       "      <td>8</td>\n",
       "      <td>0.0</td>\n",
       "      <td>2.0</td>\n",
       "      <td>35.0</td>\n",
       "      <td>NaN</td>\n",
       "    </tr>\n",
       "    <tr>\n",
       "      <th>1106</th>\n",
       "      <td>TNH0220</td>\n",
       "      <td>8</td>\n",
       "      <td>0.0</td>\n",
       "      <td>-6.0</td>\n",
       "      <td>17.0</td>\n",
       "      <td>NaN</td>\n",
       "    </tr>\n",
       "    <tr>\n",
       "      <th>1107</th>\n",
       "      <td>DLK0221</td>\n",
       "      <td>8</td>\n",
       "      <td>0.0</td>\n",
       "      <td>-5.0</td>\n",
       "      <td>6.0</td>\n",
       "      <td>NaN</td>\n",
       "    </tr>\n",
       "    <tr>\n",
       "      <th>1108</th>\n",
       "      <td>BTN0222</td>\n",
       "      <td>8</td>\n",
       "      <td>0.0</td>\n",
       "      <td>0.0</td>\n",
       "      <td>3.0</td>\n",
       "      <td>NaN</td>\n",
       "    </tr>\n",
       "    <tr>\n",
       "      <th>1109</th>\n",
       "      <td>CTO0223</td>\n",
       "      <td>8</td>\n",
       "      <td>0.0</td>\n",
       "      <td>-1.0</td>\n",
       "      <td>5.0</td>\n",
       "      <td>NaN</td>\n",
       "    </tr>\n",
       "    <tr>\n",
       "      <th>1110</th>\n",
       "      <td>BVU0224</td>\n",
       "      <td>8</td>\n",
       "      <td>0.0</td>\n",
       "      <td>0.0</td>\n",
       "      <td>3.0</td>\n",
       "      <td>NaN</td>\n",
       "    </tr>\n",
       "    <tr>\n",
       "      <th>1111</th>\n",
       "      <td>SG2038</td>\n",
       "      <td>8</td>\n",
       "      <td>13.0</td>\n",
       "      <td>8.0</td>\n",
       "      <td>40.0</td>\n",
       "      <td>NaN</td>\n",
       "    </tr>\n",
       "    <tr>\n",
       "      <th>1112</th>\n",
       "      <td>SG2039</td>\n",
       "      <td>8</td>\n",
       "      <td>13.0</td>\n",
       "      <td>21.0</td>\n",
       "      <td>3.0</td>\n",
       "      <td>NaN</td>\n",
       "    </tr>\n",
       "    <tr>\n",
       "      <th>1113</th>\n",
       "      <td>SG2040</td>\n",
       "      <td>8</td>\n",
       "      <td>13.0</td>\n",
       "      <td>8.0</td>\n",
       "      <td>14.0</td>\n",
       "      <td>NaN</td>\n",
       "    </tr>\n",
       "    <tr>\n",
       "      <th>1114</th>\n",
       "      <td>SG2041</td>\n",
       "      <td>8</td>\n",
       "      <td>13.0</td>\n",
       "      <td>6.0</td>\n",
       "      <td>16.0</td>\n",
       "      <td>NaN</td>\n",
       "    </tr>\n",
       "    <tr>\n",
       "      <th>1115</th>\n",
       "      <td>SG2042</td>\n",
       "      <td>8</td>\n",
       "      <td>13.0</td>\n",
       "      <td>29.0</td>\n",
       "      <td>17.0</td>\n",
       "      <td>NaN</td>\n",
       "    </tr>\n",
       "    <tr>\n",
       "      <th>1116</th>\n",
       "      <td>HP5502</td>\n",
       "      <td>8</td>\n",
       "      <td>13.0</td>\n",
       "      <td>13.0</td>\n",
       "      <td>29.0</td>\n",
       "      <td>NaN</td>\n",
       "    </tr>\n",
       "    <tr>\n",
       "      <th>1117</th>\n",
       "      <td>SG2043</td>\n",
       "      <td>8</td>\n",
       "      <td>12.0</td>\n",
       "      <td>26.0</td>\n",
       "      <td>14.0</td>\n",
       "      <td>NaN</td>\n",
       "    </tr>\n",
       "    <tr>\n",
       "      <th>1118</th>\n",
       "      <td>SG2044</td>\n",
       "      <td>8</td>\n",
       "      <td>12.0</td>\n",
       "      <td>12.0</td>\n",
       "      <td>16.0</td>\n",
       "      <td>NaN</td>\n",
       "    </tr>\n",
       "    <tr>\n",
       "      <th>1119</th>\n",
       "      <td>SG2045</td>\n",
       "      <td>8</td>\n",
       "      <td>12.0</td>\n",
       "      <td>17.0</td>\n",
       "      <td>17.0</td>\n",
       "      <td>NaN</td>\n",
       "    </tr>\n",
       "    <tr>\n",
       "      <th>1120</th>\n",
       "      <td>SG2046</td>\n",
       "      <td>8</td>\n",
       "      <td>12.0</td>\n",
       "      <td>9.0</td>\n",
       "      <td>0.0</td>\n",
       "      <td>NaN</td>\n",
       "    </tr>\n",
       "    <tr>\n",
       "      <th>1121</th>\n",
       "      <td>TH5602</td>\n",
       "      <td>8</td>\n",
       "      <td>12.0</td>\n",
       "      <td>10.0</td>\n",
       "      <td>22.0</td>\n",
       "      <td>NaN</td>\n",
       "    </tr>\n",
       "    <tr>\n",
       "      <th>1122</th>\n",
       "      <td>SG2047</td>\n",
       "      <td>8</td>\n",
       "      <td>12.0</td>\n",
       "      <td>16.0</td>\n",
       "      <td>22.0</td>\n",
       "      <td>NaN</td>\n",
       "    </tr>\n",
       "    <tr>\n",
       "      <th>1123</th>\n",
       "      <td>SG2048</td>\n",
       "      <td>8</td>\n",
       "      <td>12.0</td>\n",
       "      <td>48.0</td>\n",
       "      <td>17.0</td>\n",
       "      <td>NaN</td>\n",
       "    </tr>\n",
       "    <tr>\n",
       "      <th>1124</th>\n",
       "      <td>SG2049</td>\n",
       "      <td>8</td>\n",
       "      <td>11.0</td>\n",
       "      <td>15.0</td>\n",
       "      <td>5.0</td>\n",
       "      <td>NaN</td>\n",
       "    </tr>\n",
       "    <tr>\n",
       "      <th>1125</th>\n",
       "      <td>SGN0204</td>\n",
       "      <td>8</td>\n",
       "      <td>1.0</td>\n",
       "      <td>0.0</td>\n",
       "      <td>9.0</td>\n",
       "      <td>NaN</td>\n",
       "    </tr>\n",
       "    <tr>\n",
       "      <th>1126</th>\n",
       "      <td>TGG0205</td>\n",
       "      <td>8</td>\n",
       "      <td>1.0</td>\n",
       "      <td>3.0</td>\n",
       "      <td>10.0</td>\n",
       "      <td>NaN</td>\n",
       "    </tr>\n",
       "    <tr>\n",
       "      <th>1127</th>\n",
       "      <td>QNH0206</td>\n",
       "      <td>8</td>\n",
       "      <td>1.0</td>\n",
       "      <td>1.0</td>\n",
       "      <td>NaN</td>\n",
       "      <td>NaN</td>\n",
       "    </tr>\n",
       "    <tr>\n",
       "      <th>1128</th>\n",
       "      <td>VPC0207</td>\n",
       "      <td>8</td>\n",
       "      <td>1.0</td>\n",
       "      <td>2.0</td>\n",
       "      <td>13.0</td>\n",
       "      <td>NaN</td>\n",
       "    </tr>\n",
       "    <tr>\n",
       "      <th>1129</th>\n",
       "      <td>BVU0208</td>\n",
       "      <td>8</td>\n",
       "      <td>1.0</td>\n",
       "      <td>5.0</td>\n",
       "      <td>10.0</td>\n",
       "      <td>NaN</td>\n",
       "    </tr>\n",
       "    <tr>\n",
       "      <th>1130</th>\n",
       "      <td>QNH0209</td>\n",
       "      <td>8</td>\n",
       "      <td>0.0</td>\n",
       "      <td>3.0</td>\n",
       "      <td>10.0</td>\n",
       "      <td>NaN</td>\n",
       "    </tr>\n",
       "    <tr>\n",
       "      <th>1131</th>\n",
       "      <td>DNI0210</td>\n",
       "      <td>8</td>\n",
       "      <td>0.0</td>\n",
       "      <td>1.0</td>\n",
       "      <td>7.0</td>\n",
       "      <td>NaN</td>\n",
       "    </tr>\n",
       "  </tbody>\n",
       "</table>\n",
       "<p>1020 rows × 6 columns</p>\n",
       "</div>"
      ],
      "text/plain": [
       "     shopcode  thang  shop_age_m  staff_tenure  manager_tenure  asm_tenure\n",
       "8          BG     11        64.0          18.0            25.0         NaN\n",
       "9      SG2050     11        14.0           6.0            18.0         NaN\n",
       "10     SG2051     11        14.0          49.0            13.0         NaN\n",
       "11     SG2052     11        14.0          10.0            15.0         NaN\n",
       "12    HN505NH     11        14.0          23.0            28.0         NaN\n",
       "13    SGN0101     11        14.0          35.0            14.0         NaN\n",
       "14    SGN0102     11        14.0          19.0            18.0         NaN\n",
       "15    BDG0103     11        14.0          14.0            18.0         NaN\n",
       "16    DNI0232     11         2.0           6.0            10.0         NaN\n",
       "17    HPG0233     11         2.0           6.0            17.0         NaN\n",
       "18    HPG0234     11         2.0           8.0            15.0         NaN\n",
       "19    BNH0235     11         2.0           6.0             6.0         NaN\n",
       "20    THA0236     11         2.0          17.0             6.0         NaN\n",
       "21    LDG0237     11         2.0           5.0             2.0         NaN\n",
       "22    DNI0238     11         2.0           6.0            12.0         NaN\n",
       "23    SGN0118     11        12.0          29.0            13.0         NaN\n",
       "24    SGN0119     11        12.0          47.0            15.0         NaN\n",
       "25    SGN0120     11        11.0           NaN            19.0         NaN\n",
       "26    SGN0121     11        11.0          18.0            17.0         NaN\n",
       "27    SGN0122     11        11.0          30.0            18.0         NaN\n",
       "28    HNI0123     11        11.0          27.0            22.0         NaN\n",
       "29    SGN0124     11        11.0          27.0            18.0         NaN\n",
       "30       HNTC     11        64.0          55.0            39.0         NaN\n",
       "31         VY     11        64.0          62.0            49.0         NaN\n",
       "32         HP     11        64.0          25.0            49.0         NaN\n",
       "33        BN2     11        64.0          29.0            39.0         NaN\n",
       "34      850DL     11        39.0          49.0            25.0         NaN\n",
       "36     383TKT     11        64.0          11.0            44.0         NaN\n",
       "37    SGN0104     11        13.0          43.0            19.0         NaN\n",
       "38    SGN0105     11        13.0          22.0            12.0         NaN\n",
       "...       ...    ...         ...           ...             ...         ...\n",
       "1102  BTN0195      8         2.0           1.0             3.0         NaN\n",
       "1103  DNI0196      8         2.0          16.0             6.0         NaN\n",
       "1104  QNH0218      8         0.0           0.0            12.0         NaN\n",
       "1105  BNH0219      8         0.0           2.0            35.0         NaN\n",
       "1106  TNH0220      8         0.0          -6.0            17.0         NaN\n",
       "1107  DLK0221      8         0.0          -5.0             6.0         NaN\n",
       "1108  BTN0222      8         0.0           0.0             3.0         NaN\n",
       "1109  CTO0223      8         0.0          -1.0             5.0         NaN\n",
       "1110  BVU0224      8         0.0           0.0             3.0         NaN\n",
       "1111   SG2038      8        13.0           8.0            40.0         NaN\n",
       "1112   SG2039      8        13.0          21.0             3.0         NaN\n",
       "1113   SG2040      8        13.0           8.0            14.0         NaN\n",
       "1114   SG2041      8        13.0           6.0            16.0         NaN\n",
       "1115   SG2042      8        13.0          29.0            17.0         NaN\n",
       "1116   HP5502      8        13.0          13.0            29.0         NaN\n",
       "1117   SG2043      8        12.0          26.0            14.0         NaN\n",
       "1118   SG2044      8        12.0          12.0            16.0         NaN\n",
       "1119   SG2045      8        12.0          17.0            17.0         NaN\n",
       "1120   SG2046      8        12.0           9.0             0.0         NaN\n",
       "1121   TH5602      8        12.0          10.0            22.0         NaN\n",
       "1122   SG2047      8        12.0          16.0            22.0         NaN\n",
       "1123   SG2048      8        12.0          48.0            17.0         NaN\n",
       "1124   SG2049      8        11.0          15.0             5.0         NaN\n",
       "1125  SGN0204      8         1.0           0.0             9.0         NaN\n",
       "1126  TGG0205      8         1.0           3.0            10.0         NaN\n",
       "1127  QNH0206      8         1.0           1.0             NaN         NaN\n",
       "1128  VPC0207      8         1.0           2.0            13.0         NaN\n",
       "1129  BVU0208      8         1.0           5.0            10.0         NaN\n",
       "1130  QNH0209      8         0.0           3.0            10.0         NaN\n",
       "1131  DNI0210      8         0.0           1.0             7.0         NaN\n",
       "\n",
       "[1020 rows x 6 columns]"
      ]
     },
     "execution_count": 1021,
     "metadata": {},
     "output_type": "execute_result"
    }
   ],
   "source": [
    "shop_age_month"
   ]
  },
  {
   "cell_type": "code",
   "execution_count": null,
   "metadata": {},
   "outputs": [],
   "source": []
  },
  {
   "cell_type": "markdown",
   "metadata": {},
   "source": [
    "TEMPLATE TABLE"
   ]
  },
  {
   "cell_type": "code",
   "execution_count": 562,
   "metadata": {},
   "outputs": [],
   "source": [
    "shop_fault['extract_date'] = pd.to_datetime(shop_fault['extract_date'], format=\"%Y-%m-%d\")"
   ]
  },
  {
   "cell_type": "code",
   "execution_count": 563,
   "metadata": {},
   "outputs": [
    {
     "name": "stderr",
     "output_type": "stream",
     "text": [
      "D:\\Anaconda3\\lib\\site-packages\\ipykernel_launcher.py:1: SettingWithCopyWarning: \n",
      "A value is trying to be set on a copy of a slice from a DataFrame.\n",
      "Try using .loc[row_indexer,col_indexer] = value instead\n",
      "\n",
      "See the caveats in the documentation: http://pandas.pydata.org/pandas-docs/stable/indexing.html#indexing-view-versus-copy\n",
      "  \"\"\"Entry point for launching an IPython kernel.\n"
     ]
    }
   ],
   "source": [
    "rolled_bo['extract_date'] = pd.to_datetime(rolled_bo['extract_date'], format=\"%Y-%m-%d\")"
   ]
  },
  {
   "cell_type": "code",
   "execution_count": 564,
   "metadata": {},
   "outputs": [],
   "source": [
    "balance_ratio_cartitle['extract_date'] = pd.to_datetime(balance_ratio_cartitle['extract_date'], format=\"%Y-%m-%d\")\n",
    "balance_ratio_motortitle['extract_date'] = pd.to_datetime(balance_ratio_motortitle['extract_date'], format=\"%Y-%m-%d\")"
   ]
  },
  {
   "cell_type": "code",
   "execution_count": 565,
   "metadata": {},
   "outputs": [],
   "source": [
    "growth_rate['extract_date'] = pd.to_datetime(growth_rate['extract_date'], format=\"%Y-%m-%d\")"
   ]
  },
  {
   "cell_type": "code",
   "execution_count": 566,
   "metadata": {},
   "outputs": [
    {
     "name": "stderr",
     "output_type": "stream",
     "text": [
      "D:\\Anaconda3\\lib\\site-packages\\ipykernel_launcher.py:4: SettingWithCopyWarning: \n",
      "A value is trying to be set on a copy of a slice from a DataFrame.\n",
      "Try using .loc[row_indexer,col_indexer] = value instead\n",
      "\n",
      "See the caveats in the documentation: http://pandas.pydata.org/pandas-docs/stable/indexing.html#indexing-view-versus-copy\n",
      "  after removing the cwd from sys.path.\n",
      "D:\\Anaconda3\\lib\\site-packages\\ipykernel_launcher.py:5: SettingWithCopyWarning: \n",
      "A value is trying to be set on a copy of a slice from a DataFrame.\n",
      "Try using .loc[row_indexer,col_indexer] = value instead\n",
      "\n",
      "See the caveats in the documentation: http://pandas.pydata.org/pandas-docs/stable/indexing.html#indexing-view-versus-copy\n",
      "  \"\"\"\n"
     ]
    }
   ],
   "source": [
    "ontime_motortiltle_rate['extract_date'] = pd.to_datetime(ontime_motortiltle_rate['extract_date'], format=\"%Y-%m-%d\")\n",
    "fav['extract_date'] = pd.to_datetime(fav['extract_date'], format=\"%Y-%m-%d\")\n",
    "ontime_cartitle_rate['extract_date'] = pd.to_datetime(ontime_cartitle_rate['extract_date'], format=\"%Y-%m-%d\")\n",
    "motor_title_early_remind['extract_date'] = pd.to_datetime(motor_title_early_remind['extract_date'], format=\"%Y-%m-%d\")\n",
    "car_title_early_remind['extract_date'] = pd.to_datetime(car_title_early_remind['extract_date'], format=\"%Y-%m-%d\")\n",
    "cashcount_check['extract_date'] = pd.to_datetime(cashcount_check['extract_date'], format=\"%Y-%m-%d\")\n",
    "balance_ratio_cartitle_pawn['extract_date'] = pd.to_datetime(balance_ratio_cartitle_pawn['extract_date'], format=\"%Y-%m-%d\")\n",
    "balance_ratio_motortitle_pawn['extract_date'] = pd.to_datetime(balance_ratio_motortitle_pawn['extract_date'], format=\"%Y-%m-%d\")\n",
    "balance_ratio_normal_asset['extract_date'] = pd.to_datetime(balance_ratio_normal_asset['extract_date'], format=\"%Y-%m-%d\")"
   ]
  },
  {
   "cell_type": "code",
   "execution_count": 567,
   "metadata": {},
   "outputs": [
    {
     "name": "stderr",
     "output_type": "stream",
     "text": [
      "D:\\Anaconda3\\lib\\site-packages\\ipykernel_launcher.py:1: SettingWithCopyWarning: \n",
      "A value is trying to be set on a copy of a slice from a DataFrame.\n",
      "Try using .loc[row_indexer,col_indexer] = value instead\n",
      "\n",
      "See the caveats in the documentation: http://pandas.pydata.org/pandas-docs/stable/indexing.html#indexing-view-versus-copy\n",
      "  \"\"\"Entry point for launching an IPython kernel.\n"
     ]
    }
   ],
   "source": [
    "pol_cartitle['extract_date'] = pd.to_datetime(pol_cartitle['extract_date'], format=\"%Y-%m-%d\")\n",
    "cartitle_traffic_rate['extract_date'] = pd.to_datetime(cartitle_traffic_rate['extract_date'], format=\"%Y-%m-%d\")\n",
    "motortitle_traffic_rate['extract_date'] = pd.to_datetime(motortitle_traffic_rate['extract_date'], format=\"%Y-%m-%d\")\n",
    "norm_asset_traffic_rate['extract_date'] = pd.to_datetime(norm_asset_traffic_rate['extract_date'], format=\"%Y-%m-%d\")\n",
    "direct_audit_schedule['extract_date'] = pd.to_datetime(direct_audit_schedule['extract_date'], format=\"%Y-%m-%d\")\n",
    "indirect_audit_schedule['extract_date'] = pd.to_datetime(indirect_audit_schedule['extract_date'], format=\"%Y-%m-%d\")"
   ]
  },
  {
   "cell_type": "code",
   "execution_count": 568,
   "metadata": {},
   "outputs": [
    {
     "name": "stderr",
     "output_type": "stream",
     "text": [
      "D:\\Anaconda3\\lib\\site-packages\\ipykernel_launcher.py:1: SettingWithCopyWarning: \n",
      "A value is trying to be set on a copy of a slice from a DataFrame.\n",
      "Try using .loc[row_indexer,col_indexer] = value instead\n",
      "\n",
      "See the caveats in the documentation: http://pandas.pydata.org/pandas-docs/stable/indexing.html#indexing-view-versus-copy\n",
      "  \"\"\"Entry point for launching an IPython kernel.\n",
      "D:\\Anaconda3\\lib\\site-packages\\ipykernel_launcher.py:2: SettingWithCopyWarning: \n",
      "A value is trying to be set on a copy of a slice from a DataFrame.\n",
      "Try using .loc[row_indexer,col_indexer] = value instead\n",
      "\n",
      "See the caveats in the documentation: http://pandas.pydata.org/pandas-docs/stable/indexing.html#indexing-view-versus-copy\n",
      "  \n"
     ]
    }
   ],
   "source": [
    "pol_motortitle['extract_date'] = pd.to_datetime(pol_motortitle['extract_date'], format=\"%Y-%m-%d\")\n",
    "pol_normalasset['extract_date'] = pd.to_datetime(pol_normalasset['extract_date'], format=\"%Y-%m-%d\")"
   ]
  },
  {
   "cell_type": "code",
   "execution_count": 800,
   "metadata": {},
   "outputs": [
    {
     "data": {
      "text/plain": [
       "Index(['shopcode', 'shopname', 'opendate', 'Mã PGD_x', 'Tỉnh/TP', 'Vĩ độ',\n",
       "       'Kinh độ', 'Vùng/Miền', 'key', 'extract_date', 'yearmonth',\n",
       "       'province_id', 'province_name', 'province_risk_level', 'Mã PGD_y',\n",
       "       'distance_to_ho', 'shop_name_comment', 'high', 'low', 'medium',\n",
       "       'significant', 'rolled_rate_motor_title', 'rolled_rate_car_title',\n",
       "       'thang', 'growth_rate_car_title', 'growth_rate_motor_title',\n",
       "       'growth_rate_normal_asset', 'nums_grownet_cartitle',\n",
       "       'nums_grownet_motortitle', 'nums_grownet_normalasset',\n",
       "       'total_nums_growthnet'],\n",
       "      dtype='object')"
      ]
     },
     "execution_count": 800,
     "metadata": {},
     "output_type": "execute_result"
    }
   ],
   "source": [
    "template_table_data.columns"
   ]
  },
  {
   "cell_type": "code",
   "execution_count": 1224,
   "metadata": {},
   "outputs": [],
   "source": [
    "template_table_data = shop_infor.merge(distance_to_ho, left_on = 'shopcode', right_on = 'Mã PGD',how = 'left')"
   ]
  },
  {
   "cell_type": "code",
   "execution_count": 1225,
   "metadata": {},
   "outputs": [],
   "source": [
    "template_table_data['extract_date'] = pd.to_datetime(template_table_data['extract_date'], format=\"%Y-%m-%d\")"
   ]
  },
  {
   "cell_type": "code",
   "execution_count": 1226,
   "metadata": {},
   "outputs": [],
   "source": [
    "template_table_data = template_table_data.merge(shop_fault, left_on = ['extract_date','shopname'], right_on = ['extract_date','shop_name_comment'],how = 'left')"
   ]
  },
  {
   "cell_type": "code",
   "execution_count": 1227,
   "metadata": {},
   "outputs": [
    {
     "data": {
      "text/plain": [
       "240"
      ]
     },
     "execution_count": 1227,
     "metadata": {},
     "output_type": "execute_result"
    }
   ],
   "source": [
    "template_table_data['shopcode'].count()"
   ]
  },
  {
   "cell_type": "code",
   "execution_count": 1228,
   "metadata": {},
   "outputs": [],
   "source": [
    "template_table_data = template_table_data.merge(rolled_bo, on = ['extract_date','shopcode'], how ='left')"
   ]
  },
  {
   "cell_type": "code",
   "execution_count": 1229,
   "metadata": {},
   "outputs": [],
   "source": [
    "template_table_data = template_table_data.merge(growth_rate, on = ['extract_date','shopcode'], how = 'left')"
   ]
  },
  {
   "cell_type": "code",
   "execution_count": 1230,
   "metadata": {},
   "outputs": [],
   "source": [
    "template_table_data = template_table_data.merge(balance_ratio_cartitle, on = ['extract_date','shopcode'], how = 'left')"
   ]
  },
  {
   "cell_type": "code",
   "execution_count": 1231,
   "metadata": {},
   "outputs": [
    {
     "data": {
      "text/plain": [
       "Index(['shopcode', 'shopname', 'opendate', 'Mã PGD_x', 'Tỉnh/TP', 'Vĩ độ',\n",
       "       'Kinh độ', 'Vùng/Miền', 'key', 'extract_date', 'yearmonth',\n",
       "       'province_id', 'province_name', 'province_risk_level', 'Mã PGD_y',\n",
       "       'distance_to_ho', 'shop_name_comment', 'high', 'low', 'medium',\n",
       "       'significant', 'rolled_rate_motor_title', 'rolled_rate_car_title',\n",
       "       'thang', 'growth_rate_car_title', 'growth_rate_motor_title',\n",
       "       'growth_rate_normal_asset', 'nums_grownet_cartitle',\n",
       "       'nums_grownet_motortitle', 'nums_grownet_normalasset',\n",
       "       'total_nums_growthnet', '0.cartitle_dpd<=0_rate',\n",
       "       '1.cartitle_0<dpd<10_rate', '2.cartitle_10<=dpd<90_rate',\n",
       "       '3.cartitle_dpd>=90_rate', 'cartt_0.dpd<11'],\n",
       "      dtype='object')"
      ]
     },
     "execution_count": 1231,
     "metadata": {},
     "output_type": "execute_result"
    }
   ],
   "source": [
    "template_table_data.columns"
   ]
  },
  {
   "cell_type": "code",
   "execution_count": 1232,
   "metadata": {},
   "outputs": [],
   "source": [
    "template_table_data = template_table_data.merge(balance_ratio_motortitle, on = ['extract_date','shopcode'], how = 'left')"
   ]
  },
  {
   "cell_type": "code",
   "execution_count": 1233,
   "metadata": {},
   "outputs": [],
   "source": [
    "template_table_data = template_table_data.merge(balance_ratio_normal_asset, on = ['extract_date','shopcode'], how = 'left')"
   ]
  },
  {
   "cell_type": "code",
   "execution_count": 1234,
   "metadata": {},
   "outputs": [],
   "source": [
    "ontime_motortiltle_rate = ontime_motortiltle_rate[['extract_date','shopname', 'motortitle_ontime_rate']]"
   ]
  },
  {
   "cell_type": "code",
   "execution_count": 1235,
   "metadata": {},
   "outputs": [],
   "source": [
    "template_table_data = template_table_data.merge(ontime_motortiltle_rate, on = ['extract_date','shopname'], how = 'left')"
   ]
  },
  {
   "cell_type": "code",
   "execution_count": 1236,
   "metadata": {},
   "outputs": [],
   "source": [
    "template_table_data = template_table_data.merge(ontime_cartitle_rate, on = ['extract_date','shopname'], how = 'left')"
   ]
  },
  {
   "cell_type": "code",
   "execution_count": 1237,
   "metadata": {},
   "outputs": [],
   "source": [
    "template_table_data = template_table_data.merge(motor_title_early_remind, on = ['extract_date','shopname'], how = 'left')"
   ]
  },
  {
   "cell_type": "code",
   "execution_count": 1238,
   "metadata": {},
   "outputs": [],
   "source": [
    "template_table_data = template_table_data.merge(car_title_early_remind, on = ['extract_date','shopname'], how = 'left')"
   ]
  },
  {
   "cell_type": "code",
   "execution_count": 1239,
   "metadata": {},
   "outputs": [],
   "source": [
    "template_table_data = template_table_data.merge(cashcount_check, left_on = ['extract_date','shopname'], right_on = ['extract_date','shop'], how = 'left')"
   ]
  },
  {
   "cell_type": "code",
   "execution_count": 1240,
   "metadata": {},
   "outputs": [],
   "source": [
    "template_table_data = template_table_data.merge(balance_ratio_cartitle_pawn, on = ['extract_date','shopcode'], how = 'left')"
   ]
  },
  {
   "cell_type": "code",
   "execution_count": 1241,
   "metadata": {},
   "outputs": [],
   "source": [
    "template_table_data = template_table_data.merge(balance_ratio_motortitle_pawn, on = ['extract_date','shopcode'], how = 'left')"
   ]
  },
  {
   "cell_type": "code",
   "execution_count": 1242,
   "metadata": {},
   "outputs": [],
   "source": [
    "# template_table_data = template_table_data.merge(balance_ratio_normal_asset, on = ['extract_date','shopcode'], how = 'left')"
   ]
  },
  {
   "cell_type": "code",
   "execution_count": 1243,
   "metadata": {},
   "outputs": [],
   "source": [
    "template_table_data = template_table_data.merge(pol_cartitle, left_on=['extract_date','shopcode'], right_on=['extract_date','shop_code'], how = 'left')"
   ]
  },
  {
   "cell_type": "code",
   "execution_count": 1244,
   "metadata": {},
   "outputs": [],
   "source": [
    "template_table_data = template_table_data.merge(pol_motortitle, left_on=['extract_date','shopcode'], right_on=['extract_date','shop_code'], how = 'left')"
   ]
  },
  {
   "cell_type": "code",
   "execution_count": 1245,
   "metadata": {},
   "outputs": [],
   "source": [
    "template_table_data = template_table_data.merge(pol_normalasset, left_on=['extract_date','shopcode'], right_on=['extract_date','shop_code'], how = 'left')"
   ]
  },
  {
   "cell_type": "code",
   "execution_count": 1246,
   "metadata": {},
   "outputs": [],
   "source": [
    "template_table_data = template_table_data.merge(cartitle_traffic_rate, on = ['extract_date','shopname'], how = 'left')"
   ]
  },
  {
   "cell_type": "code",
   "execution_count": 1247,
   "metadata": {},
   "outputs": [],
   "source": [
    "template_table_data = template_table_data.merge(motortitle_traffic_rate, on = ['extract_date','shopname'], how = 'left')"
   ]
  },
  {
   "cell_type": "code",
   "execution_count": 1248,
   "metadata": {},
   "outputs": [],
   "source": [
    "template_table_data = template_table_data.merge(norm_asset_traffic_rate, on = ['extract_date','shopname'], how = 'left')"
   ]
  },
  {
   "cell_type": "code",
   "execution_count": 1249,
   "metadata": {},
   "outputs": [],
   "source": [
    "template_table_data = template_table_data.fillna(0)"
   ]
  },
  {
   "cell_type": "code",
   "execution_count": 1250,
   "metadata": {},
   "outputs": [],
   "source": [
    "template_table_data['all_traffic'] = template_table_data['cartt_traffic']+template_table_data['motortt_traffic']+template_table_data['normass_traffic']"
   ]
  },
  {
   "cell_type": "code",
   "execution_count": 1251,
   "metadata": {},
   "outputs": [],
   "source": [
    "template_table_data['all_traffic_contract_open'] = template_table_data['cartt_contract_open']+template_table_data['motortt_contract_open']+template_table_data['normass_contract_open']"
   ]
  },
  {
   "cell_type": "code",
   "execution_count": 1252,
   "metadata": {},
   "outputs": [],
   "source": [
    "template_table_data['all_traffic_convert_rate'] = template_table_data['all_traffic_contract_open']/template_table_data['all_traffic']"
   ]
  },
  {
   "cell_type": "code",
   "execution_count": 1253,
   "metadata": {},
   "outputs": [],
   "source": [
    "template_table_data['total_to_shop'] = template_table_data['motortt_all']+template_table_data['cartt_all']+template_table_data['normass_all']"
   ]
  },
  {
   "cell_type": "code",
   "execution_count": 1254,
   "metadata": {},
   "outputs": [],
   "source": [
    "template_table_data['total_success'] = template_table_data['cartt_success_convert']+template_table_data['motortt_success_convert']+template_table_data['normass_success_convert']\n",
    "\n",
    "template_table_data['total_cancelled'] = template_table_data['cartt_cancelled']+template_table_data['motortt_cancelled']+template_table_data['normass_cancelled']"
   ]
  },
  {
   "cell_type": "code",
   "execution_count": 1255,
   "metadata": {},
   "outputs": [],
   "source": [
    "template_table_data['rate_total_success'] = template_table_data['total_success']/template_table_data['total_to_shop']\n",
    "template_table_data['rate_total_cancelled'] = template_table_data['total_cancelled']/template_table_data['total_to_shop']"
   ]
  },
  {
   "cell_type": "code",
   "execution_count": 1256,
   "metadata": {},
   "outputs": [],
   "source": [
    "template_table_data['cartt_0.dpd<11'] = template_table_data['cartt_0.dpd<11'].fillna(0) "
   ]
  },
  {
   "cell_type": "code",
   "execution_count": 1257,
   "metadata": {},
   "outputs": [],
   "source": [
    "template_table_data['motortt_0.dpd<11'] = template_table_data['motortt_0.dpd<11'].fillna(0)"
   ]
  },
  {
   "cell_type": "code",
   "execution_count": 1258,
   "metadata": {},
   "outputs": [],
   "source": [
    "# template_table_data.head(5).to_excel('variable_list.xlsx')"
   ]
  },
  {
   "cell_type": "code",
   "execution_count": 1259,
   "metadata": {},
   "outputs": [],
   "source": [
    "template_table_data['normass_0.dpd<11'] = template_table_data['normass_0.dpd<11'].fillna(0)"
   ]
  },
  {
   "cell_type": "code",
   "execution_count": 1260,
   "metadata": {},
   "outputs": [],
   "source": [
    "template_table_data['all_dpd<11_bal'] = template_table_data['cartt_0.dpd<11']+template_table_data['motortt_0.dpd<11']+template_table_data['normass_0.dpd<11']"
   ]
  },
  {
   "cell_type": "code",
   "execution_count": 1261,
   "metadata": {},
   "outputs": [],
   "source": [
    "template_table_data['average_motor_title_balance_dpdlessthan11'] = template_table_data['motortt_0.dpd<11']/(template_table_data['motortt_num_pawn_0. dpd<=0']+template_table_data['motortt_num_pawn_1. 0<dpd<10'])"
   ]
  },
  {
   "cell_type": "code",
   "execution_count": 1262,
   "metadata": {},
   "outputs": [],
   "source": [
    "template_table_data['average_car_title_balance_dpdlessthan11'] = template_table_data['cartt_0.dpd<11']/(template_table_data['cartt_num_pawn_0. dpd<=0']+template_table_data['cartt_num_pawn_1. 0<dpd<10'])"
   ]
  },
  {
   "cell_type": "code",
   "execution_count": 1263,
   "metadata": {},
   "outputs": [],
   "source": [
    "template_table_data = template_table_data.merge(direct_audit_schedule, on = ['extract_date', 'shopname'], how = 'left')"
   ]
  },
  {
   "cell_type": "code",
   "execution_count": 1264,
   "metadata": {},
   "outputs": [],
   "source": [
    "template_table_data = template_table_data.merge(indirect_audit_schedule, on = ['extract_date', 'shopname'], how = 'left')"
   ]
  },
  {
   "cell_type": "code",
   "execution_count": 1265,
   "metadata": {},
   "outputs": [],
   "source": [
    "template_table_data = template_table_data.merge(motor_title_one_forth_open_time, on =['shopcode', 'extract_date'], how = 'left')"
   ]
  },
  {
   "cell_type": "code",
   "execution_count": 1266,
   "metadata": {},
   "outputs": [],
   "source": [
    "template_table_data = template_table_data.merge(car_title_one_forth_open_time, on =['shopcode', 'extract_date'], how = 'left')"
   ]
  },
  {
   "cell_type": "code",
   "execution_count": 1267,
   "metadata": {},
   "outputs": [],
   "source": [
    "template_table_data = template_table_data.merge(normal_asset_one_forth_open_time, on =['shopcode', 'extract_date'], how = 'left')"
   ]
  },
  {
   "cell_type": "code",
   "execution_count": 1268,
   "metadata": {},
   "outputs": [],
   "source": [
    "template_table_data = template_table_data.merge(disbur_pawn_day, on = ['extract_date', 'shopcode'], how = 'left')"
   ]
  },
  {
   "cell_type": "code",
   "execution_count": 1269,
   "metadata": {},
   "outputs": [],
   "source": [
    "template_table_data['nums_day'] = [i.day for i in template_table_data['extract_date']]"
   ]
  },
  {
   "cell_type": "code",
   "execution_count": 1270,
   "metadata": {},
   "outputs": [],
   "source": [
    "template_table_data['car_title_nums_day_disbur_rate'] = template_table_data['nums_disbur_days_DKOT']/template_table_data['nums_day']"
   ]
  },
  {
   "cell_type": "code",
   "execution_count": 1271,
   "metadata": {},
   "outputs": [],
   "source": [
    "template_table_data['motor_title_nums_day_disbur_rate'] = template_table_data['nums_disbur_days_DKXM']/template_table_data['nums_day']"
   ]
  },
  {
   "cell_type": "code",
   "execution_count": 1272,
   "metadata": {},
   "outputs": [],
   "source": [
    "template_table_data['normal_asset_nums_day_disbur_rate'] = template_table_data['nums_disbur_days_SPTT']/template_table_data['nums_day']"
   ]
  },
  {
   "cell_type": "code",
   "execution_count": 1273,
   "metadata": {},
   "outputs": [],
   "source": [
    "template_table_data = template_table_data[['thang','extract_date','shopcode','shopname','Tỉnh/TP',\n",
    "'Vĩ độ','Kinh độ','province_id','province_risk_level','distance_to_ho','high','low','medium','significant',\n",
    "'rolled_rate_motor_title','rolled_rate_car_title',\n",
    " 'growth_rate_car_title','growth_rate_motor_title','growth_rate_normal_asset',\n",
    "'nums_grownet_cartitle','nums_grownet_motortitle','nums_grownet_normalasset',\n",
    "                                           \n",
    "'0.cartitle_dpd<=0_rate','1.cartitle_0<dpd<10_rate','2.cartitle_10<=dpd<90_rate','3.cartitle_dpd>=90_rate',\n",
    "'cartt_0.dpd<11','average_car_title_balance_dpdlessthan11',\n",
    "                                           \n",
    "'0.motortitle_dpd<=0_rate','1.motortitle_0<dpd<10_rate','2.motortitle_10<=dpd<90_rate','3.motortitle_dpd>=90_rate',\n",
    "                                           'motortt_0.dpd<11','average_motor_title_balance_dpdlessthan11',\n",
    "\n",
    "'0.normass_dpd<=0_rate','1.normass_0<dpd<10_rate','2.normass_10<=dpd<90_rate','3.normass_dpd>=90_rate','normass_0.dpd<11', 'all_dpd<11_bal',\n",
    "                                           \n",
    "'cartt_num_pawn_0. dpd<=0','cartt_num_pawn_1. 0<dpd<10','cartt_num_pawn_2. 10<=dpd<90', 'cartt_num_pawn_3. dpd>=90','cartt_total_pawn',\n",
    "                                           \n",
    "'motortt_num_pawn_0. dpd<=0','motortt_num_pawn_1. 0<dpd<10','motortt_num_pawn_2. 10<=dpd<90','motortt_num_pawn_3. dpd>=90','motortt_total_pawn',\n",
    "                                           \n",
    " 'motortitle_ontime_rate','cartitle_ontime_rate','motor_title_early_rate_remind','car_title_early_rate_remind',\n",
    "'diff_clear_reason','diff_no_clear_reason','diff_no_reason','diff_not_found_reason','no_diff','all_cashcount',  \n",
    "                                           'cashcount_diff_rate','average_cash','median_cash',\n",
    "\n",
    "'cartt_cancelled','cartt_success_convert','cartt_taking_care','cartt_all',\n",
    "                                         \n",
    "                                           'cartt_success_rate','cartt_cancelled_rate',\n",
    "'motortt_cancelled','motortt_success_convert','motortt_taking_care','motortt_all',\n",
    "'motortt_success_rate','motortt_cancelled_rate',\n",
    "                                           \n",
    "'normass_cancelled','normass_success_convert','normass_taking_care',\n",
    "'normass_all','normass_success_rate','normass_cancelled_rate',\n",
    "\n",
    "'total_success','total_cancelled','total_to_shop',\n",
    "'rate_total_success','rate_total_cancelled',\n",
    "\n",
    "'cartt_traffic',\n",
    "'cartt_contract_open',\n",
    "'cartt_convert_rate',\n",
    "'motortt_traffic',\n",
    "'motortt_contract_open',\n",
    "'motortt_convert_rate',\n",
    "'normass_traffic',\n",
    "'normass_contract_open',\n",
    "'normass_convert_rate',\n",
    " 'all_traffic',\n",
    "'all_traffic_contract_open',\n",
    "'all_traffic_convert_rate',\n",
    "'nums_diff_day_from_last_direct_audit',\n",
    "'nums_diff_day_from_last_indirect_audit',\n",
    "'motor_title_25%',\n",
    "'car_title_25%',\n",
    "'normal_asset_25%',\n",
    "'avg_disbur_pawn_car_title',\n",
    "'avg_disbur_pawn_motor_title',\n",
    "'avg_disbur_pawn_normal_asset',\n",
    "'car_title_nums_day_disbur_rate',\n",
    "'motor_title_nums_day_disbur_rate',\n",
    "'normal_asset_nums_day_disbur_rate']]"
   ]
  },
  {
   "cell_type": "code",
   "execution_count": 1274,
   "metadata": {},
   "outputs": [],
   "source": [
    "template_table_data.columns = ['thang','extract_date','shopcode', 'shopname',  'province', 'latitude', 'longtitude', 'province_id',\n",
    "                               'province_risk_level',\n",
    "                              'distance_shop_to_ho_km', 'faults_high_risk', 'faults_low_risk', 'faults_medium_risk', 'faults_significant_risk',\n",
    "'rolledb0_rate_motor_title', 'rolledb0_rate_car_title',\n",
    "                               \n",
    "'growth_rate_car_title', 'growth_rate_motor_title',\n",
    "       'growth_rate_normal_asset', 'nums_grownet_car_title',\n",
    "       'nums_grownet_motor_title', 'nums_grownet_normal_asset',\n",
    "                                           \n",
    "   'balance_car_title_dpd0_rate', 'balance_car_title_dpd0110_rate',\n",
    "       'balance_car_title_dpd1190_rate', 'balance_car_title_dpd91_rate',\n",
    "       'balance_car_title_dpd_lessthan11','average_car_title_balance_dpdlessthan11',\n",
    "                                           \n",
    " 'balance_motor_title_dpd0_rate','balance_motor_title_dpd0110_rate', 'balance_motor_title_dpd1190_rate',\n",
    "       'balance_motor_title_dpd91_rate', 'balance_motor_title_dpd_lessthan11','average_motor_title_balance_dpdlessthan11',\n",
    "\n",
    "  'balance_norm_ass_dpd0_rate', 'balance_norm_ass_dpd0110_rate',\n",
    "       'balance_norm_ass_dpd1190_rate', 'balance_norm_ass_dpd91_rate',\n",
    "       'balance_norm_ass_dpd_lessthan11', 'balance_all_dpd_lessthan11', \n",
    "                                           \n",
    "'num_pawn_car_title_dpd0',  'num_pawn_car_title_dpd0110', 'num_pawn_car_title_dpd1190', 'num_pawn_car_title_dpd91', 'total_pawn_car_title',\n",
    "                                           \n",
    "'num_pawn_motor_title_dpd0', 'num_pawn_motor_title_dpd0110', 'num_pawn_motor_title_dpd1190', 'num_pawn_motor_title_dpd91', 'total_pawn_motor_title', \n",
    "                                           \n",
    " 'motor_title_ontime_rate', 'car_title_ontime_rate', 'motor_title_early_rate_remind','car_title_early_rate_remind',\n",
    "                               \n",
    "'cash_count_diff_clear_reason', 'cash_count_diff_no_clear_reason', 'cash_count_diff_no_reason', 'cash_count_diff_not_found_reason',\n",
    "                               'cash_count_no_diff', 'all_cash_count_times', 'cash_count_diff_rate', 'average_cash','median_cash',\n",
    "\n",
    "'pol_cartt_cancelled','pol_cartt_success_convert','pol_cartt_taking_care','pol_cartt_all',\n",
    "                                           \n",
    "                                           'pol_cartt_success_rate','pol_cartt_cancelled_rate',\n",
    "'pol_motortt_cancelled','pol_motortt_success_convert','pol_motortt_taking_care','pol_motortt_all',\n",
    "'pol_motortt_success_rate','pol_motortt_cancelled_rate',\n",
    "                                           \n",
    "'pol_normass_cancelled','pol_normass_success_convert','pol_normass_taking_care',\n",
    "'pol_normass_all','pol_normass_success_rate','pol_normass_cancelled_rate',\n",
    "\n",
    "'pol_total_success','pol_total_cancelled','pol_total_to_shop',\n",
    "'pol_rate_total_success','pol_rate_total_cancelled',\n",
    "\n",
    " 'traffic_car_title', 'traffic_car_title_contract_open',\n",
    "\n",
    "'traffic_car_title_convert_rate', 'traffic_motor_title', 'traffic_motor_title_contract_open',\n",
    "'traffic_motor_title_convert_rate', 'traffic_normal_asset', 'traffic_normal_asset_contract_open',\n",
    "'traffic_normal_asset_convert_rate',\n",
    "                              'all_traffic',\n",
    "'all_traffic_contract_open',\n",
    "'all_traffic_convert_rate',\n",
    "'nums_diff_day_from_last_direct_audit',\n",
    "'nums_diff_day_from_last_indirect_audit',\n",
    "'opening_period_motor_title_25%',\n",
    "'opening_period_car_title_25%',\n",
    "'opening_period_normal_asset_25%',\n",
    "'avg_number_disbur_pawn_car_title',\n",
    "'avg_number_disbur_pawn_motor_title',\n",
    "'avg_number_disbur_pawn_normal_asset',\n",
    "'car_title_nums_day_disbur_rate',\n",
    "'motor_title_nums_day_disbur_rate',\n",
    "'normal_asset_nums_day_disbur_rate']"
   ]
  },
  {
   "cell_type": "code",
   "execution_count": 1275,
   "metadata": {},
   "outputs": [],
   "source": [
    "template_table_data = template_table_data.merge(kpi, on =['extract_date','shopcode'], how = 'left' )"
   ]
  },
  {
   "cell_type": "code",
   "execution_count": 1276,
   "metadata": {},
   "outputs": [],
   "source": [
    "template_table_data = template_table_data.merge(fav, on = ['extract_date','shopname'], how = 'left')"
   ]
  },
  {
   "cell_type": "code",
   "execution_count": 1277,
   "metadata": {},
   "outputs": [
    {
     "data": {
      "text/plain": [
       "240"
      ]
     },
     "execution_count": 1277,
     "metadata": {},
     "output_type": "execute_result"
    }
   ],
   "source": [
    "template_table_data['shopcode'].count()"
   ]
  },
  {
   "cell_type": "code",
   "execution_count": 1278,
   "metadata": {},
   "outputs": [],
   "source": [
    "template_table_data = template_table_data.merge(yiel_index_motor_title,on =['thang','shopcode'], how = 'left' )"
   ]
  },
  {
   "cell_type": "code",
   "execution_count": 1279,
   "metadata": {},
   "outputs": [],
   "source": [
    "template_table_data = template_table_data.merge(yiel_index_car_title, on =['thang','shopcode'], how = 'left' )"
   ]
  },
  {
   "cell_type": "code",
   "execution_count": 1280,
   "metadata": {},
   "outputs": [],
   "source": [
    "template_table_data = template_table_data.merge(liquid_rate, on =['thang','shopcode'], how = 'left' )"
   ]
  },
  {
   "cell_type": "code",
   "execution_count": 1281,
   "metadata": {},
   "outputs": [],
   "source": [
    "template_table_data = template_table_data.merge(closed_pawn_car_title, on = ['extract_date', 'shopcode'], how = 'left')"
   ]
  },
  {
   "cell_type": "code",
   "execution_count": 1282,
   "metadata": {},
   "outputs": [],
   "source": [
    "template_table_data = template_table_data.merge(closed_pawn_motor_title, on = ['extract_date', 'shopcode'], how = 'left')"
   ]
  },
  {
   "cell_type": "code",
   "execution_count": 1283,
   "metadata": {},
   "outputs": [],
   "source": [
    "template_table_data = template_table_data.merge(closed_pawn_normal_asset, on = ['extract_date', 'shopcode'], how = 'left')"
   ]
  },
  {
   "cell_type": "code",
   "execution_count": 1284,
   "metadata": {},
   "outputs": [],
   "source": [
    "template_table_data = template_table_data.merge(shop_qlkv_region, left_on = 'shopcode', right_on = 'Mã PGD', how = 'left')"
   ]
  },
  {
   "cell_type": "code",
   "execution_count": 1285,
   "metadata": {},
   "outputs": [
    {
     "data": {
      "text/plain": [
       "Index(['thang', 'extract_date', 'shopcode', 'shopname', 'province', 'latitude',\n",
       "       'longtitude', 'province_id', 'province_risk_level',\n",
       "       'distance_shop_to_ho_km',\n",
       "       ...\n",
       "       'QLKV', 'Trade Marketing', 'Trade Leader', 'Miền', 'Tỉnh/ Thành phố',\n",
       "       'Sự cố 14.6', 'Sự cố 18.5', 'Tháng KT', 'Telesales', 'Trạng thái'],\n",
       "      dtype='object', length=141)"
      ]
     },
     "execution_count": 1285,
     "metadata": {},
     "output_type": "execute_result"
    }
   ],
   "source": [
    "template_table_data.columns"
   ]
  },
  {
   "cell_type": "code",
   "execution_count": 1286,
   "metadata": {},
   "outputs": [],
   "source": [
    "template_table_data['region_id'] = np.where(template_table_data['Miền'] == 'Miền Bắc', 1, np.where(template_table_data['Miền'] == 'Miền Trung', 2, 3))"
   ]
  },
  {
   "cell_type": "code",
   "execution_count": 1287,
   "metadata": {},
   "outputs": [],
   "source": [
    "template_table_data['yearmonth'] = [i.strftime('%Y%m') for i in template_table_data['extract_date']]"
   ]
  },
  {
   "cell_type": "code",
   "execution_count": 1288,
   "metadata": {},
   "outputs": [],
   "source": [
    "template_table_data = template_table_data.merge(asm_risk_lv, left_on = ['yearmonth', 'QLKV'], right_on = ['yearmonth', 'asm_name'], how = 'left')"
   ]
  },
  {
   "cell_type": "code",
   "execution_count": 1289,
   "metadata": {},
   "outputs": [],
   "source": [
    "template_table_data = template_table_data.merge(shop_age_month, on =['thang','shopcode'], how = 'left' )"
   ]
  },
  {
   "cell_type": "code",
   "execution_count": 1290,
   "metadata": {},
   "outputs": [],
   "source": [
    "# template_table_data10 = template_table_data[template_table_data['balance_all_dpd_lessthan11'] != 0]"
   ]
  },
  {
   "cell_type": "code",
   "execution_count": 1291,
   "metadata": {},
   "outputs": [],
   "source": [
    "# template_table_data = template_table_data[template_table_data['staff_tenure']>=0]"
   ]
  },
  {
   "cell_type": "code",
   "execution_count": 1292,
   "metadata": {},
   "outputs": [
    {
     "data": {
      "text/plain": [
       "240"
      ]
     },
     "execution_count": 1292,
     "metadata": {},
     "output_type": "execute_result"
    }
   ],
   "source": [
    "template_table_data['shopcode'].count()"
   ]
  },
  {
   "cell_type": "code",
   "execution_count": null,
   "metadata": {},
   "outputs": [],
   "source": []
  },
  {
   "cell_type": "code",
   "execution_count": null,
   "metadata": {},
   "outputs": [],
   "source": []
  },
  {
   "cell_type": "markdown",
   "metadata": {},
   "source": [
    "SHOP AGE GROUP"
   ]
  },
  {
   "cell_type": "code",
   "execution_count": 1293,
   "metadata": {},
   "outputs": [],
   "source": [
    "template_table = template_table_data"
   ]
  },
  {
   "cell_type": "code",
   "execution_count": 1294,
   "metadata": {},
   "outputs": [],
   "source": [
    "compliance_table = template_table[['extract_date',\n",
    "'shopcode',\n",
    "'shopname',\n",
    "'asm_tenure',\n",
    "'manager_tenure',\n",
    "'staff_tenure',\n",
    "'shop_age_m',\n",
    "'province',\n",
    "'province_id',\n",
    "'province_risk_level',\n",
    "'distance_shop_to_ho_km',\n",
    "'faults_high_risk',\n",
    "'faults_low_risk',\n",
    "'faults_medium_risk',\n",
    "'faults_significant_risk',\n",
    "'rolledb0_rate_motor_title',\n",
    "'growth_rate_car_title',\n",
    "'growth_rate_motor_title',\n",
    "'growth_rate_normal_asset',\n",
    "'nums_grownet_car_title',\n",
    "'nums_grownet_motor_title',\n",
    "'nums_grownet_normal_asset',\n",
    "'balance_car_title_dpd_lessthan11',\n",
    "'average_car_title_balance_dpdlessthan11',\n",
    "'balance_motor_title_dpd0_rate',\n",
    "'balance_motor_title_dpd0110_rate',\n",
    "'balance_motor_title_dpd_lessthan11',\n",
    "'average_motor_title_balance_dpdlessthan11',\n",
    "'balance_norm_ass_dpd0_rate',\n",
    "'balance_norm_ass_dpd0110_rate',\n",
    "'balance_norm_ass_dpd_lessthan11',\n",
    "'balance_all_dpd_lessthan11',\n",
    "'total_pawn_car_title',                          \n",
    "'num_pawn_motor_title_dpd0110',\n",
    "'num_pawn_motor_title_dpd1190',\n",
    "'total_pawn_motor_title',\n",
    "'motor_title_ontime_rate',\n",
    "'car_title_ontime_rate',\n",
    "'motor_title_early_rate_remind',\n",
    "'car_title_early_rate_remind',\n",
    "'fav_rate',\n",
    "'cash_count_diff_clear_reason',\n",
    "'cash_count_diff_no_clear_reason',\n",
    "'cash_count_diff_no_reason',\n",
    "'cash_count_diff_not_found_reason',\n",
    "'cash_count_no_diff',\n",
    "'all_cash_count_times',\n",
    "'cash_count_diff_rate',\n",
    "'average_cash',\n",
    "'median_cash',\n",
    "'pol_cartt_all',\n",
    "'pol_cartt_success_rate',\n",
    "'pol_cartt_cancelled_rate',\n",
    "'pol_motortt_all',\n",
    "'pol_motortt_success_rate',\n",
    "'pol_motortt_cancelled_rate',\n",
    "'pol_normass_all',\n",
    "'pol_normass_success_rate',\n",
    "'pol_normass_cancelled_rate',\n",
    "'pol_total_to_shop',\n",
    "'pol_rate_total_success',\n",
    "'pol_rate_total_cancelled',\n",
    "'traffic_car_title',\n",
    "'traffic_car_title_convert_rate',\n",
    "'traffic_motor_title',\n",
    "'traffic_motor_title_convert_rate',\n",
    "'all_traffic',\n",
    "'all_traffic_contract_open',\n",
    "'all_traffic_convert_rate',\n",
    "'kpi_complete_rate',\n",
    "'nums_diff_day_from_last_direct_audit',\n",
    "'nums_diff_day_from_last_indirect_audit',\n",
    "'opening_period_motor_title_25%',\n",
    "'opening_period_car_title_25%',\n",
    "'opening_period_normal_asset_25%',\n",
    "'avg_number_disbur_pawn_car_title',\n",
    "'avg_number_disbur_pawn_motor_title',\n",
    "'avg_number_disbur_pawn_normal_asset',\n",
    "'car_title_nums_day_disbur_rate',\n",
    "'motor_title_nums_day_disbur_rate',\n",
    "'normal_asset_nums_day_disbur_rate',\n",
    "'car_title_closed_rate',\n",
    "'car_title_early_closed_rate',\n",
    "'car_title_closed_to_open_new_rate',\n",
    "'motor_title_closed_rate',\n",
    "'motor_title_early_closed_rate',\n",
    "'motor_title_closed_to_open_new_rate',\n",
    "'normal_asset_closed_rate',\n",
    "'normal_asset_early_closed_rate',\n",
    "'normal_asset_closed_to_open_new_rate',\n",
    "'region_id','asm_name',\n",
    "'risk_level']]"
   ]
  },
  {
   "cell_type": "code",
   "execution_count": 1295,
   "metadata": {},
   "outputs": [],
   "source": [
    "compliance_table = compliance_table.rename(columns={'province':'province_name'})"
   ]
  },
  {
   "cell_type": "code",
   "execution_count": 1296,
   "metadata": {},
   "outputs": [],
   "source": [
    "compliance_table['shop_age_group'] = np.where(compliance_table['shop_age_m']<4, 'running_less_than_3m', np.where((compliance_table['shop_age_m']>3) & (compliance_table['shop_age_m']<7), 'running_4-6m',np.where((compliance_table['shop_age_m']>6) & (compliance_table['shop_age_m']<13),'running_7-12m', np.where((compliance_table['shop_age_m']>12) & (compliance_table['shop_age_m']<25),'running_13-24m', 'running_more_than_24m'))))"
   ]
  },
  {
   "cell_type": "code",
   "execution_count": 1297,
   "metadata": {},
   "outputs": [],
   "source": [
    "compliance_table = compliance_table.rename(columns={'risk_level':'asm_risk_level'})"
   ]
  },
  {
   "cell_type": "code",
   "execution_count": 1298,
   "metadata": {},
   "outputs": [
    {
     "data": {
      "text/html": [
       "<div>\n",
       "<style scoped>\n",
       "    .dataframe tbody tr th:only-of-type {\n",
       "        vertical-align: middle;\n",
       "    }\n",
       "\n",
       "    .dataframe tbody tr th {\n",
       "        vertical-align: top;\n",
       "    }\n",
       "\n",
       "    .dataframe thead th {\n",
       "        text-align: right;\n",
       "    }\n",
       "</style>\n",
       "<table border=\"1\" class=\"dataframe\">\n",
       "  <thead>\n",
       "    <tr style=\"text-align: right;\">\n",
       "      <th></th>\n",
       "      <th>extract_date</th>\n",
       "      <th>shopcode</th>\n",
       "      <th>shopname</th>\n",
       "      <th>asm_tenure</th>\n",
       "      <th>manager_tenure</th>\n",
       "      <th>staff_tenure</th>\n",
       "      <th>shop_age_m</th>\n",
       "      <th>province_name</th>\n",
       "      <th>province_id</th>\n",
       "      <th>province_risk_level</th>\n",
       "      <th>distance_shop_to_ho_km</th>\n",
       "      <th>faults_high_risk</th>\n",
       "      <th>faults_low_risk</th>\n",
       "      <th>faults_medium_risk</th>\n",
       "      <th>faults_significant_risk</th>\n",
       "      <th>rolledb0_rate_motor_title</th>\n",
       "      <th>growth_rate_car_title</th>\n",
       "      <th>growth_rate_motor_title</th>\n",
       "      <th>growth_rate_normal_asset</th>\n",
       "      <th>nums_grownet_car_title</th>\n",
       "      <th>nums_grownet_motor_title</th>\n",
       "      <th>nums_grownet_normal_asset</th>\n",
       "      <th>balance_car_title_dpd_lessthan11</th>\n",
       "      <th>average_car_title_balance_dpdlessthan11</th>\n",
       "      <th>balance_motor_title_dpd0_rate</th>\n",
       "      <th>balance_motor_title_dpd0110_rate</th>\n",
       "      <th>balance_motor_title_dpd_lessthan11</th>\n",
       "      <th>average_motor_title_balance_dpdlessthan11</th>\n",
       "      <th>balance_norm_ass_dpd0_rate</th>\n",
       "      <th>balance_norm_ass_dpd0110_rate</th>\n",
       "      <th>balance_norm_ass_dpd_lessthan11</th>\n",
       "      <th>balance_all_dpd_lessthan11</th>\n",
       "      <th>total_pawn_car_title</th>\n",
       "      <th>num_pawn_motor_title_dpd0110</th>\n",
       "      <th>num_pawn_motor_title_dpd1190</th>\n",
       "      <th>total_pawn_motor_title</th>\n",
       "      <th>motor_title_ontime_rate</th>\n",
       "      <th>car_title_ontime_rate</th>\n",
       "      <th>motor_title_early_rate_remind</th>\n",
       "      <th>car_title_early_rate_remind</th>\n",
       "      <th>fav_rate</th>\n",
       "      <th>cash_count_diff_clear_reason</th>\n",
       "      <th>cash_count_diff_no_clear_reason</th>\n",
       "      <th>cash_count_diff_no_reason</th>\n",
       "      <th>cash_count_diff_not_found_reason</th>\n",
       "      <th>cash_count_no_diff</th>\n",
       "      <th>all_cash_count_times</th>\n",
       "      <th>cash_count_diff_rate</th>\n",
       "      <th>average_cash</th>\n",
       "      <th>median_cash</th>\n",
       "      <th>pol_cartt_all</th>\n",
       "      <th>pol_cartt_success_rate</th>\n",
       "      <th>pol_cartt_cancelled_rate</th>\n",
       "      <th>pol_motortt_all</th>\n",
       "      <th>pol_motortt_success_rate</th>\n",
       "      <th>pol_motortt_cancelled_rate</th>\n",
       "      <th>pol_normass_all</th>\n",
       "      <th>pol_normass_success_rate</th>\n",
       "      <th>pol_normass_cancelled_rate</th>\n",
       "      <th>pol_total_to_shop</th>\n",
       "      <th>pol_rate_total_success</th>\n",
       "      <th>pol_rate_total_cancelled</th>\n",
       "      <th>traffic_car_title</th>\n",
       "      <th>traffic_car_title_convert_rate</th>\n",
       "      <th>traffic_motor_title</th>\n",
       "      <th>traffic_motor_title_convert_rate</th>\n",
       "      <th>all_traffic</th>\n",
       "      <th>all_traffic_contract_open</th>\n",
       "      <th>all_traffic_convert_rate</th>\n",
       "      <th>kpi_complete_rate</th>\n",
       "      <th>nums_diff_day_from_last_direct_audit</th>\n",
       "      <th>nums_diff_day_from_last_indirect_audit</th>\n",
       "      <th>opening_period_motor_title_25%</th>\n",
       "      <th>opening_period_car_title_25%</th>\n",
       "      <th>opening_period_normal_asset_25%</th>\n",
       "      <th>avg_number_disbur_pawn_car_title</th>\n",
       "      <th>avg_number_disbur_pawn_motor_title</th>\n",
       "      <th>avg_number_disbur_pawn_normal_asset</th>\n",
       "      <th>car_title_nums_day_disbur_rate</th>\n",
       "      <th>motor_title_nums_day_disbur_rate</th>\n",
       "      <th>normal_asset_nums_day_disbur_rate</th>\n",
       "      <th>car_title_closed_rate</th>\n",
       "      <th>car_title_early_closed_rate</th>\n",
       "      <th>car_title_closed_to_open_new_rate</th>\n",
       "      <th>motor_title_closed_rate</th>\n",
       "      <th>motor_title_early_closed_rate</th>\n",
       "      <th>motor_title_closed_to_open_new_rate</th>\n",
       "      <th>normal_asset_closed_rate</th>\n",
       "      <th>normal_asset_early_closed_rate</th>\n",
       "      <th>normal_asset_closed_to_open_new_rate</th>\n",
       "      <th>region_id</th>\n",
       "      <th>asm_name</th>\n",
       "      <th>asm_risk_level</th>\n",
       "      <th>shop_age_group</th>\n",
       "    </tr>\n",
       "  </thead>\n",
       "  <tbody>\n",
       "    <tr>\n",
       "      <th>0</th>\n",
       "      <td>2020-11-10</td>\n",
       "      <td>BDG0227</td>\n",
       "      <td>BDG0227.Tân Phước Khánh</td>\n",
       "      <td>NaN</td>\n",
       "      <td>13.0</td>\n",
       "      <td>5.0</td>\n",
       "      <td>3.0</td>\n",
       "      <td>Bình Dương</td>\n",
       "      <td>61</td>\n",
       "      <td>5</td>\n",
       "      <td>27.161646</td>\n",
       "      <td>0.0</td>\n",
       "      <td>0.0</td>\n",
       "      <td>0.0</td>\n",
       "      <td>0.0</td>\n",
       "      <td>0.046820</td>\n",
       "      <td>0.000000</td>\n",
       "      <td>0.203764</td>\n",
       "      <td>0.416667</td>\n",
       "      <td>1</td>\n",
       "      <td>3</td>\n",
       "      <td>1</td>\n",
       "      <td>2.000000e+07</td>\n",
       "      <td>2.000000e+07</td>\n",
       "      <td>0.962948</td>\n",
       "      <td>0.037052</td>\n",
       "      <td>1.187391e+09</td>\n",
       "      <td>9.813148e+06</td>\n",
       "      <td>0.558824</td>\n",
       "      <td>0.441176</td>\n",
       "      <td>6866028.0</td>\n",
       "      <td>1.214257e+09</td>\n",
       "      <td>1.0</td>\n",
       "      <td>4.0</td>\n",
       "      <td>0.0</td>\n",
       "      <td>121.0</td>\n",
       "      <td>0.600000</td>\n",
       "      <td>0.000000</td>\n",
       "      <td>1.000000</td>\n",
       "      <td>0.00</td>\n",
       "      <td>NaN</td>\n",
       "      <td>3.0</td>\n",
       "      <td>0.0</td>\n",
       "      <td>0.0</td>\n",
       "      <td>0.0</td>\n",
       "      <td>7.0</td>\n",
       "      <td>10.0</td>\n",
       "      <td>0.002439</td>\n",
       "      <td>23312000.0</td>\n",
       "      <td>20923250</td>\n",
       "      <td>0.0</td>\n",
       "      <td>0.0</td>\n",
       "      <td>0.0</td>\n",
       "      <td>51</td>\n",
       "      <td>0.137255</td>\n",
       "      <td>0.411765</td>\n",
       "      <td>144</td>\n",
       "      <td>0.027778</td>\n",
       "      <td>0.520833</td>\n",
       "      <td>195.0</td>\n",
       "      <td>0.056410</td>\n",
       "      <td>0.492308</td>\n",
       "      <td>0.0</td>\n",
       "      <td>0.0</td>\n",
       "      <td>27</td>\n",
       "      <td>1.000000</td>\n",
       "      <td>30.0</td>\n",
       "      <td>30.0</td>\n",
       "      <td>1.000000</td>\n",
       "      <td>0.821389</td>\n",
       "      <td>74</td>\n",
       "      <td>74</td>\n",
       "      <td>36.5</td>\n",
       "      <td>NaN</td>\n",
       "      <td>6.00</td>\n",
       "      <td>NaN</td>\n",
       "      <td>3.000000</td>\n",
       "      <td>1.0</td>\n",
       "      <td>0.0</td>\n",
       "      <td>0.9</td>\n",
       "      <td>0.3</td>\n",
       "      <td>NaN</td>\n",
       "      <td>NaN</td>\n",
       "      <td>NaN</td>\n",
       "      <td>0.030534</td>\n",
       "      <td>0.000000</td>\n",
       "      <td>0.5</td>\n",
       "      <td>0.400000</td>\n",
       "      <td>0.400000</td>\n",
       "      <td>0.0</td>\n",
       "      <td>3</td>\n",
       "      <td>Hồ Xuân Dũng</td>\n",
       "      <td>3</td>\n",
       "      <td>running_less_than_3m</td>\n",
       "    </tr>\n",
       "    <tr>\n",
       "      <th>1</th>\n",
       "      <td>2020-11-10</td>\n",
       "      <td>BLU0159</td>\n",
       "      <td>BLU0159.43 Trần Phú</td>\n",
       "      <td>NaN</td>\n",
       "      <td>20.0</td>\n",
       "      <td>22.0</td>\n",
       "      <td>8.0</td>\n",
       "      <td>Bạc Liêu</td>\n",
       "      <td>94</td>\n",
       "      <td>4</td>\n",
       "      <td>193.848178</td>\n",
       "      <td>0.0</td>\n",
       "      <td>1.0</td>\n",
       "      <td>0.0</td>\n",
       "      <td>0.0</td>\n",
       "      <td>0.024170</td>\n",
       "      <td>0.000000</td>\n",
       "      <td>0.057647</td>\n",
       "      <td>-0.231442</td>\n",
       "      <td>3</td>\n",
       "      <td>3</td>\n",
       "      <td>2</td>\n",
       "      <td>8.515149e+08</td>\n",
       "      <td>1.064394e+08</td>\n",
       "      <td>0.862707</td>\n",
       "      <td>0.019685</td>\n",
       "      <td>4.384968e+09</td>\n",
       "      <td>7.369694e+06</td>\n",
       "      <td>1.000000</td>\n",
       "      <td>0.000000</td>\n",
       "      <td>93219524.0</td>\n",
       "      <td>5.329702e+09</td>\n",
       "      <td>8.0</td>\n",
       "      <td>15.0</td>\n",
       "      <td>68.0</td>\n",
       "      <td>665.0</td>\n",
       "      <td>0.787500</td>\n",
       "      <td>0.750000</td>\n",
       "      <td>0.950000</td>\n",
       "      <td>0.75</td>\n",
       "      <td>NaN</td>\n",
       "      <td>5.0</td>\n",
       "      <td>2.0</td>\n",
       "      <td>0.0</td>\n",
       "      <td>0.0</td>\n",
       "      <td>3.0</td>\n",
       "      <td>10.0</td>\n",
       "      <td>0.022475</td>\n",
       "      <td>49372500.0</td>\n",
       "      <td>51365000</td>\n",
       "      <td>0.0</td>\n",
       "      <td>0.0</td>\n",
       "      <td>0.0</td>\n",
       "      <td>48</td>\n",
       "      <td>0.104167</td>\n",
       "      <td>0.458333</td>\n",
       "      <td>224</td>\n",
       "      <td>0.013393</td>\n",
       "      <td>0.531250</td>\n",
       "      <td>272.0</td>\n",
       "      <td>0.029412</td>\n",
       "      <td>0.518382</td>\n",
       "      <td>0.0</td>\n",
       "      <td>0.0</td>\n",
       "      <td>71</td>\n",
       "      <td>0.788732</td>\n",
       "      <td>73.0</td>\n",
       "      <td>58.0</td>\n",
       "      <td>0.794521</td>\n",
       "      <td>0.973365</td>\n",
       "      <td>194</td>\n",
       "      <td>102</td>\n",
       "      <td>26.0</td>\n",
       "      <td>NaN</td>\n",
       "      <td>4.25</td>\n",
       "      <td>NaN</td>\n",
       "      <td>5.600000</td>\n",
       "      <td>1.0</td>\n",
       "      <td>0.0</td>\n",
       "      <td>1.0</td>\n",
       "      <td>0.2</td>\n",
       "      <td>NaN</td>\n",
       "      <td>NaN</td>\n",
       "      <td>NaN</td>\n",
       "      <td>0.017266</td>\n",
       "      <td>0.002878</td>\n",
       "      <td>0.0</td>\n",
       "      <td>0.208333</td>\n",
       "      <td>0.041667</td>\n",
       "      <td>0.0</td>\n",
       "      <td>3</td>\n",
       "      <td>Nguyễn Đình Long Vinh</td>\n",
       "      <td>3</td>\n",
       "      <td>running_7-12m</td>\n",
       "    </tr>\n",
       "    <tr>\n",
       "      <th>2</th>\n",
       "      <td>2020-11-10</td>\n",
       "      <td>BNH0146</td>\n",
       "      <td>BNH0146.147 Nguyễn Văn Cừ</td>\n",
       "      <td>NaN</td>\n",
       "      <td>20.0</td>\n",
       "      <td>14.0</td>\n",
       "      <td>9.0</td>\n",
       "      <td>Bắc Ninh</td>\n",
       "      <td>99</td>\n",
       "      <td>3</td>\n",
       "      <td>32.582802</td>\n",
       "      <td>0.0</td>\n",
       "      <td>0.0</td>\n",
       "      <td>0.0</td>\n",
       "      <td>0.0</td>\n",
       "      <td>0.029420</td>\n",
       "      <td>-0.088653</td>\n",
       "      <td>-0.023064</td>\n",
       "      <td>-0.231783</td>\n",
       "      <td>3</td>\n",
       "      <td>3</td>\n",
       "      <td>2</td>\n",
       "      <td>1.541991e+09</td>\n",
       "      <td>1.284993e+08</td>\n",
       "      <td>0.878391</td>\n",
       "      <td>0.024874</td>\n",
       "      <td>2.050522e+09</td>\n",
       "      <td>9.113431e+06</td>\n",
       "      <td>0.905522</td>\n",
       "      <td>0.094478</td>\n",
       "      <td>180964090.0</td>\n",
       "      <td>3.773477e+09</td>\n",
       "      <td>13.0</td>\n",
       "      <td>5.0</td>\n",
       "      <td>23.0</td>\n",
       "      <td>250.0</td>\n",
       "      <td>0.625000</td>\n",
       "      <td>0.333333</td>\n",
       "      <td>1.000000</td>\n",
       "      <td>1.00</td>\n",
       "      <td>NaN</td>\n",
       "      <td>6.0</td>\n",
       "      <td>0.0</td>\n",
       "      <td>0.0</td>\n",
       "      <td>3.0</td>\n",
       "      <td>1.0</td>\n",
       "      <td>10.0</td>\n",
       "      <td>0.019782</td>\n",
       "      <td>75449000.0</td>\n",
       "      <td>74016000</td>\n",
       "      <td>0.0</td>\n",
       "      <td>0.0</td>\n",
       "      <td>0.0</td>\n",
       "      <td>12</td>\n",
       "      <td>0.250000</td>\n",
       "      <td>0.333333</td>\n",
       "      <td>23</td>\n",
       "      <td>0.000000</td>\n",
       "      <td>0.434783</td>\n",
       "      <td>35.0</td>\n",
       "      <td>0.085714</td>\n",
       "      <td>0.400000</td>\n",
       "      <td>0.0</td>\n",
       "      <td>0.0</td>\n",
       "      <td>11</td>\n",
       "      <td>1.000000</td>\n",
       "      <td>14.0</td>\n",
       "      <td>14.0</td>\n",
       "      <td>1.000000</td>\n",
       "      <td>0.858584</td>\n",
       "      <td>194</td>\n",
       "      <td>102</td>\n",
       "      <td>21.0</td>\n",
       "      <td>NaN</td>\n",
       "      <td>6.50</td>\n",
       "      <td>NaN</td>\n",
       "      <td>1.375000</td>\n",
       "      <td>1.0</td>\n",
       "      <td>0.0</td>\n",
       "      <td>0.8</td>\n",
       "      <td>0.3</td>\n",
       "      <td>NaN</td>\n",
       "      <td>NaN</td>\n",
       "      <td>NaN</td>\n",
       "      <td>0.030651</td>\n",
       "      <td>0.000000</td>\n",
       "      <td>0.0</td>\n",
       "      <td>0.272727</td>\n",
       "      <td>0.030303</td>\n",
       "      <td>0.0</td>\n",
       "      <td>1</td>\n",
       "      <td>Nguyễn Mạnh Linh</td>\n",
       "      <td>3</td>\n",
       "      <td>running_7-12m</td>\n",
       "    </tr>\n",
       "    <tr>\n",
       "      <th>3</th>\n",
       "      <td>2020-11-10</td>\n",
       "      <td>BVU0191</td>\n",
       "      <td>BVU0191.507 Nguyễn An Ninh</td>\n",
       "      <td>NaN</td>\n",
       "      <td>10.0</td>\n",
       "      <td>14.0</td>\n",
       "      <td>5.0</td>\n",
       "      <td>Bà Rịa - Vũng Tàu</td>\n",
       "      <td>72</td>\n",
       "      <td>3</td>\n",
       "      <td>64.812517</td>\n",
       "      <td>0.0</td>\n",
       "      <td>0.0</td>\n",
       "      <td>0.0</td>\n",
       "      <td>0.0</td>\n",
       "      <td>0.002323</td>\n",
       "      <td>0.273857</td>\n",
       "      <td>0.051752</td>\n",
       "      <td>0.000000</td>\n",
       "      <td>3</td>\n",
       "      <td>3</td>\n",
       "      <td>2</td>\n",
       "      <td>6.590584e+08</td>\n",
       "      <td>7.322871e+07</td>\n",
       "      <td>0.941071</td>\n",
       "      <td>0.001998</td>\n",
       "      <td>1.485827e+09</td>\n",
       "      <td>9.711285e+06</td>\n",
       "      <td>1.000000</td>\n",
       "      <td>0.000000</td>\n",
       "      <td>47759283.0</td>\n",
       "      <td>2.192644e+09</td>\n",
       "      <td>9.0</td>\n",
       "      <td>1.0</td>\n",
       "      <td>10.0</td>\n",
       "      <td>163.0</td>\n",
       "      <td>0.933333</td>\n",
       "      <td>1.000000</td>\n",
       "      <td>1.000000</td>\n",
       "      <td>1.00</td>\n",
       "      <td>NaN</td>\n",
       "      <td>4.0</td>\n",
       "      <td>2.0</td>\n",
       "      <td>0.0</td>\n",
       "      <td>0.0</td>\n",
       "      <td>4.0</td>\n",
       "      <td>10.0</td>\n",
       "      <td>0.059301</td>\n",
       "      <td>27895200.0</td>\n",
       "      <td>27374000</td>\n",
       "      <td>1.0</td>\n",
       "      <td>1.0</td>\n",
       "      <td>0.0</td>\n",
       "      <td>16</td>\n",
       "      <td>0.187500</td>\n",
       "      <td>0.187500</td>\n",
       "      <td>58</td>\n",
       "      <td>0.017241</td>\n",
       "      <td>0.603448</td>\n",
       "      <td>75.0</td>\n",
       "      <td>0.066667</td>\n",
       "      <td>0.506667</td>\n",
       "      <td>2.0</td>\n",
       "      <td>0.5</td>\n",
       "      <td>23</td>\n",
       "      <td>0.695652</td>\n",
       "      <td>25.0</td>\n",
       "      <td>17.0</td>\n",
       "      <td>0.680000</td>\n",
       "      <td>0.913602</td>\n",
       "      <td>149</td>\n",
       "      <td>149</td>\n",
       "      <td>16.0</td>\n",
       "      <td>116.0</td>\n",
       "      <td>NaN</td>\n",
       "      <td>1.0</td>\n",
       "      <td>2.285714</td>\n",
       "      <td>NaN</td>\n",
       "      <td>0.1</td>\n",
       "      <td>0.7</td>\n",
       "      <td>0.0</td>\n",
       "      <td>0.0</td>\n",
       "      <td>0.0</td>\n",
       "      <td>NaN</td>\n",
       "      <td>0.033708</td>\n",
       "      <td>0.000000</td>\n",
       "      <td>0.0</td>\n",
       "      <td>NaN</td>\n",
       "      <td>NaN</td>\n",
       "      <td>NaN</td>\n",
       "      <td>3</td>\n",
       "      <td>Lê Thị Lan</td>\n",
       "      <td>4</td>\n",
       "      <td>running_4-6m</td>\n",
       "    </tr>\n",
       "    <tr>\n",
       "      <th>4</th>\n",
       "      <td>2020-11-10</td>\n",
       "      <td>DNI0210</td>\n",
       "      <td>DNI0210.18 Trần Văn Xã</td>\n",
       "      <td>NaN</td>\n",
       "      <td>10.0</td>\n",
       "      <td>10.0</td>\n",
       "      <td>3.0</td>\n",
       "      <td>Đồng Nai</td>\n",
       "      <td>60</td>\n",
       "      <td>5</td>\n",
       "      <td>32.783269</td>\n",
       "      <td>0.0</td>\n",
       "      <td>0.0</td>\n",
       "      <td>0.0</td>\n",
       "      <td>0.0</td>\n",
       "      <td>0.003085</td>\n",
       "      <td>0.000000</td>\n",
       "      <td>0.079504</td>\n",
       "      <td>0.000000</td>\n",
       "      <td>3</td>\n",
       "      <td>3</td>\n",
       "      <td>3</td>\n",
       "      <td>4.633784e+08</td>\n",
       "      <td>9.267567e+07</td>\n",
       "      <td>0.974987</td>\n",
       "      <td>0.002652</td>\n",
       "      <td>8.054689e+08</td>\n",
       "      <td>8.851307e+06</td>\n",
       "      <td>1.000000</td>\n",
       "      <td>0.000000</td>\n",
       "      <td>8178651.0</td>\n",
       "      <td>1.277026e+09</td>\n",
       "      <td>5.0</td>\n",
       "      <td>1.0</td>\n",
       "      <td>2.0</td>\n",
       "      <td>93.0</td>\n",
       "      <td>0.714286</td>\n",
       "      <td>0.000000</td>\n",
       "      <td>0.333333</td>\n",
       "      <td>0.00</td>\n",
       "      <td>NaN</td>\n",
       "      <td>10.0</td>\n",
       "      <td>0.0</td>\n",
       "      <td>0.0</td>\n",
       "      <td>0.0</td>\n",
       "      <td>0.0</td>\n",
       "      <td>10.0</td>\n",
       "      <td>0.028344</td>\n",
       "      <td>18453500.0</td>\n",
       "      <td>18195000</td>\n",
       "      <td>0.0</td>\n",
       "      <td>0.0</td>\n",
       "      <td>0.0</td>\n",
       "      <td>10</td>\n",
       "      <td>0.200000</td>\n",
       "      <td>0.300000</td>\n",
       "      <td>76</td>\n",
       "      <td>0.000000</td>\n",
       "      <td>0.486842</td>\n",
       "      <td>86.0</td>\n",
       "      <td>0.023256</td>\n",
       "      <td>0.465116</td>\n",
       "      <td>1.0</td>\n",
       "      <td>0.0</td>\n",
       "      <td>17</td>\n",
       "      <td>0.647059</td>\n",
       "      <td>19.0</td>\n",
       "      <td>11.0</td>\n",
       "      <td>0.578947</td>\n",
       "      <td>0.773955</td>\n",
       "      <td>97</td>\n",
       "      <td>97</td>\n",
       "      <td>26.0</td>\n",
       "      <td>NaN</td>\n",
       "      <td>NaN</td>\n",
       "      <td>NaN</td>\n",
       "      <td>1.833333</td>\n",
       "      <td>NaN</td>\n",
       "      <td>0.0</td>\n",
       "      <td>0.6</td>\n",
       "      <td>0.0</td>\n",
       "      <td>0.0</td>\n",
       "      <td>0.0</td>\n",
       "      <td>NaN</td>\n",
       "      <td>0.056604</td>\n",
       "      <td>0.009434</td>\n",
       "      <td>0.0</td>\n",
       "      <td>0.000000</td>\n",
       "      <td>0.000000</td>\n",
       "      <td>NaN</td>\n",
       "      <td>3</td>\n",
       "      <td>Nguyễn Hoàng Huy</td>\n",
       "      <td>5</td>\n",
       "      <td>running_less_than_3m</td>\n",
       "    </tr>\n",
       "  </tbody>\n",
       "</table>\n",
       "</div>"
      ],
      "text/plain": [
       "  extract_date shopcode                    shopname  asm_tenure  \\\n",
       "0   2020-11-10  BDG0227     BDG0227.Tân Phước Khánh         NaN   \n",
       "1   2020-11-10  BLU0159         BLU0159.43 Trần Phú         NaN   \n",
       "2   2020-11-10  BNH0146   BNH0146.147 Nguyễn Văn Cừ         NaN   \n",
       "3   2020-11-10  BVU0191  BVU0191.507 Nguyễn An Ninh         NaN   \n",
       "4   2020-11-10  DNI0210      DNI0210.18 Trần Văn Xã         NaN   \n",
       "\n",
       "   manager_tenure  staff_tenure  shop_age_m      province_name province_id  \\\n",
       "0            13.0           5.0         3.0         Bình Dương          61   \n",
       "1            20.0          22.0         8.0           Bạc Liêu          94   \n",
       "2            20.0          14.0         9.0           Bắc Ninh          99   \n",
       "3            10.0          14.0         5.0  Bà Rịa - Vũng Tàu          72   \n",
       "4            10.0          10.0         3.0           Đồng Nai          60   \n",
       "\n",
       "  province_risk_level  distance_shop_to_ho_km  faults_high_risk  \\\n",
       "0                   5               27.161646               0.0   \n",
       "1                   4              193.848178               0.0   \n",
       "2                   3               32.582802               0.0   \n",
       "3                   3               64.812517               0.0   \n",
       "4                   5               32.783269               0.0   \n",
       "\n",
       "   faults_low_risk  faults_medium_risk  faults_significant_risk  \\\n",
       "0              0.0                 0.0                      0.0   \n",
       "1              1.0                 0.0                      0.0   \n",
       "2              0.0                 0.0                      0.0   \n",
       "3              0.0                 0.0                      0.0   \n",
       "4              0.0                 0.0                      0.0   \n",
       "\n",
       "   rolledb0_rate_motor_title  growth_rate_car_title  growth_rate_motor_title  \\\n",
       "0                   0.046820               0.000000                 0.203764   \n",
       "1                   0.024170               0.000000                 0.057647   \n",
       "2                   0.029420              -0.088653                -0.023064   \n",
       "3                   0.002323               0.273857                 0.051752   \n",
       "4                   0.003085               0.000000                 0.079504   \n",
       "\n",
       "   growth_rate_normal_asset  nums_grownet_car_title  nums_grownet_motor_title  \\\n",
       "0                  0.416667                       1                         3   \n",
       "1                 -0.231442                       3                         3   \n",
       "2                 -0.231783                       3                         3   \n",
       "3                  0.000000                       3                         3   \n",
       "4                  0.000000                       3                         3   \n",
       "\n",
       "   nums_grownet_normal_asset  balance_car_title_dpd_lessthan11  \\\n",
       "0                          1                      2.000000e+07   \n",
       "1                          2                      8.515149e+08   \n",
       "2                          2                      1.541991e+09   \n",
       "3                          2                      6.590584e+08   \n",
       "4                          3                      4.633784e+08   \n",
       "\n",
       "   average_car_title_balance_dpdlessthan11  balance_motor_title_dpd0_rate  \\\n",
       "0                             2.000000e+07                       0.962948   \n",
       "1                             1.064394e+08                       0.862707   \n",
       "2                             1.284993e+08                       0.878391   \n",
       "3                             7.322871e+07                       0.941071   \n",
       "4                             9.267567e+07                       0.974987   \n",
       "\n",
       "   balance_motor_title_dpd0110_rate  balance_motor_title_dpd_lessthan11  \\\n",
       "0                          0.037052                        1.187391e+09   \n",
       "1                          0.019685                        4.384968e+09   \n",
       "2                          0.024874                        2.050522e+09   \n",
       "3                          0.001998                        1.485827e+09   \n",
       "4                          0.002652                        8.054689e+08   \n",
       "\n",
       "   average_motor_title_balance_dpdlessthan11  balance_norm_ass_dpd0_rate  \\\n",
       "0                               9.813148e+06                    0.558824   \n",
       "1                               7.369694e+06                    1.000000   \n",
       "2                               9.113431e+06                    0.905522   \n",
       "3                               9.711285e+06                    1.000000   \n",
       "4                               8.851307e+06                    1.000000   \n",
       "\n",
       "   balance_norm_ass_dpd0110_rate  balance_norm_ass_dpd_lessthan11  \\\n",
       "0                       0.441176                        6866028.0   \n",
       "1                       0.000000                       93219524.0   \n",
       "2                       0.094478                      180964090.0   \n",
       "3                       0.000000                       47759283.0   \n",
       "4                       0.000000                        8178651.0   \n",
       "\n",
       "   balance_all_dpd_lessthan11  total_pawn_car_title  \\\n",
       "0                1.214257e+09                   1.0   \n",
       "1                5.329702e+09                   8.0   \n",
       "2                3.773477e+09                  13.0   \n",
       "3                2.192644e+09                   9.0   \n",
       "4                1.277026e+09                   5.0   \n",
       "\n",
       "   num_pawn_motor_title_dpd0110  num_pawn_motor_title_dpd1190  \\\n",
       "0                           4.0                           0.0   \n",
       "1                          15.0                          68.0   \n",
       "2                           5.0                          23.0   \n",
       "3                           1.0                          10.0   \n",
       "4                           1.0                           2.0   \n",
       "\n",
       "   total_pawn_motor_title  motor_title_ontime_rate  car_title_ontime_rate  \\\n",
       "0                   121.0                 0.600000               0.000000   \n",
       "1                   665.0                 0.787500               0.750000   \n",
       "2                   250.0                 0.625000               0.333333   \n",
       "3                   163.0                 0.933333               1.000000   \n",
       "4                    93.0                 0.714286               0.000000   \n",
       "\n",
       "   motor_title_early_rate_remind  car_title_early_rate_remind  fav_rate  \\\n",
       "0                       1.000000                         0.00       NaN   \n",
       "1                       0.950000                         0.75       NaN   \n",
       "2                       1.000000                         1.00       NaN   \n",
       "3                       1.000000                         1.00       NaN   \n",
       "4                       0.333333                         0.00       NaN   \n",
       "\n",
       "   cash_count_diff_clear_reason  cash_count_diff_no_clear_reason  \\\n",
       "0                           3.0                              0.0   \n",
       "1                           5.0                              2.0   \n",
       "2                           6.0                              0.0   \n",
       "3                           4.0                              2.0   \n",
       "4                          10.0                              0.0   \n",
       "\n",
       "   cash_count_diff_no_reason  cash_count_diff_not_found_reason  \\\n",
       "0                        0.0                               0.0   \n",
       "1                        0.0                               0.0   \n",
       "2                        0.0                               3.0   \n",
       "3                        0.0                               0.0   \n",
       "4                        0.0                               0.0   \n",
       "\n",
       "   cash_count_no_diff  all_cash_count_times  cash_count_diff_rate  \\\n",
       "0                 7.0                  10.0              0.002439   \n",
       "1                 3.0                  10.0              0.022475   \n",
       "2                 1.0                  10.0              0.019782   \n",
       "3                 4.0                  10.0              0.059301   \n",
       "4                 0.0                  10.0              0.028344   \n",
       "\n",
       "   average_cash  median_cash  pol_cartt_all  pol_cartt_success_rate  \\\n",
       "0    23312000.0     20923250            0.0                     0.0   \n",
       "1    49372500.0     51365000            0.0                     0.0   \n",
       "2    75449000.0     74016000            0.0                     0.0   \n",
       "3    27895200.0     27374000            1.0                     1.0   \n",
       "4    18453500.0     18195000            0.0                     0.0   \n",
       "\n",
       "   pol_cartt_cancelled_rate  pol_motortt_all  pol_motortt_success_rate  \\\n",
       "0                       0.0               51                  0.137255   \n",
       "1                       0.0               48                  0.104167   \n",
       "2                       0.0               12                  0.250000   \n",
       "3                       0.0               16                  0.187500   \n",
       "4                       0.0               10                  0.200000   \n",
       "\n",
       "   pol_motortt_cancelled_rate  pol_normass_all  pol_normass_success_rate  \\\n",
       "0                    0.411765              144                  0.027778   \n",
       "1                    0.458333              224                  0.013393   \n",
       "2                    0.333333               23                  0.000000   \n",
       "3                    0.187500               58                  0.017241   \n",
       "4                    0.300000               76                  0.000000   \n",
       "\n",
       "   pol_normass_cancelled_rate  pol_total_to_shop  pol_rate_total_success  \\\n",
       "0                    0.520833              195.0                0.056410   \n",
       "1                    0.531250              272.0                0.029412   \n",
       "2                    0.434783               35.0                0.085714   \n",
       "3                    0.603448               75.0                0.066667   \n",
       "4                    0.486842               86.0                0.023256   \n",
       "\n",
       "   pol_rate_total_cancelled  traffic_car_title  \\\n",
       "0                  0.492308                0.0   \n",
       "1                  0.518382                0.0   \n",
       "2                  0.400000                0.0   \n",
       "3                  0.506667                2.0   \n",
       "4                  0.465116                1.0   \n",
       "\n",
       "   traffic_car_title_convert_rate  traffic_motor_title  \\\n",
       "0                             0.0                   27   \n",
       "1                             0.0                   71   \n",
       "2                             0.0                   11   \n",
       "3                             0.5                   23   \n",
       "4                             0.0                   17   \n",
       "\n",
       "   traffic_motor_title_convert_rate  all_traffic  all_traffic_contract_open  \\\n",
       "0                          1.000000         30.0                       30.0   \n",
       "1                          0.788732         73.0                       58.0   \n",
       "2                          1.000000         14.0                       14.0   \n",
       "3                          0.695652         25.0                       17.0   \n",
       "4                          0.647059         19.0                       11.0   \n",
       "\n",
       "   all_traffic_convert_rate  kpi_complete_rate  \\\n",
       "0                  1.000000           0.821389   \n",
       "1                  0.794521           0.973365   \n",
       "2                  1.000000           0.858584   \n",
       "3                  0.680000           0.913602   \n",
       "4                  0.578947           0.773955   \n",
       "\n",
       "   nums_diff_day_from_last_direct_audit  \\\n",
       "0                                    74   \n",
       "1                                   194   \n",
       "2                                   194   \n",
       "3                                   149   \n",
       "4                                    97   \n",
       "\n",
       "   nums_diff_day_from_last_indirect_audit  opening_period_motor_title_25%  \\\n",
       "0                                      74                            36.5   \n",
       "1                                     102                            26.0   \n",
       "2                                     102                            21.0   \n",
       "3                                     149                            16.0   \n",
       "4                                      97                            26.0   \n",
       "\n",
       "   opening_period_car_title_25%  opening_period_normal_asset_25%  \\\n",
       "0                           NaN                             6.00   \n",
       "1                           NaN                             4.25   \n",
       "2                           NaN                             6.50   \n",
       "3                         116.0                              NaN   \n",
       "4                           NaN                              NaN   \n",
       "\n",
       "   avg_number_disbur_pawn_car_title  avg_number_disbur_pawn_motor_title  \\\n",
       "0                               NaN                            3.000000   \n",
       "1                               NaN                            5.600000   \n",
       "2                               NaN                            1.375000   \n",
       "3                               1.0                            2.285714   \n",
       "4                               NaN                            1.833333   \n",
       "\n",
       "   avg_number_disbur_pawn_normal_asset  car_title_nums_day_disbur_rate  \\\n",
       "0                                  1.0                             0.0   \n",
       "1                                  1.0                             0.0   \n",
       "2                                  1.0                             0.0   \n",
       "3                                  NaN                             0.1   \n",
       "4                                  NaN                             0.0   \n",
       "\n",
       "   motor_title_nums_day_disbur_rate  normal_asset_nums_day_disbur_rate  \\\n",
       "0                               0.9                                0.3   \n",
       "1                               1.0                                0.2   \n",
       "2                               0.8                                0.3   \n",
       "3                               0.7                                0.0   \n",
       "4                               0.6                                0.0   \n",
       "\n",
       "   car_title_closed_rate  car_title_early_closed_rate  \\\n",
       "0                    NaN                          NaN   \n",
       "1                    NaN                          NaN   \n",
       "2                    NaN                          NaN   \n",
       "3                    0.0                          0.0   \n",
       "4                    0.0                          0.0   \n",
       "\n",
       "   car_title_closed_to_open_new_rate  motor_title_closed_rate  \\\n",
       "0                                NaN                 0.030534   \n",
       "1                                NaN                 0.017266   \n",
       "2                                NaN                 0.030651   \n",
       "3                                NaN                 0.033708   \n",
       "4                                NaN                 0.056604   \n",
       "\n",
       "   motor_title_early_closed_rate  motor_title_closed_to_open_new_rate  \\\n",
       "0                       0.000000                                  0.5   \n",
       "1                       0.002878                                  0.0   \n",
       "2                       0.000000                                  0.0   \n",
       "3                       0.000000                                  0.0   \n",
       "4                       0.009434                                  0.0   \n",
       "\n",
       "   normal_asset_closed_rate  normal_asset_early_closed_rate  \\\n",
       "0                  0.400000                        0.400000   \n",
       "1                  0.208333                        0.041667   \n",
       "2                  0.272727                        0.030303   \n",
       "3                       NaN                             NaN   \n",
       "4                  0.000000                        0.000000   \n",
       "\n",
       "   normal_asset_closed_to_open_new_rate  region_id               asm_name  \\\n",
       "0                                   0.0          3           Hồ Xuân Dũng   \n",
       "1                                   0.0          3  Nguyễn Đình Long Vinh   \n",
       "2                                   0.0          1       Nguyễn Mạnh Linh   \n",
       "3                                   NaN          3             Lê Thị Lan   \n",
       "4                                   NaN          3       Nguyễn Hoàng Huy   \n",
       "\n",
       "  asm_risk_level        shop_age_group  \n",
       "0              3  running_less_than_3m  \n",
       "1              3         running_7-12m  \n",
       "2              3         running_7-12m  \n",
       "3              4          running_4-6m  \n",
       "4              5  running_less_than_3m  "
      ]
     },
     "execution_count": 1298,
     "metadata": {},
     "output_type": "execute_result"
    }
   ],
   "source": [
    "compliance_table.head(5)"
   ]
  },
  {
   "cell_type": "code",
   "execution_count": null,
   "metadata": {},
   "outputs": [],
   "source": []
  },
  {
   "cell_type": "code",
   "execution_count": null,
   "metadata": {},
   "outputs": [],
   "source": []
  },
  {
   "cell_type": "markdown",
   "metadata": {},
   "source": [
    "TRAIN AND PREDICT"
   ]
  },
  {
   "cell_type": "code",
   "execution_count": 920,
   "metadata": {},
   "outputs": [],
   "source": [
    "train_data = pd.read_excel(r'D:\\F88\\Python code\\shop_score_source\\official_code_for_shop_warning\\T10\\ngay_30.xlsx', sheet_name='training')"
   ]
  },
  {
   "cell_type": "code",
   "execution_count": 1299,
   "metadata": {},
   "outputs": [],
   "source": [
    "test_data = compliance_table"
   ]
  },
  {
   "cell_type": "code",
   "execution_count": 1300,
   "metadata": {},
   "outputs": [],
   "source": [
    "test_data['day'] = [i.day for i in test_data['extract_date']]\n",
    "# [datetime.strptime(i, \"%Y-%m-%d\").day for i in test_data['extract_date']]"
   ]
  },
  {
   "cell_type": "code",
   "execution_count": 1105,
   "metadata": {},
   "outputs": [],
   "source": [
    "sub_train_dataset = train_data[['day',\n",
    "'shop_age_group',\n",
    "'extract_date',\n",
    "'shopname',\n",
    "'Compliance_risk_Rating',\n",
    "'shop_age_m',\n",
    "'province_name',\n",
    "'province_id',\n",
    "'province_risk_level',\n",
    "'asm_name',\n",
    "'asm_risk_level',\n",
    "'distance_shop_to_ho_km',\n",
    "'faults_high_risk',\n",
    "'faults_low_risk',\n",
    "'faults_medium_risk',\n",
    "'faults_significant_risk',\n",
    "'rolledb0_rate_motor_title',\n",
    "'growth_rate_car_title',\n",
    "'growth_rate_motor_title',\n",
    "'growth_rate_normal_asset',\n",
    "'nums_grownet_car_title',\n",
    "'nums_grownet_motor_title',\n",
    "'nums_grownet_normal_asset',\n",
    "'balance_motor_title_dpd0_rate',\n",
    "'balance_motor_title_dpd0110_rate',\n",
    "'balance_norm_ass_dpd0_rate',\n",
    "'balance_norm_ass_dpd0110_rate',\n",
    "'balance_all_dpd_lessthan11',\n",
    "'total_pawn_car_title',\n",
    "'total_pawn_motor_title',\n",
    "'motor_title_ontime_rate',\n",
    "'car_title_ontime_rate',\n",
    "'motor_title_early_rate_remind',\n",
    "'car_title_early_rate_remind',\n",
    "'fav_rate',\n",
    "'cash_count_diff_no_clear_reason',\n",
    "'cash_count_diff_no_reason',\n",
    "'cash_count_diff_not_found_reason',\n",
    "'all_cash_count_times',\n",
    "'cash_count_diff_rate',\n",
    "'median_cash',\n",
    "'pol_cartt_all',\n",
    "'pol_cartt_success_rate',\n",
    "'pol_total_to_shop',\n",
    "'pol_rate_total_success',\n",
    "'traffic_car_title',\n",
    "'traffic_car_title_convert_rate',\n",
    "'all_traffic',\n",
    "'all_traffic_convert_rate',\n",
    "'kpi_complete_rate',\n",
    "'nums_diff_day_from_last_direct_audit',\n",
    "'nums_diff_day_from_last_indirect_audit',\n",
    "'opening_period_motor_title_25%',\n",
    "'opening_period_normal_asset_25%',\n",
    "'avg_number_disbur_pawn_car_title',\n",
    "'avg_number_disbur_pawn_motor_title',\n",
    "'avg_number_disbur_pawn_normal_asset',\n",
    "'car_title_nums_day_disbur_rate',\n",
    "'motor_title_nums_day_disbur_rate',\n",
    "'normal_asset_nums_day_disbur_rate',\n",
    "'car_title_closed_rate',\n",
    "'motor_title_closed_rate',\n",
    "'normal_asset_closed_rate',\n",
    "'region_id']]"
   ]
  },
  {
   "cell_type": "code",
   "execution_count": 1301,
   "metadata": {},
   "outputs": [],
   "source": [
    "# 'Compliance_risk_Rating',\n",
    "sub_test_dataset = test_data[['day',\n",
    "'shop_age_group',\n",
    "'extract_date',\n",
    "'shopname',\n",
    "\n",
    "'shop_age_m',\n",
    "'province_name',\n",
    "'province_id',\n",
    "'province_risk_level',\n",
    "'asm_name',\n",
    "'asm_risk_level',\n",
    "'distance_shop_to_ho_km',\n",
    "'faults_high_risk',\n",
    "'faults_low_risk',\n",
    "'faults_medium_risk',\n",
    "'faults_significant_risk',\n",
    "'rolledb0_rate_motor_title',\n",
    "'growth_rate_car_title',\n",
    "'growth_rate_motor_title',\n",
    "'growth_rate_normal_asset',\n",
    "'nums_grownet_car_title',\n",
    "'nums_grownet_motor_title',\n",
    "'nums_grownet_normal_asset',\n",
    "'balance_motor_title_dpd0_rate',\n",
    "'balance_motor_title_dpd0110_rate',\n",
    "'balance_norm_ass_dpd0_rate',\n",
    "'balance_norm_ass_dpd0110_rate',\n",
    "'balance_all_dpd_lessthan11',\n",
    "'total_pawn_car_title',\n",
    "'total_pawn_motor_title',\n",
    "'motor_title_ontime_rate',\n",
    "'car_title_ontime_rate',\n",
    "'motor_title_early_rate_remind',\n",
    "'car_title_early_rate_remind',\n",
    "'fav_rate',\n",
    "'cash_count_diff_no_clear_reason',\n",
    "'cash_count_diff_no_reason',\n",
    "'cash_count_diff_not_found_reason',\n",
    "'all_cash_count_times',\n",
    "'cash_count_diff_rate',\n",
    "'median_cash',\n",
    "'pol_cartt_all',\n",
    "'pol_cartt_success_rate',\n",
    "'pol_total_to_shop',\n",
    "'pol_rate_total_success',\n",
    "'traffic_car_title',\n",
    "'traffic_car_title_convert_rate',\n",
    "'all_traffic',\n",
    "'all_traffic_convert_rate',\n",
    "'kpi_complete_rate',\n",
    "'nums_diff_day_from_last_direct_audit',\n",
    "'nums_diff_day_from_last_indirect_audit',\n",
    "'opening_period_motor_title_25%',\n",
    "'opening_period_normal_asset_25%',\n",
    "'avg_number_disbur_pawn_car_title',\n",
    "'avg_number_disbur_pawn_motor_title',\n",
    "'avg_number_disbur_pawn_normal_asset',\n",
    "'car_title_nums_day_disbur_rate',\n",
    "'motor_title_nums_day_disbur_rate',\n",
    "'normal_asset_nums_day_disbur_rate',\n",
    "'car_title_closed_rate',\n",
    "'motor_title_closed_rate',\n",
    "'normal_asset_closed_rate',\n",
    "'region_id']]"
   ]
  },
  {
   "cell_type": "code",
   "execution_count": 1113,
   "metadata": {},
   "outputs": [],
   "source": [
    "x_train_dataset = sub_train_dataset.drop(columns=['shop_age_group',\n",
    "'extract_date',\n",
    "'shopname',\n",
    "'Compliance_risk_Rating',\n",
    "'province_name',\n",
    "'province_id',\n",
    "'asm_name'])\n",
    "\n",
    "y_train_dataset = sub_train_dataset[['Compliance_risk_Rating']]"
   ]
  },
  {
   "cell_type": "code",
   "execution_count": 1302,
   "metadata": {},
   "outputs": [],
   "source": [
    "# 'Compliance_risk_Rating',\n",
    "x_test_dataset = sub_test_dataset.drop(columns=['shop_age_group',\n",
    "'extract_date',\n",
    "'shopname',\n",
    "\n",
    "'province_name',\n",
    "'province_id',\n",
    "'asm_name'])"
   ]
  },
  {
   "cell_type": "code",
   "execution_count": 1303,
   "metadata": {},
   "outputs": [],
   "source": [
    "x_train_dataset = x_train_dataset.replace(r'^\\s*$',0, regex=True)\n",
    "x_train_dataset = x_train_dataset.replace([np.inf, -np.inf],0)\n",
    "x_train_dataset = x_train_dataset.fillna(0)"
   ]
  },
  {
   "cell_type": "code",
   "execution_count": 1304,
   "metadata": {},
   "outputs": [],
   "source": [
    "x_test_dataset = x_test_dataset.replace(r'^\\s*$',0, regex=True)\n",
    "x_test_dataset = x_test_dataset.replace([np.inf, -np.inf],0)\n",
    "x_test_dataset = x_test_dataset.fillna(0)"
   ]
  },
  {
   "cell_type": "code",
   "execution_count": null,
   "metadata": {},
   "outputs": [],
   "source": []
  },
  {
   "cell_type": "code",
   "execution_count": 1119,
   "metadata": {},
   "outputs": [],
   "source": [
    "x_train_dataset = sm.add_constant(x_train_dataset)"
   ]
  },
  {
   "cell_type": "code",
   "execution_count": 1306,
   "metadata": {},
   "outputs": [],
   "source": [
    "x_test_dataset['const'] = 1.0"
   ]
  },
  {
   "cell_type": "code",
   "execution_count": 1307,
   "metadata": {},
   "outputs": [],
   "source": [
    "x_test_dataset = x_test_dataset[['const', 'day', 'shop_age_m', 'province_risk_level', 'asm_risk_level',\n",
    "       'distance_shop_to_ho_km', 'faults_high_risk', 'faults_low_risk',\n",
    "       'faults_medium_risk', 'faults_significant_risk',\n",
    "       'rolledb0_rate_motor_title', 'growth_rate_car_title',\n",
    "       'growth_rate_motor_title', 'growth_rate_normal_asset',\n",
    "       'nums_grownet_car_title', 'nums_grownet_motor_title',\n",
    "       'nums_grownet_normal_asset', 'balance_motor_title_dpd0_rate',\n",
    "       'balance_motor_title_dpd0110_rate', 'balance_norm_ass_dpd0_rate',\n",
    "       'balance_norm_ass_dpd0110_rate', 'balance_all_dpd_lessthan11',\n",
    "       'total_pawn_car_title', 'total_pawn_motor_title',\n",
    "       'motor_title_ontime_rate', 'car_title_ontime_rate',\n",
    "       'motor_title_early_rate_remind', 'car_title_early_rate_remind',\n",
    "       'fav_rate', 'cash_count_diff_no_clear_reason',\n",
    "       'cash_count_diff_no_reason', 'cash_count_diff_not_found_reason',\n",
    "       'all_cash_count_times', 'cash_count_diff_rate', 'median_cash',\n",
    "       'pol_cartt_all', 'pol_cartt_success_rate', 'pol_total_to_shop',\n",
    "       'pol_rate_total_success', 'traffic_car_title',\n",
    "       'traffic_car_title_convert_rate', 'all_traffic',\n",
    "       'all_traffic_convert_rate', 'kpi_complete_rate',\n",
    "       'nums_diff_day_from_last_direct_audit',\n",
    "       'nums_diff_day_from_last_indirect_audit',\n",
    "       'opening_period_motor_title_25%', 'opening_period_normal_asset_25%',\n",
    "       'avg_number_disbur_pawn_car_title',\n",
    "       'avg_number_disbur_pawn_motor_title',\n",
    "       'avg_number_disbur_pawn_normal_asset', 'car_title_nums_day_disbur_rate',\n",
    "       'motor_title_nums_day_disbur_rate', 'normal_asset_nums_day_disbur_rate',\n",
    "       'car_title_closed_rate', 'motor_title_closed_rate',\n",
    "       'normal_asset_closed_rate', 'region_id']]"
   ]
  },
  {
   "cell_type": "code",
   "execution_count": 1308,
   "metadata": {},
   "outputs": [],
   "source": [
    "ols_model = sm.OLS(y_train_dataset,x_train_dataset)\n",
    "\n",
    "ols_result = ols_model.fit()"
   ]
  },
  {
   "cell_type": "code",
   "execution_count": 1309,
   "metadata": {},
   "outputs": [],
   "source": [
    "x_test_dataset['province_risk_level'] = [int(i) for i in x_test_dataset['province_risk_level']]\n",
    "x_test_dataset['asm_risk_level'] = [int(i) for i in x_test_dataset['asm_risk_level']]"
   ]
  },
  {
   "cell_type": "code",
   "execution_count": 1132,
   "metadata": {},
   "outputs": [],
   "source": [
    "# x_test_dataset = pd.read_excel('x_test_dataset.xlsx')"
   ]
  },
  {
   "cell_type": "code",
   "execution_count": 1310,
   "metadata": {},
   "outputs": [
    {
     "name": "stderr",
     "output_type": "stream",
     "text": [
      "D:\\Anaconda3\\lib\\site-packages\\ipykernel_launcher.py:1: SettingWithCopyWarning: \n",
      "A value is trying to be set on a copy of a slice from a DataFrame.\n",
      "Try using .loc[row_indexer,col_indexer] = value instead\n",
      "\n",
      "See the caveats in the documentation: http://pandas.pydata.org/pandas-docs/stable/indexing.html#indexing-view-versus-copy\n",
      "  \"\"\"Entry point for launching an IPython kernel.\n"
     ]
    }
   ],
   "source": [
    "sub_test_dataset['ols_pred_score'] = ols_result.predict(x_test_dataset)"
   ]
  },
  {
   "cell_type": "code",
   "execution_count": 1311,
   "metadata": {},
   "outputs": [
    {
     "name": "stderr",
     "output_type": "stream",
     "text": [
      "D:\\Anaconda3\\lib\\site-packages\\ipykernel_launcher.py:1: SettingWithCopyWarning: \n",
      "A value is trying to be set on a copy of a slice from a DataFrame.\n",
      "Try using .loc[row_indexer,col_indexer] = value instead\n",
      "\n",
      "See the caveats in the documentation: http://pandas.pydata.org/pandas-docs/stable/indexing.html#indexing-view-versus-copy\n",
      "  \"\"\"Entry point for launching an IPython kernel.\n"
     ]
    }
   ],
   "source": [
    "sub_test_dataset['ols_pred_score'] = sub_test_dataset['ols_pred_score']*100"
   ]
  },
  {
   "cell_type": "code",
   "execution_count": 1312,
   "metadata": {},
   "outputs": [],
   "source": [
    "all_final = sub_test_dataset[['day',\n",
    "'shop_age_group',\n",
    "'extract_date',\n",
    "'shopname',\n",
    "'ols_pred_score',              \n",
    "'shop_age_m',\n",
    "'province_name',\n",
    "'province_id',\n",
    "'province_risk_level',\n",
    "'asm_name',\n",
    "'asm_risk_level',\n",
    "'distance_shop_to_ho_km',\n",
    "'faults_high_risk',\n",
    "'faults_low_risk',\n",
    "'faults_medium_risk',\n",
    "'faults_significant_risk',\n",
    "'rolledb0_rate_motor_title',\n",
    "'growth_rate_car_title',\n",
    "'growth_rate_motor_title',\n",
    "'growth_rate_normal_asset',\n",
    "'nums_grownet_car_title',\n",
    "'nums_grownet_motor_title',\n",
    "'nums_grownet_normal_asset',\n",
    "'balance_motor_title_dpd0_rate',\n",
    "'balance_motor_title_dpd0110_rate',\n",
    "'balance_norm_ass_dpd0_rate',\n",
    "'balance_norm_ass_dpd0110_rate',\n",
    "'balance_all_dpd_lessthan11',\n",
    "'total_pawn_car_title',\n",
    "'total_pawn_motor_title',\n",
    "'motor_title_ontime_rate',\n",
    "'car_title_ontime_rate',\n",
    "'motor_title_early_rate_remind',\n",
    "'car_title_early_rate_remind',\n",
    "'fav_rate',\n",
    "'cash_count_diff_no_clear_reason',\n",
    "'cash_count_diff_no_reason',\n",
    "'cash_count_diff_not_found_reason',\n",
    "'all_cash_count_times',\n",
    "'cash_count_diff_rate',\n",
    "'median_cash',\n",
    "'pol_cartt_all',\n",
    "'pol_cartt_success_rate',\n",
    "'pol_total_to_shop',\n",
    "'pol_rate_total_success',\n",
    "'traffic_car_title',\n",
    "'traffic_car_title_convert_rate',\n",
    "'all_traffic',\n",
    "'all_traffic_convert_rate',\n",
    "'kpi_complete_rate',\n",
    "'nums_diff_day_from_last_direct_audit',\n",
    "'nums_diff_day_from_last_indirect_audit',\n",
    "'opening_period_motor_title_25%',\n",
    "'opening_period_normal_asset_25%',\n",
    "'avg_number_disbur_pawn_car_title',\n",
    "'avg_number_disbur_pawn_motor_title',\n",
    "'avg_number_disbur_pawn_normal_asset',\n",
    "'car_title_nums_day_disbur_rate',\n",
    "'motor_title_nums_day_disbur_rate',\n",
    "'normal_asset_nums_day_disbur_rate',\n",
    "'car_title_closed_rate',\n",
    "'motor_title_closed_rate',\n",
    "'normal_asset_closed_rate',\n",
    "'region_id']]"
   ]
  },
  {
   "cell_type": "code",
   "execution_count": 1313,
   "metadata": {},
   "outputs": [
    {
     "name": "stderr",
     "output_type": "stream",
     "text": [
      "D:\\Anaconda3\\lib\\site-packages\\ipykernel_launcher.py:1: SettingWithCopyWarning: \n",
      "A value is trying to be set on a copy of a slice from a DataFrame.\n",
      "Try using .loc[row_indexer,col_indexer] = value instead\n",
      "\n",
      "See the caveats in the documentation: http://pandas.pydata.org/pandas-docs/stable/indexing.html#indexing-view-versus-copy\n",
      "  \"\"\"Entry point for launching an IPython kernel.\n"
     ]
    }
   ],
   "source": [
    "all_final['Compliance_risk_Rating'] = np.nan"
   ]
  },
  {
   "cell_type": "code",
   "execution_count": 1314,
   "metadata": {},
   "outputs": [],
   "source": [
    "all_final = all_final[['day', 'shop_age_group', 'extract_date', 'shopname',\n",
    "       'Compliance_risk_Rating', 'ols_pred_score', 'shop_age_m',\n",
    "       'province_name', 'province_id', 'province_risk_level', 'asm_name',\n",
    "       'asm_risk_level', 'distance_shop_to_ho_km', 'faults_high_risk',\n",
    "       'faults_low_risk', 'faults_medium_risk', 'faults_significant_risk',\n",
    "       'rolledb0_rate_motor_title', 'growth_rate_car_title',\n",
    "       'growth_rate_motor_title', 'growth_rate_normal_asset',\n",
    "       'nums_grownet_car_title', 'nums_grownet_motor_title',\n",
    "       'nums_grownet_normal_asset', 'balance_motor_title_dpd0_rate',\n",
    "       'balance_motor_title_dpd0110_rate', 'balance_norm_ass_dpd0_rate',\n",
    "       'balance_norm_ass_dpd0110_rate', 'balance_all_dpd_lessthan11',\n",
    "       'total_pawn_car_title', 'total_pawn_motor_title',\n",
    "       'motor_title_ontime_rate', 'car_title_ontime_rate',\n",
    "       'motor_title_early_rate_remind', 'car_title_early_rate_remind',\n",
    "       'fav_rate', 'cash_count_diff_no_clear_reason',\n",
    "       'cash_count_diff_no_reason', 'cash_count_diff_not_found_reason',\n",
    "       'all_cash_count_times', 'cash_count_diff_rate', 'median_cash',\n",
    "       'pol_cartt_all', 'pol_cartt_success_rate', 'pol_total_to_shop',\n",
    "       'pol_rate_total_success', 'traffic_car_title',\n",
    "       'traffic_car_title_convert_rate', 'all_traffic',\n",
    "       'all_traffic_convert_rate', 'kpi_complete_rate',\n",
    "       'nums_diff_day_from_last_direct_audit',\n",
    "       'nums_diff_day_from_last_indirect_audit',\n",
    "       'opening_period_motor_title_25%', 'opening_period_normal_asset_25%',\n",
    "       'avg_number_disbur_pawn_car_title',\n",
    "       'avg_number_disbur_pawn_motor_title',\n",
    "       'avg_number_disbur_pawn_normal_asset', 'car_title_nums_day_disbur_rate',\n",
    "       'motor_title_nums_day_disbur_rate', 'normal_asset_nums_day_disbur_rate',\n",
    "       'car_title_closed_rate', 'motor_title_closed_rate',\n",
    "       'normal_asset_closed_rate', 'region_id']]"
   ]
  },
  {
   "cell_type": "code",
   "execution_count": 1315,
   "metadata": {},
   "outputs": [],
   "source": [
    "update_table = all_final[all_final['shop_age_group']!='running_less_than_3m']"
   ]
  },
  {
   "cell_type": "code",
   "execution_count": 1316,
   "metadata": {},
   "outputs": [],
   "source": [
    "update_data(control_wb,'10/20/25/30-Compliance',update_table)"
   ]
  },
  {
   "cell_type": "code",
   "execution_count": null,
   "metadata": {},
   "outputs": [],
   "source": []
  },
  {
   "cell_type": "code",
   "execution_count": 1137,
   "metadata": {},
   "outputs": [],
   "source": [
    "# all_final.to_excel('sub_test_dataset.xlsx', index = False)"
   ]
  },
  {
   "cell_type": "code",
   "execution_count": 9,
   "metadata": {},
   "outputs": [],
   "source": [
    "# all_final = pd.read_excel('sub_test_dataset.xlsx')"
   ]
  },
  {
   "cell_type": "code",
   "execution_count": 2,
   "metadata": {},
   "outputs": [],
   "source": [
    "# import pygsheets"
   ]
  },
  {
   "cell_type": "code",
   "execution_count": 31,
   "metadata": {},
   "outputs": [],
   "source": [
    "# client = pygsheets.authorize(service_account_file=r'D:\\F88\\Python code\\Immediate_warning\\service_account.json')\n",
    "\n",
    "# temp_wb_id = '1-XjnJNeEwEuk13_xQjmewvZ6aAXFRXSlcEcQpaOq3vE'\n",
    "# # 1yapjrHmzWCEUr_CL94aUiNo7TLMKLPTyMefNiDZ8MmE\n",
    "# sheet = client.open_by_key(temp_wb_id)\n",
    "\n",
    "\n",
    "\n",
    "# # raw_sheet = sheet.worksheet_by_title('raw_data_new')\n",
    "# raw_sheet = sheet.worksheet_by_title('20/25/30-T10')\n",
    "# # raw_sheet_1 = sheet.worksheet_by_title('running-shop-1-3m')\n",
    "# # raw_sheet_2 = sheet.worksheet_by_title('running-shop-4-6m')\n",
    "# # raw_sheet_3 = sheet.worksheet_by_title('running-shop-7-12m')\n",
    "# # raw_sheet_4 = sheet.worksheet_by_title('running-shop-13-24m')\n",
    "# # raw_sheet_5 = sheet.worksheet_by_title('running-shop-more-than-24m')"
   ]
  },
  {
   "cell_type": "code",
   "execution_count": 32,
   "metadata": {},
   "outputs": [
    {
     "name": "stderr",
     "output_type": "stream",
     "text": [
      "D:\\Anaconda3\\lib\\site-packages\\pygsheets\\worksheet.py:1304: SettingWithCopyWarning: \n",
      "A value is trying to be set on a copy of a slice from a DataFrame.\n",
      "Try using .loc[row_indexer,col_indexer] = value instead\n",
      "\n",
      "See the caveats in the documentation: http://pandas.pydata.org/pandas-docs/stable/indexing.html#indexing-view-versus-copy\n",
      "  df[col] = df[col].astype('unicode').replace('<NA>', nan)\n"
     ]
    }
   ],
   "source": [
    "# raw_sheet.set_dataframe(template_data, (2,1))"
   ]
  },
  {
   "cell_type": "code",
   "execution_count": null,
   "metadata": {},
   "outputs": [],
   "source": []
  }
 ],
 "metadata": {
  "kernelspec": {
   "display_name": "Python 3",
   "language": "python",
   "name": "python3"
  },
  "language_info": {
   "codemirror_mode": {
    "name": "ipython",
    "version": 3
   },
   "file_extension": ".py",
   "mimetype": "text/x-python",
   "name": "python",
   "nbconvert_exporter": "python",
   "pygments_lexer": "ipython3",
   "version": "3.7.1"
  }
 },
 "nbformat": 4,
 "nbformat_minor": 2
}
